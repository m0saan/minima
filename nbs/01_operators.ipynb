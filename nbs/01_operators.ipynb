{
 "cells": [
  {
   "cell_type": "markdown",
   "id": "6274abbb-d877-4da6-87a9-196ec41bcce5",
   "metadata": {},
   "source": [
    "# operators\n",
    "\n",
    "> Fill in a module description here"
   ]
  },
  {
   "cell_type": "code",
   "execution_count": null,
   "id": "06cf77c9-d5dc-473d-9624-6679191a3c6a",
   "metadata": {},
   "outputs": [],
   "source": [
    "#| default_exp operators"
   ]
  },
  {
   "cell_type": "code",
   "execution_count": null,
   "id": "5485133d-9a30-4362-af02-d6724482f459",
   "metadata": {},
   "outputs": [],
   "source": [
    "#| export\n",
    "\"\"\"Operator implementations.\"\"\"\n",
    "\n",
    "from numbers import Number\n",
    "from typing import Optional, List\n",
    "from minima.autograd import NDArray\n",
    "from minima.autograd import Operator, Tensor, Value, TensorOp\n",
    "from collections import namedtuple\n",
    "from typing import NamedTuple\n",
    "import numpy\n",
    "\n",
    "# NOTE: we will import numpy as the array_api\n",
    "# as the backend for our computations, this line will change in later homeworks\n",
    "import numpy as ARRAY_API"
   ]
  },
  {
   "cell_type": "code",
   "execution_count": null,
   "id": "bb4e9796-2da9-4668-ae19-cf547e25ddd1",
   "metadata": {},
   "outputs": [],
   "source": [
    "#| export\n",
    "class EWiseAdd(TensorOp):\n",
    "    def compute(self, a: NDArray, b: NDArray):\n",
    "        return a + b\n",
    "\n",
    "    def gradient(self, out_grad: Tensor, node: Tensor):\n",
    "        return out_grad, out_grad\n",
    "\n",
    "\n",
    "def add(a, b):\n",
    "    return EWiseAdd()(a, b)"
   ]
  },
  {
   "cell_type": "code",
   "execution_count": null,
   "id": "3ebbb12f-03ea-4d3e-beb4-e15c0eb7fc88",
   "metadata": {},
   "outputs": [],
   "source": [
    "#| export\n",
    "class AddScalar(TensorOp):\n",
    "    def __init__(self, scalar):\n",
    "        self.scalar = scalar\n",
    "\n",
    "    def compute(self, a: NDArray):\n",
    "        return a + self.scalar\n",
    "\n",
    "    def gradient(self, out_grad: Tensor, node: Tensor):\n",
    "        return (out_grad, )\n",
    "\n",
    "\n",
    "def add_scalar(a, scalar):\n",
    "    return AddScalar(scalar)(a)"
   ]
  },
  {
   "cell_type": "code",
   "execution_count": null,
   "id": "67e4faab-b6f8-4332-ba80-06564920e53c",
   "metadata": {},
   "outputs": [],
   "source": [
    "#| export\n",
    "class EWiseMul(TensorOp):\n",
    "    def compute(self, a: NDArray, b: NDArray):\n",
    "        return a * b\n",
    "\n",
    "    def gradient(self, out_grad: Tensor, node: Tensor):\n",
    "        lhs, rhs = node.inputs\n",
    "        return out_grad * rhs, out_grad * lhs\n",
    "\n",
    "\n",
    "def multiply(a, b):\n",
    "    return EWiseMul()(a, b)"
   ]
  },
  {
   "cell_type": "code",
   "execution_count": null,
   "id": "64a28132-02d4-4b27-bc07-5897f88a9cd2",
   "metadata": {},
   "outputs": [],
   "source": [
    "#| export\n",
    "class MulScalar(TensorOp):\n",
    "    def __init__(self, scalar):\n",
    "        self.scalar = scalar\n",
    "\n",
    "    def compute(self, a: NDArray):\n",
    "        return a * self.scalar\n",
    "\n",
    "    def gradient(self, out_grad: Tensor, node: Tensor):\n",
    "        return (out_grad * self.scalar, )\n",
    "    \n",
    "def mul_scalar(a, scalar):\n",
    "    return MulScalar(scalar)(a)"
   ]
  },
  {
   "cell_type": "code",
   "execution_count": null,
   "id": "a1cb206c-0218-4701-a3bf-eda4ae77788b",
   "metadata": {},
   "outputs": [],
   "source": []
  }
 ],
 "metadata": {
  "kernelspec": {
   "display_name": "python3",
   "language": "python",
   "name": "python3"
  }
 },
 "nbformat": 4,
 "nbformat_minor": 5
}
