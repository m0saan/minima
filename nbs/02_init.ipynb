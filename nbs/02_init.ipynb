{
 "cells": [
  {
   "cell_type": "markdown",
   "id": "27fbd750-b4bb-42ae-9dd8-0003b190a125",
   "metadata": {},
   "source": [
    "# init\n",
    "\n",
    "> The `init` module in the `minima` (mi) library provides a suite of tensor initialization functions to create and initialize tensors in various ways. Each function in this module represents a different strategy for initializing the values of a tensor, such as uniform or normal random values, constant values, or specialized initializations like Xavier or Kaiming methods.\n",
    "\n",
    "> These initialization methods serve as the starting point for the optimization process in neural networks, setting the stage for gradient descent and other optimization methods to fine-tune the model's parameters during training. Carefully chosen initial values can significantly influence the training dynamics and the final performance of a model.\n",
    "The `init` module is a critical part of the deep learning pipeline, providing the essential first step in the process of training a neural network. It ensures a smooth and effective transition from model definition to the iterative process of learning from data."
   ]
  },
  {
   "cell_type": "code",
   "execution_count": null,
   "id": "7357fd7b-1a97-4472-9513-b88c591e00cc",
   "metadata": {},
   "outputs": [],
   "source": [
    "#| default_exp init"
   ]
  },
  {
   "cell_type": "code",
   "execution_count": null,
   "id": "9f157480-9c08-42ae-a859-012d60db3f87",
   "metadata": {},
   "outputs": [],
   "source": [
    "#| export\n",
    "import math\n",
    "import minima as mi"
   ]
  },
  {
   "cell_type": "markdown",
   "id": "974276f8-0ba7-49fb-94e6-d2adae691c36",
   "metadata": {},
   "source": [
    "1. **`rand`**: This function generates a tensor filled with random numbers drawn from a uniform distribution between `low` and `high` (defaulting to 0 and 1). It does this by creating an array of random values on the specified device (defaulting to CPU), then scales and shifts these values to the correct range. The result is wrapped in a `mi.Tensor` object, which supports automatic differentiation if `requires_grad` is True."
   ]
  },
  {
   "cell_type": "code",
   "execution_count": null,
   "id": "538189b4-cb31-4348-9af4-6186274a5036",
   "metadata": {},
   "outputs": [],
   "source": [
    "#| export\n",
    "def rand(\n",
    "    *shape, # The shape of the output tensor. Variable length argument list. \n",
    "    low=0.0, # Lower bound of the uniform distribution. Default is 0.0.\n",
    "    high=1.0, # Upper bound of the uniform distribution. Default is 1.0.\n",
    "    device=None, # The device where the tensor will be allocated. Default is CPU.\n",
    "    dtype='float32', # The data type of the tensor. Default is 'float32'.\n",
    "    requires_grad=False # If True, the tensor is created with gradient tracking. Default is False.\n",
    "):\n",
    "    \"\"\"\n",
    "    Generates a tensor with random numbers uniformly distributed between `low` and `high`.\n",
    "\n",
    "    Parameters\n",
    "    ----------\n",
    "    *shape : int\n",
    "    low : float, optional\n",
    "    high : float, optional\n",
    "    device : Device, optional\n",
    "    dtype : str, optional\n",
    "    requires_grad : bool, optional\n",
    "    \n",
    "    Returns\n",
    "    -------\n",
    "    mi.Tensor\n",
    "        A tensor of shape `shape`, filled with random numbers from the uniform distribution between `low` and `high`.\n",
    "\n",
    "    \"\"\"\n",
    "    device = mi.cpu() if device is None else device\n",
    "    array = device.rand(*shape) * (high - low) + low\n",
    "    return mi.Tensor(array, device=device, dtype=dtype, requires_grad=requires_grad)\n"
   ]
  },
  {
   "cell_type": "code",
   "execution_count": null,
   "id": "93b68976-7696-43bf-b0ca-f7935eda9331",
   "metadata": {},
   "outputs": [],
   "source": [
    "rand(10,5)"
   ]
  },
  {
   "cell_type": "code",
   "execution_count": null,
   "id": "74b739cc-e625-4160-ae41-022effe3c565",
   "metadata": {},
   "outputs": [],
   "source": [
    "t = rand(10,5)"
   ]
  },
  {
   "cell_type": "code",
   "execution_count": null,
   "id": "0fc7790c-bd97-454b-8bb0-a1fdc94f7144",
   "metadata": {},
   "outputs": [],
   "source": [
    "t.dtype, t.device, t.requires_grad"
   ]
  },
  {
   "cell_type": "markdown",
   "id": "0fec7bc6-86c7-436a-808f-35de5f94509d",
   "metadata": {},
   "source": [
    "2. **`randn`**: Similar to `rand`, but generates numbers from a normal distribution with the specified mean and standard deviation (defaulting to 0 and 1). This is done by creating an array of normally-distributed random values, then scaling and shifting them to match the requested parameters."
   ]
  },
  {
   "cell_type": "code",
   "execution_count": null,
   "id": "6f9bee34-4205-44f8-86d9-fd7d7b33c39c",
   "metadata": {},
   "outputs": [],
   "source": [
    "#| export\n",
    "def randn(\n",
    "    *shape, # The shape of the output tensor. Variable length argument list.\n",
    "    mean=0.0,# Mean of the normal distribution. Default is 0.0.\n",
    "    std=1.0, # Standard deviation of the normal distribution. Default is 1.0.\n",
    "    device=None,# The device where the tensor will be allocated. Default is CPU.\n",
    "    dtype=\"float32\",# The data type of the tensor. Default is 'float32'.\n",
    "    requires_grad=False # If True, the tensor is created with gradient tracking. Default is False.\n",
    "):\n",
    "    \"\"\"\n",
    "    Generates a tensor with random numbers normally distributed with specified mean and standard deviation.\n",
    "\n",
    "    Parameters\n",
    "    ----------\n",
    "    *shape : int\n",
    "    mean : float, optional\n",
    "    std : float, optional\n",
    "    device : Device, optional\n",
    "    dtype : str, optional\n",
    "    requires_grad : bool, optional\n",
    "    \n",
    "    Returns\n",
    "    -------\n",
    "    mi.Tensor\n",
    "        A tensor of shape `shape`, filled with random numbers from the normal distribution with the specified mean and standard deviation.\n",
    "    \"\"\"\n",
    "    device = mi.cpu() if device is None else device\n",
    "    array = device.randn(*shape) * std + mean\n",
    "    return mi.Tensor(array, device=device, dtype=dtype, requires_grad=requires_grad)"
   ]
  },
  {
   "cell_type": "code",
   "execution_count": null,
   "id": "718fc7c1-1628-4368-8e9b-d0cf22e9c00f",
   "metadata": {},
   "outputs": [],
   "source": [
    "t = randn(5,5, requires_grad=True)"
   ]
  },
  {
   "cell_type": "code",
   "execution_count": null,
   "id": "69baef10-0dfe-43d8-b999-9e58ac9d619f",
   "metadata": {},
   "outputs": [],
   "source": [
    "t"
   ]
  },
  {
   "cell_type": "code",
   "execution_count": null,
   "id": "010d6791-37d8-4b0f-addc-8947697af949",
   "metadata": {},
   "outputs": [],
   "source": [
    "t.shape, t.dtype, t.device, t.requires_grad"
   ]
  },
  {
   "cell_type": "markdown",
   "id": "35d1a3e9-0427-49bc-96cc-bea58ea00f05",
   "metadata": {},
   "source": [
    "3. **`constant`**: This function creates a tensor filled with a constant value `c` (defaulting to 1). It does this by creating an array of ones on the specified device and then scaling these ones by the constant value."
   ]
  },
  {
   "cell_type": "code",
   "execution_count": null,
   "id": "cda1969b-50f2-41cf-996d-119a4fc10ace",
   "metadata": {},
   "outputs": [],
   "source": [
    "#| export\n",
    "def constant(\n",
    "    *shape, # The shape of the output tensor. Variable length argument list.\n",
    "    c=1.0, # The constant value to fill the tensor with. Default is 1.0.\n",
    "    device=None, # The device where the tensor will be allocated. Default is CPU.\n",
    "    dtype=\"float32\", # The data type of the tensor. Default is 'float32'.\n",
    "    requires_grad=False # If True, the tensor is created with gradient tracking. Default is False.\n",
    "):\n",
    "    \"\"\"\n",
    "    Generates a tensor filled with a constant value.\n",
    "\n",
    "    Parameters\n",
    "    ----------\n",
    "    *shape : int\n",
    "    c : float, optional\n",
    "    device : Device, optional\n",
    "    dtype : str, optional\n",
    "    requires_grad : bool, optional\n",
    "    \n",
    "    Returns\n",
    "    -------\n",
    "    mi.Tensor\n",
    "        A tensor of shape `shape`, filled with the constant value `c`.\n",
    "    \"\"\"\n",
    "    device = mi.cpu() if device is None else device\n",
    "    array = device.ones(*shape, dtype=dtype) * c # note: can change dtype\n",
    "    return mi.Tensor(array, device=device, dtype=dtype, requires_grad=requires_grad)"
   ]
  },
  {
   "cell_type": "markdown",
   "id": "2066880d-8dd1-44fc-a734-23384d48f511",
   "metadata": {},
   "source": [
    "4. **`ones` and `zeros`**: These functions are simply shortcuts for creating tensors filled with ones or zeros, respectively. They're implemented by calling the `constant` function with `c` set to 1 or 0."
   ]
  },
  {
   "cell_type": "code",
   "execution_count": null,
   "id": "ce69cd16-b102-4719-adc2-2e3384e465e7",
   "metadata": {},
   "outputs": [],
   "source": [
    "#| export\n",
    "def ones(\n",
    "    *shape, # The shape of the output tensor. Variable length argument list.\n",
    "    device=None, # The device where the tensor will be allocated. Default is CPU.\n",
    "    dtype=\"float32\", # The data type of the tensor. Default is 'float32'.\n",
    "    requires_grad=False # If True, the tensor is created with gradient tracking. Default is False.\n",
    "):\n",
    "    \"\"\"\n",
    "    Generates a tensor filled with ones.\n",
    "\n",
    "    Parameters\n",
    "    ----------\n",
    "    *shape : int\n",
    "    device : Device, optional\n",
    "    dtype : str, optional\n",
    "    requires_grad : bool, optional\n",
    "    \n",
    "    Returns\n",
    "    -------\n",
    "    mi.Tensor\n",
    "        A tensor of shape `shape`, filled with ones.\n",
    "    \"\"\"\n",
    "    return constant(*shape, c=1.0, device=device, dtype=dtype, requires_grad=requires_grad)"
   ]
  },
  {
   "cell_type": "code",
   "execution_count": null,
   "id": "5c1dbe54-c223-4a98-b5ba-5047643303f6",
   "metadata": {},
   "outputs": [],
   "source": [
    "#| export\n",
    "def zeros(\n",
    "    *shape, # The shape of the output tensor. Variable length argument list.\n",
    "    device=None, # The device where the tensor will be allocated. Default is CPU.\n",
    "    dtype=\"float32\", # The data type of the tensor. Default is 'float32'.\n",
    "    requires_grad=False # If True, the tensor is created with gradient tracking. Default is False.\n",
    "):\n",
    "    \"\"\"\n",
    "    Generates a tensor filled with zeros.\n",
    "\n",
    "    Parameters\n",
    "    ----------\n",
    "    *shape : int\n",
    "    device : Device, optional\n",
    "    dtype : str, optional\n",
    "    requires_grad : bool, optional\n",
    "    \n",
    "    Returns\n",
    "    -------\n",
    "    mi.Tensor\n",
    "        A tensor of shape `shape`, filled with zeros.\n",
    "    \"\"\"\n",
    "    return constant(*shape, c=0.0, device=device, dtype=dtype, requires_grad=requires_grad)"
   ]
  },
  {
   "cell_type": "markdown",
   "id": "a4cedbc9-465b-4cf0-9808-73d7a85b939f",
   "metadata": {},
   "source": [
    "5. **`randb`**: This function creates a binary tensor, with each element independently being True with probability `p` (defaulting to 0.5). This is done by generating uniformly-distributed random numbers and checking whether they're less than or equal to `p`."
   ]
  },
  {
   "cell_type": "code",
   "execution_count": null,
   "id": "0530b009-bf8c-4041-8996-bae788916f06",
   "metadata": {},
   "outputs": [],
   "source": [
    "#| export\n",
    "def randb(\n",
    "    *shape, # The shape of the output tensor. Variable length argument list.\n",
    "    p=0.5, # The probability of generating a `True` (1) in the binary tensor. Default is 0.5.\n",
    "    device=None, # The device where the tensor will be allocated. Default is CPU.\n",
    "    dtype=\"bool\", # The data type of the tensor. Default is 'bool'.\n",
    "    requires_grad=False # If True, the tensor is created with gradient tracking. Default is False.\n",
    "):\n",
    "    \"\"\"\n",
    "    Generates a binary tensor with random values of `True` or `False`.\n",
    "\n",
    "    Parameters\n",
    "    ----------\n",
    "    *shape : int\n",
    "    p : float, optional\n",
    "    device : Device, optional\n",
    "    dtype : str, optional\n",
    "    requires_grad : bool, optional\n",
    "    \n",
    "    Returns\n",
    "    -------\n",
    "    mi.Tensor\n",
    "        A binary tensor of shape `shape`, filled with random boolean values, where the probability of `True` is `p`.\n",
    "    \"\"\"\n",
    "    device = mi.cpu() if device is None else device\n",
    "    array = device.rand(*shape) <= p\n",
    "    return mi.Tensor(array, device=device, dtype=dtype, requires_grad=requires_grad)"
   ]
  },
  {
   "cell_type": "markdown",
   "id": "65449aee-3c32-4e7e-b05f-e168788aee75",
   "metadata": {},
   "source": [
    "6. **`one_hot`**: This function creates a one-hot encoding tensor. Given a size `n` and an index `i`, it creates a tensor of size `n` with a 1 at the `i`-th position and 0s elsewhere."
   ]
  },
  {
   "cell_type": "code",
   "execution_count": null,
   "id": "a1d368ba-89f5-4628-bf6b-30cff26d2a63",
   "metadata": {},
   "outputs": [],
   "source": [
    "#| export\n",
    "def one_hot(\n",
    "    n, # The size of the one-hot vector.\n",
    "    i, # The index to be set to `1` in the one-hot vector.\n",
    "    device=None, # The device where the tensor will be allocated. Default is CPU.\n",
    "    dtype=\"float32\", # The data type of the tensor. Default is 'float32'.\n",
    "    requires_grad=False # If True, the tensor is created with gradient tracking. Default is False.\n",
    "):\n",
    "    \"\"\"\n",
    "    Generates a one-hot encoding tensor.\n",
    "\n",
    "    Parameters\n",
    "    ----------\n",
    "    n : int\n",
    "    i : int\n",
    "    device : Device, optional\n",
    "    dtype : str, optional\n",
    "    requires_grad : bool, optional\n",
    "    \n",
    "    Returns\n",
    "    -------\n",
    "    mi.Tensor\n",
    "        A one-hot tensor of size `n`, with the `i`th element set to `1` and all others set to `0`.\n",
    "    \"\"\"\n",
    "    device = mi.cpu() if device is None else device\n",
    "    return mi.Tensor(device.one_hot(n,i.numpy(), dtype=dtype), device=device, requires_grad=requires_grad)"
   ]
  },
  {
   "cell_type": "markdown",
   "id": "1db18cd9-190f-4103-9866-6e7fe7f4863a",
   "metadata": {},
   "source": [
    "## Export"
   ]
  },
  {
   "cell_type": "code",
   "execution_count": null,
   "id": "e2a1dfee-dfdd-402c-ba30-997ddeab9776",
   "metadata": {},
   "outputs": [],
   "source": [
    "import nbdev; nbdev.nbdev_export()"
   ]
  }
 ],
 "metadata": {
  "kernelspec": {
   "display_name": "python3",
   "language": "python",
   "name": "python3"
  }
 },
 "nbformat": 4,
 "nbformat_minor": 5
}
