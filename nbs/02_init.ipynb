{
 "cells": [
  {
   "cell_type": "markdown",
   "id": "27fbd750-b4bb-42ae-9dd8-0003b190a125",
   "metadata": {},
   "source": [
    "# init\n",
    "\n",
    "> The `init` module in the `minima` (mi) library provides a suite of tensor initialization functions to create and initialize tensors in various ways. Each function in this module represents a different strategy for initializing the values of a tensor, such as uniform or normal random values, constant values, or specialized initializations like Xavier or Kaiming methods.\n",
    "\n",
    "> These initialization methods serve as the starting point for the optimization process in neural networks, setting the stage for gradient descent and other optimization methods to fine-tune the model's parameters during training. Carefully chosen initial values can significantly influence the training dynamics and the final performance of a model.\n",
    "The `init` module is a critical part of the deep learning pipeline, providing the essential first step in the process of training a neural network. It ensures a smooth and effective transition from model definition to the iterative process of learning from data."
   ]
  },
  {
   "cell_type": "code",
   "execution_count": null,
   "id": "7357fd7b-1a97-4472-9513-b88c591e00cc",
   "metadata": {},
   "outputs": [],
   "source": [
    "#| default_exp init"
   ]
  },
  {
   "cell_type": "code",
   "execution_count": null,
   "id": "9f157480-9c08-42ae-a859-012d60db3f87",
   "metadata": {},
   "outputs": [],
   "source": [
    "#| export\n",
    "import math\n",
    "import minima as mi\n",
    "from functools import partial"
   ]
  },
  {
   "cell_type": "markdown",
   "id": "974276f8-0ba7-49fb-94e6-d2adae691c36",
   "metadata": {},
   "source": [
    "1. **`rand`**: This function generates a tensor filled with random numbers drawn from a uniform distribution between `low` and `high` (defaulting to 0 and 1). It does this by creating an array of random values on the specified device (defaulting to CPU), then scales and shifts these values to the correct range. The result is wrapped in a `mi.Tensor` object, which supports automatic differentiation if `requires_grad` is True."
   ]
  },
  {
   "cell_type": "code",
   "execution_count": null,
   "id": "538189b4-cb31-4348-9af4-6186274a5036",
   "metadata": {},
   "outputs": [],
   "source": [
    "#| export\n",
    "def rand(\n",
    "    *shape, # The shape of the output tensor. Variable length argument list. \n",
    "    low=0.0, # Lower bound of the uniform distribution. Default is 0.0.\n",
    "    high=1.0, # Upper bound of the uniform distribution. Default is 1.0.\n",
    "    device=None, # The device where the tensor will be allocated. Default is CPU.\n",
    "    dtype='float32', # The data type of the tensor. Default is 'float32'.\n",
    "    requires_grad=False # If True, the tensor is created with gradient tracking. Default is False.\n",
    "):\n",
    "    \"\"\"\n",
    "    Generates a tensor with random numbers uniformly distributed between `low` and `high`.\n",
    "\n",
    "    Parameters\n",
    "    ----------\n",
    "    *shape : int\n",
    "    low : float, optional\n",
    "    high : float, optional\n",
    "    device : Device, optional\n",
    "    dtype : str, optional\n",
    "    requires_grad : bool, optional\n",
    "    \n",
    "    Returns\n",
    "    -------\n",
    "    mi.Tensor\n",
    "        A tensor of shape `shape`, filled with random numbers from the uniform distribution between `low` and `high`.\n",
    "\n",
    "    \"\"\"\n",
    "    device = mi.cpu() if device is None else device\n",
    "    array = device.rand(*shape) * (high - low) + low\n",
    "    return mi.Tensor(array, device=device, dtype=dtype, requires_grad=requires_grad)\n"
   ]
  },
  {
   "cell_type": "code",
   "execution_count": null,
   "id": "93b68976-7696-43bf-b0ca-f7935eda9331",
   "metadata": {},
   "outputs": [
    {
     "data": {
      "text/plain": [
       "minima.Tensor(\n",
       "[[0.423019 0.831303 0.593536 0.464066 0.622164]\n",
       " [0.519762 0.698    0.364592 0.593321 0.299263]\n",
       " [0.330883 0.566039 0.327606 0.069224 0.077561]\n",
       " [0.591434 0.092411 0.049555 0.729441 0.001867]\n",
       " [0.60242  0.36611  0.162999 0.602054 0.684817]\n",
       " [0.545608 0.415636 0.746867 0.923219 0.67769 ]\n",
       " [0.809501 0.496377 0.527514 0.333276 0.479529]\n",
       " [0.080732 0.63581  0.950788 0.387371 0.570476]\n",
       " [0.677467 0.620451 0.702335 0.071747 0.067357]\n",
       " [0.66082  0.372642 0.226082 0.687941 0.761832]])"
      ]
     },
     "execution_count": null,
     "metadata": {},
     "output_type": "execute_result"
    }
   ],
   "source": [
    "rand(10,5)"
   ]
  },
  {
   "cell_type": "code",
   "execution_count": null,
   "id": "74b739cc-e625-4160-ae41-022effe3c565",
   "metadata": {},
   "outputs": [],
   "source": [
    "t = rand(10,5)"
   ]
  },
  {
   "cell_type": "code",
   "execution_count": null,
   "id": "0fc7790c-bd97-454b-8bb0-a1fdc94f7144",
   "metadata": {},
   "outputs": [
    {
     "data": {
      "text/plain": [
       "(dtype('float32'), minima.cpu(), False)"
      ]
     },
     "execution_count": null,
     "metadata": {},
     "output_type": "execute_result"
    }
   ],
   "source": [
    "t.dtype, t.device, t.requires_grad"
   ]
  },
  {
   "cell_type": "markdown",
   "id": "0fec7bc6-86c7-436a-808f-35de5f94509d",
   "metadata": {},
   "source": [
    "2. **`randn`**: Similar to `rand`, but generates numbers from a normal distribution with the specified mean and standard deviation (defaulting to 0 and 1). This is done by creating an array of normally-distributed random values, then scaling and shifting them to match the requested parameters."
   ]
  },
  {
   "cell_type": "code",
   "execution_count": null,
   "id": "6f9bee34-4205-44f8-86d9-fd7d7b33c39c",
   "metadata": {},
   "outputs": [],
   "source": [
    "#| export\n",
    "def randn(\n",
    "    *shape, # The shape of the output tensor. Variable length argument list.\n",
    "    mean=0.0,# Mean of the normal distribution. Default is 0.0.\n",
    "    std=1.0, # Standard deviation of the normal distribution. Default is 1.0.\n",
    "    device=None,# The device where the tensor will be allocated. Default is CPU.\n",
    "    dtype=\"float32\",# The data type of the tensor. Default is 'float32'.\n",
    "    requires_grad=False # If True, the tensor is created with gradient tracking. Default is False.\n",
    "):\n",
    "    \"\"\"\n",
    "    Generates a tensor with random numbers normally distributed with specified mean and standard deviation.\n",
    "\n",
    "    Parameters\n",
    "    ----------\n",
    "    *shape : int\n",
    "    mean : float, optional\n",
    "    std : float, optional\n",
    "    device : Device, optional\n",
    "    dtype : str, optional\n",
    "    requires_grad : bool, optional\n",
    "    \n",
    "    Returns\n",
    "    -------\n",
    "    mi.Tensor\n",
    "        A tensor of shape `shape`, filled with random numbers from the normal distribution with the specified mean and standard deviation.\n",
    "    \"\"\"\n",
    "    device = mi.cpu() if device is None else device\n",
    "    array = device.randn(*shape) * std + mean\n",
    "    return mi.Tensor(array, device=device, dtype=dtype, requires_grad=requires_grad)"
   ]
  },
  {
   "cell_type": "code",
   "execution_count": null,
   "id": "718fc7c1-1628-4368-8e9b-d0cf22e9c00f",
   "metadata": {},
   "outputs": [],
   "source": [
    "t = randn(5,5, requires_grad=True)"
   ]
  },
  {
   "cell_type": "code",
   "execution_count": null,
   "id": "69baef10-0dfe-43d8-b999-9e58ac9d619f",
   "metadata": {},
   "outputs": [
    {
     "data": {
      "text/plain": [
       "minima.Tensor(\n",
       "[[ 0.934699 -1.883731  1.56695   0.929079  0.73024 ]\n",
       " [ 2.066303  0.109121  1.161415 -1.184726 -1.753147]\n",
       " [ 0.339952 -1.125624 -0.740886 -0.808628  0.024874]\n",
       " [-0.307566  1.072183  0.013086  0.407447 -0.705648]\n",
       " [-0.956348 -0.291481 -0.1       0.70653   0.500862]])"
      ]
     },
     "execution_count": null,
     "metadata": {},
     "output_type": "execute_result"
    }
   ],
   "source": [
    "t"
   ]
  },
  {
   "cell_type": "code",
   "execution_count": null,
   "id": "010d6791-37d8-4b0f-addc-8947697af949",
   "metadata": {},
   "outputs": [
    {
     "data": {
      "text/plain": [
       "((5, 5), dtype('float32'), minima.cpu(), True)"
      ]
     },
     "execution_count": null,
     "metadata": {},
     "output_type": "execute_result"
    }
   ],
   "source": [
    "t.shape, t.dtype, t.device, t.requires_grad"
   ]
  },
  {
   "cell_type": "markdown",
   "id": "35d1a3e9-0427-49bc-96cc-bea58ea00f05",
   "metadata": {},
   "source": [
    "3. **`constant`**: This function creates a tensor filled with a constant value `c` (defaulting to 1). It does this by creating an array of ones on the specified device and then scaling these ones by the constant value."
   ]
  },
  {
   "cell_type": "code",
   "execution_count": null,
   "id": "cda1969b-50f2-41cf-996d-119a4fc10ace",
   "metadata": {},
   "outputs": [],
   "source": [
    "#| export\n",
    "def constant(\n",
    "    *shape, # The shape of the output tensor. Variable length argument list.\n",
    "    c=1.0, # The constant value to fill the tensor with. Default is 1.0.\n",
    "    device=None, # The device where the tensor will be allocated. Default is CPU.\n",
    "    dtype=\"float32\", # The data type of the tensor. Default is 'float32'.\n",
    "    requires_grad=False # If True, the tensor is created with gradient tracking. Default is False.\n",
    "):\n",
    "    \"\"\"\n",
    "    Generates a tensor filled with a constant value.\n",
    "\n",
    "    Parameters\n",
    "    ----------\n",
    "    *shape : int\n",
    "    c : float, optional\n",
    "    device : Device, optional\n",
    "    dtype : str, optional\n",
    "    requires_grad : bool, optional\n",
    "    \n",
    "    Returns\n",
    "    -------\n",
    "    mi.Tensor\n",
    "        A tensor of shape `shape`, filled with the constant value `c`.\n",
    "    \"\"\"\n",
    "    device = mi.cpu() if device is None else device\n",
    "    array = device.ones(*shape, dtype=dtype) * c # note: can change dtype\n",
    "    return mi.Tensor(array, device=device, dtype=dtype, requires_grad=requires_grad)"
   ]
  },
  {
   "cell_type": "markdown",
   "id": "2066880d-8dd1-44fc-a734-23384d48f511",
   "metadata": {},
   "source": [
    "4. **`ones` and `zeros`**: These functions are simply shortcuts for creating tensors filled with ones or zeros, respectively. They're implemented by calling the `constant` function with `c` set to 1 or 0."
   ]
  },
  {
   "cell_type": "code",
   "execution_count": null,
   "id": "ce69cd16-b102-4719-adc2-2e3384e465e7",
   "metadata": {},
   "outputs": [],
   "source": [
    "#| export\n",
    "def ones(\n",
    "    *shape, # The shape of the output tensor. Variable length argument list.\n",
    "    device=None, # The device where the tensor will be allocated. Default is CPU.\n",
    "    dtype=\"float32\", # The data type of the tensor. Default is 'float32'.\n",
    "    requires_grad=False # If True, the tensor is created with gradient tracking. Default is False.\n",
    "):\n",
    "    \"\"\"\n",
    "    Generates a tensor filled with ones.\n",
    "\n",
    "    Parameters\n",
    "    ----------\n",
    "    *shape : int\n",
    "    device : Device, optional\n",
    "    dtype : str, optional\n",
    "    requires_grad : bool, optional\n",
    "    \n",
    "    Returns\n",
    "    -------\n",
    "    mi.Tensor\n",
    "        A tensor of shape `shape`, filled with ones.\n",
    "    \"\"\"\n",
    "    return constant(*shape, c=1.0, device=device, dtype=dtype, requires_grad=requires_grad)"
   ]
  },
  {
   "cell_type": "code",
   "execution_count": null,
   "id": "5c1dbe54-c223-4a98-b5ba-5047643303f6",
   "metadata": {},
   "outputs": [],
   "source": [
    "#| export\n",
    "def zeros(\n",
    "    *shape, # The shape of the output tensor. Variable length argument list.\n",
    "    device=None, # The device where the tensor will be allocated. Default is CPU.\n",
    "    dtype=\"float32\", # The data type of the tensor. Default is 'float32'.\n",
    "    requires_grad=False # If True, the tensor is created with gradient tracking. Default is False.\n",
    "):\n",
    "    \"\"\"\n",
    "    Generates a tensor filled with zeros.\n",
    "\n",
    "    Parameters\n",
    "    ----------\n",
    "    *shape : int\n",
    "    device : Device, optional\n",
    "    dtype : str, optional\n",
    "    requires_grad : bool, optional\n",
    "    \n",
    "    Returns\n",
    "    -------\n",
    "    mi.Tensor\n",
    "        A tensor of shape `shape`, filled with zeros.\n",
    "    \"\"\"\n",
    "    return constant(*shape, c=0.0, device=device, dtype=dtype, requires_grad=requires_grad)"
   ]
  },
  {
   "cell_type": "markdown",
   "id": "a4cedbc9-465b-4cf0-9808-73d7a85b939f",
   "metadata": {},
   "source": [
    "5. **`randb`**: This function creates a binary tensor, with each element independently being True with probability `p` (defaulting to 0.5). This is done by generating uniformly-distributed random numbers and checking whether they're less than or equal to `p`."
   ]
  },
  {
   "cell_type": "code",
   "execution_count": null,
   "id": "0530b009-bf8c-4041-8996-bae788916f06",
   "metadata": {},
   "outputs": [],
   "source": [
    "#| export\n",
    "def randb(\n",
    "    *shape, # The shape of the output tensor. Variable length argument list.\n",
    "    p=0.5, # The probability of generating a `True` (1) in the binary tensor. Default is 0.5.\n",
    "    device=None, # The device where the tensor will be allocated. Default is CPU.\n",
    "    dtype=\"bool\", # The data type of the tensor. Default is 'bool'.\n",
    "    requires_grad=False # If True, the tensor is created with gradient tracking. Default is False.\n",
    "):\n",
    "    \"\"\"\n",
    "    Generates a binary tensor with random values of `True` or `False`.\n",
    "\n",
    "    Parameters\n",
    "    ----------\n",
    "    *shape : int\n",
    "    p : float, optional\n",
    "    device : Device, optional\n",
    "    dtype : str, optional\n",
    "    requires_grad : bool, optional\n",
    "    \n",
    "    Returns\n",
    "    -------\n",
    "    mi.Tensor\n",
    "        A binary tensor of shape `shape`, filled with random boolean values, where the probability of `True` is `p`.\n",
    "    \"\"\"\n",
    "    device = mi.cpu() if device is None else device\n",
    "    array = device.rand(*shape) <= p\n",
    "    return mi.Tensor(array, device=device, dtype=dtype, requires_grad=requires_grad)"
   ]
  },
  {
   "cell_type": "markdown",
   "id": "65449aee-3c32-4e7e-b05f-e168788aee75",
   "metadata": {},
   "source": [
    "6. **`one_hot`**: This function creates a one-hot encoding tensor. Given a size `n` and an index `i`, it creates a tensor of size `n` with a 1 at the `i`-th position and 0s elsewhere."
   ]
  },
  {
   "cell_type": "code",
   "execution_count": null,
   "id": "a1d368ba-89f5-4628-bf6b-30cff26d2a63",
   "metadata": {},
   "outputs": [],
   "source": [
    "#| export\n",
    "def one_hot(\n",
    "    n, # The size of the one-hot vector.\n",
    "    i, # The index to be set to `1` in the one-hot vector.\n",
    "    device=None, # The device where the tensor will be allocated. Default is CPU.\n",
    "    dtype=\"float32\", # The data type of the tensor. Default is 'float32'.\n",
    "    requires_grad=False # If True, the tensor is created with gradient tracking. Default is False.\n",
    "):\n",
    "    \"\"\"\n",
    "    Generates a one-hot encoding tensor.\n",
    "\n",
    "    Parameters\n",
    "    ----------\n",
    "    n : int\n",
    "    i : int\n",
    "    device : Device, optional\n",
    "    dtype : str, optional\n",
    "    requires_grad : bool, optional\n",
    "    \n",
    "    Returns\n",
    "    -------\n",
    "    mi.Tensor\n",
    "        A one-hot tensor of size `n`, with the `i`th element set to `1` and all others set to `0`.\n",
    "    \"\"\"\n",
    "    device = mi.cpu() if device is None else device\n",
    "    return mi.Tensor(device.one_hot(n,i.numpy(), dtype=dtype), device=device, requires_grad=requires_grad)"
   ]
  },
  {
   "cell_type": "markdown",
   "id": "8068d9d1-0d91-4988-a473-2bb2280c73c6",
   "metadata": {},
   "source": [
    "### Glorot/Xavier Initialization"
   ]
  },
  {
   "cell_type": "markdown",
   "id": "28ae412a-f9ba-4759-b218-68b10474de14",
   "metadata": {},
   "source": [
    "Xavier initialization, also known as Glorot initialization, is a technique for initializing the weights in artificial neural networks to improve the stability and speed of neural network training. In the paper Understanding the difficulty of training deep feedforward neural networks, researchers identified a value for the variance of the weights that works well to mitigate the problems we've discussed.\n",
    "\n",
    "Here's a high-level idea of how it works:\n",
    "\n",
    "Neural networks are trained using a method called backpropagation, which involves iteratively adjusting the weights of the network based on the difference between the network's current output and its desired output.\n",
    "\n",
    "One challenge with this process is that the scale of the initial weights can have a large impact on the network's learning dynamics. If the weights are too large or too small, the network might learn very slowly, or not at all. This is particularly an issue in deep networks where there are many layers of weights to learn.\n",
    "\n",
    "Xavier initialization seeks to address this issue by scaling the initial weights in proportion to the number of inputs and outputs of the neuron. Specifically, in Xavier initialization, the weights are drawn from a distribution with zero a mean of 0 and a variance defined as: \n",
    "\n",
    "$$\n",
    "\\text{var}(w)=\\frac{2}{n_{in}+n_{out}}\n",
    "$$\n",
    "\n",
    "where $n_{in}$ is the number of inputs to the neuron and $n_{out}$ is the number of outputs. In order to induce the weights to acquire a standard deviation of $\\sqrt{\\frac{2}{n_{in}+n_{out}}}$, consequently causing a variance of $\\frac{2}{n_{in}+n_{out}}$, the weights are initially produced randomly from a normal distribution with a mean of 0 and a standard deviation of 1.\n",
    "\n",
    "Subsequently, every weight is multiplied by $\\sqrt{\\frac{2}{n_{in}+n_{out}}}$, effectively shifting the standard deviation of the distribution to $\\sqrt{\\frac{2}{n_{in}+n_{out}}}$.\n",
    "\n",
    "![Xavier initialization from a normal distribution](../assets/10.xav-init-normal.svg)"
   ]
  },
  {
   "cell_type": "code",
   "execution_count": null,
   "id": "1b0860fb-8b2b-46d6-9ab7-b41c242e5985",
   "metadata": {},
   "outputs": [],
   "source": [
    "#| export\n",
    "def xavier_normal(\n",
    "    fan_in, # The number of input units in the weight tensor.\n",
    "    fan_out, # The number of output units in the weight tensor.\n",
    "    gain=1.0, # Scaling factor for the standard deviation of the normal distribution. Default is 1.0.\n",
    "    **kwargs # Additional arguments.\n",
    "):\n",
    "    \"\"\"\n",
    "    Initializes a tensor using Xavier (Glorot) Normal initialization.\n",
    "\n",
    "    This initializer is designed to keep the scale of the gradients roughly the same\n",
    "    in all layers. It samples weights from a normal distribution centered around 0 with \n",
    "    standard deviation `gain * sqrt(2 / (fan_in + fan_out))`\n",
    "\n",
    "    Parameters\n",
    "    ----------\n",
    "    fan_in : int\n",
    "        The number of input units in the weight tensor.\n",
    "    fan_out : int\n",
    "        The number of output units in the weight tensor.\n",
    "    gain : float, optional\n",
    "        Scaling factor for the standard deviation of the normal distribution. Default is 1.0.\n",
    "    **kwargs\n",
    "        Additional arguments.\n",
    "    \n",
    "    Returns\n",
    "    -------\n",
    "    mi.Tensor\n",
    "        A tensor initialized using Xavier Normal initialization.\n",
    "    \"\"\"\n",
    "    std = gain * math.sqrt(2 / (fan_in + fan_out))\n",
    "    return randn(fan_in, fan_out) * std"
   ]
  },
  {
   "cell_type": "markdown",
   "id": "a0dbc42b-b13f-4168-9f84-6204076ab210",
   "metadata": {},
   "source": [
    "It's worth noting that there is also a Xavier initialization variant suitable for uniform distributions as opposed to normal distributions. The resultant weight matrix will comprise values sampled from a uniform distribution within the scope of $(-a, a)$, with $a$ equalling $\\sqrt{\\frac{6}{n_{in}+n_{out}}}$.\n",
    "\n",
    "![Xavier initialization from a uniform distribution](../assets/11.xav-uniform.svg)"
   ]
  },
  {
   "cell_type": "code",
   "execution_count": null,
   "id": "41d8f7a5-1ec1-424e-801b-9542e2a5261a",
   "metadata": {},
   "outputs": [],
   "source": [
    "#| export\n",
    "def xavier_uniform(\n",
    "    fan_in, # The number of input units in the weight tensor.\n",
    "    fan_out, # The number of output units in the weight tensor.\n",
    "    gain=1.0, # Scaling factor for the range of the uniform distribution. Default is 1.0.\n",
    "    **kwargs # Additional arguments.\n",
    "):\n",
    "    \"\"\"\n",
    "    Initializes a tensor using Xavier (Glorot) Uniform initialization.\n",
    "\n",
    "    This initializer is designed to keep the scale of the gradients roughly the same\n",
    "    in all layers. It samples weights from a uniform distribution within the range \n",
    "    `[-gain * sqrt(6 / (fan_in + fan_out)), gain * sqrt(6 / (fan_in + fan_out))]`\n",
    "\n",
    "    Parameters\n",
    "    ----------\n",
    "    fan_in : int\n",
    "        The number of input units in the weight tensor.\n",
    "    fan_out : int\n",
    "        The number of output units in the weight tensor.\n",
    "    gain : float, optional\n",
    "        Scaling factor for the range of the uniform distribution. Default is 1.0.\n",
    "    **kwargs\n",
    "        Additional arguments.\n",
    "    \n",
    "    Returns\n",
    "    -------\n",
    "    mi.Tensor\n",
    "        A tensor initialized using Xavier Uniform initialization.\n",
    "    \"\"\"\n",
    "    a = gain * math.sqrt(6 / (fan_in + fan_out))\n",
    "    return rand(fan_in, fan_out, low=-a, high=a)"
   ]
  },
  {
   "cell_type": "markdown",
   "id": "c2c2b0a4-ae23-422f-a69d-1b2e61b3577f",
   "metadata": {},
   "source": [
    "Both normal and uniform distributions have demonstrated effectiveness in practical applications, and it is up to the network designer to select the preferred method. Xavier initialization is frequently utilized in practical scenarios to promote more stable training and circumvent issues that stem from unstable gradients, such as the vanishing and exploding gradient predicaments."
   ]
  },
  {
   "cell_type": "code",
   "execution_count": null,
   "id": "bb04de89-8310-4c26-83d3-dbc3a3869e63",
   "metadata": {},
   "outputs": [],
   "source": [
    "# Initialize weights with Xavier/Glorot initialization\n",
    "W = xavier_uniform(fan_in=10, fan_out=5)"
   ]
  },
  {
   "cell_type": "code",
   "execution_count": null,
   "id": "f43d2073-07e0-4e88-8f9c-2ff7563c1f67",
   "metadata": {},
   "outputs": [
    {
     "data": {
      "text/plain": [
       "minima.Tensor(\n",
       "[[-0.221499 -0.06155  -0.077118  0.56846  -0.418471]\n",
       " [-0.149945 -0.553442  0.581115 -0.460948 -0.420142]\n",
       " [-0.355427 -0.066154  0.355814  0.082557 -0.556673]\n",
       " [-0.497098 -0.087087 -0.051234 -0.238323 -0.290452]\n",
       " [-0.280464  0.334714  0.116377 -0.481387 -0.388613]\n",
       " [ 0.110984  0.625096 -0.228138 -0.500467  0.502594]\n",
       " [-0.400704  0.197745  0.166157 -0.479262  0.577242]\n",
       " [-0.196405 -0.577416 -0.605291 -0.294985 -0.606795]\n",
       " [ 0.321031 -0.098246  0.278399  0.047973  0.295106]\n",
       " [-0.385705  0.34554  -0.519177  0.389492  0.040751]])"
      ]
     },
     "execution_count": null,
     "metadata": {},
     "output_type": "execute_result"
    }
   ],
   "source": [
    "W"
   ]
  },
  {
   "cell_type": "code",
   "execution_count": null,
   "id": "22961e7d-414e-4287-b5be-b6c62c870ba2",
   "metadata": {},
   "outputs": [],
   "source": [
    "W = xavier_normal(fan_in=10, fan_out=5)"
   ]
  },
  {
   "cell_type": "code",
   "execution_count": null,
   "id": "5572ebce-3093-4421-ad12-e37c8260dcc0",
   "metadata": {},
   "outputs": [
    {
     "data": {
      "text/plain": [
       "minima.Tensor(\n",
       "[[-0.063341 -0.374345 -0.352547  0.789786 -0.782333]\n",
       " [ 0.195202 -0.227442  0.252176  0.225021  0.105454]\n",
       " [-0.174635 -0.043868  0.195862 -0.917395  0.502817]\n",
       " [ 0.177671  0.373282  0.601478  0.593381 -0.1945  ]\n",
       " [ 0.056075  0.224731 -0.458342 -0.133477 -0.138557]\n",
       " [ 0.393741  0.096873  0.514728  0.195166 -0.260037]\n",
       " [-0.161321 -0.056462  0.609632 -0.470343  0.118147]\n",
       " [-0.359394 -0.297816  0.383475  0.310443  0.510362]\n",
       " [-0.433323 -0.49009  -0.362796  0.263523 -0.023001]\n",
       " [-0.156537  0.312429 -0.113006 -0.195525  0.197912]])"
      ]
     },
     "execution_count": null,
     "metadata": {},
     "output_type": "execute_result"
    }
   ],
   "source": [
    "W"
   ]
  },
  {
   "cell_type": "markdown",
   "id": "30772e1d-bd7b-4200-bf2b-30bc439fa653",
   "metadata": {},
   "source": [
    "The original Xavier initialization was designed for use with the sigmoid activation function, which is symmetric around zero. If you're using a different activation function, like ReLU, you might need a different initialization scheme, like He initialization, which is a modification of Xavier initialization designed for ReLU and other non-symmetric activation functions."
   ]
  },
  {
   "cell_type": "markdown",
   "id": "def6e431-fdc2-4fa8-b4c1-5a3ef5fb7115",
   "metadata": {},
   "source": [
    "### He Initialization"
   ]
  },
  {
   "cell_type": "markdown",
   "id": "1b27217d-311f-47f4-afa3-ca6acc160b38",
   "metadata": {},
   "source": [
    "Kaiming Initialization, also known as He Initialization, is a method used in initializing the weights of Neural Networks. This initialization method is designed specifically for neural networks with Rectified Linear Unit (ReLU) activation functions. It was proposed by Kaiming He et al. in their 2015 paper \"Delving Deep into Rectifiers: Surpassing Human-Level Performance on ImageNet Classification\".\n",
    "\n",
    "**Principles of Kaiming Initialization:**\n",
    "\n",
    "The basic idea of Kaiming Initialization is to keep the variance of the input and output of each layer of the neural network as consistent as possible during the forward and backward propagation. This is to solve the problem of gradient dispersion or explosion caused by the deepening of the neural network layer, which can help the model learn effectively.\n",
    "\n",
    "Kaiming initialization initializes a weight matrix $w$ with random values sampled from a normal distribution with mean of $0$ and variance\n",
    "\n",
    "$$\\text{var}(w)=\\frac{2}{n_{i}}$$\n",
    "\n",
    "Here, `n_i` is the number of inputs to the neuron, `w` is the weight vector.\n",
    "\n",
    "Just as with Xavier initialization, to force the weights distribution to take on this variance, the weights ar first randomly generated from a normal distribution with centered around 0 with a standard deviation of 1. Then, each weight is multiplied by \n",
    "\n",
    "$$\\sqrt{\\frac{2}{n_{i}}}$$\n",
    "\n",
    "![Kaiming initialization from a normal distributiont](../assets/12.kaiming-normal.svg)\n",
    "\n",
    "where `n` is the number of inputs coming into a neuron (also known as the \"fan-in\")."
   ]
  },
  {
   "cell_type": "code",
   "execution_count": null,
   "id": "c580a1eb-8321-4dac-8fa1-f09cf7012fe3",
   "metadata": {},
   "outputs": [],
   "source": [
    "#| export\n",
    "def kaiming_normal(\n",
    "    fan_in,  # Number of input units in the weight tensor.\n",
    "    fan_out, # Number of output units in the weight tensor.\n",
    "    nonlinearity=\"relu\", # The non-linear function (`nn.functional` name), recommended to use only with 'relu' or 'leaky_relu'. Default is 'relu'.\n",
    "    **kwargs # Additional keyword arguments\n",
    "):\n",
    "    \"\"\"\n",
    "    Fills the input Tensor with values according to the method described in\n",
    "    \"Delving deep into rectifiers: Surpassing human-level performance on ImageNet classification\" - He, K. et al. (2015), using a normal distribution.\n",
    "    The resulting tensor will have values sampled from normal distribution with mean=0 and std=sqrt(2 / fan_in).\n",
    "\n",
    "    Parameters\n",
    "    ----------\n",
    "    fan_in : int\n",
    "        Number of input units in the weight tensor.\n",
    "    fan_out : int\n",
    "        Number of output units in the weight tensor.\n",
    "    nonlinearity : str, optional\n",
    "        The non-linear function (`nn.functional` name), recommended to use only with 'relu' or 'leaky_relu'. Default is 'relu'.\n",
    "    **kwargs : optional\n",
    "        Additional keyword arguments.\n",
    "    \n",
    "    Returns\n",
    "    -------\n",
    "    mi.Tensor\n",
    "        A tensor of shape (fan_in, fan_out), filled with random numbers from the normal distribution according to the Kaiming initialization.\n",
    "    \"\"\"\n",
    "    assert nonlinearity == \"relu\", \"Only relu supported currently\"\n",
    "    std = np.sqrt(2) / np.sqrt(fan_in)\n",
    "    return randn(fan_in, fan_out) * std"
   ]
  },
  {
   "cell_type": "markdown",
   "id": "5b561b40-a3a0-4419-8af8-3c9ce4c446ed",
   "metadata": {},
   "source": [
    "\n",
    "There is also a version of Kaiming initialization to use for uniform distributions rather than normal distributions. The resulting weight matrix will have values sampled from a uniform distribution within the range $(-a, a)$, where \n",
    "\n",
    "$$a = \\sqrt{\\frac{6}{n_{i}}}$$\n",
    "\n",
    "![Kaiming initialization from a uniform distributiont](../assets/13.kaiming-uniform.svg)"
   ]
  },
  {
   "cell_type": "code",
   "execution_count": null,
   "id": "62698296-6b61-4aa8-9238-46cd3a5bc465",
   "metadata": {},
   "outputs": [],
   "source": [
    "#| export\n",
    "def kaiming_uniform(\n",
    "    fan_in,  # Number of input units in the weight tensor.\n",
    "    fan_out, # Number of output units in the weight tensor.\n",
    "    nonlinearity=\"relu\", # The non-linear function (`nn.functional` name), recommended to use only with 'relu' or 'leaky_relu'. Default is 'relu'.\n",
    "    **kwargs # Additional keyword arguments\n",
    "):\n",
    "    \"\"\"\n",
    "    Fills the input Tensor with values according to the method described in\n",
    "    \"Delving deep into rectifiers: Surpassing human-level performance on ImageNet classification\" - He, K. et al. (2015), using a uniform distribution.\n",
    "    The resulting tensor will have values sampled from uniform distribution in the range [-std, std] where std = sqrt(2 / fan_in).\n",
    "\n",
    "    Parameters\n",
    "    ----------\n",
    "    fan_in : int\n",
    "        Number of input units in the weight tensor.\n",
    "    fan_out : int\n",
    "        Number of output units in the weight tensor.\n",
    "    nonlinearity : str, optional\n",
    "        The non-linear function (`nn.functional` name), recommended to use only with 'relu' or 'leaky_relu'. Default is 'relu'.\n",
    "    **kwargs : optional\n",
    "        Additional keyword arguments.\n",
    "    \n",
    "    Returns\n",
    "    -------\n",
    "    mi.Tensor\n",
    "        A tensor of shape (fan_in, fan_out), filled with random numbers from the uniform distribution according to the Kaiming initialization.\n",
    "    \"\"\"\n",
    "    assert nonlinearity == \"relu\", \"Only relu supported currently\"\n",
    "    gain = math.sqrt(2)\n",
    "    std = gain * math.sqrt(3/fan_in)\n",
    "    return rand(fan_in, fan_out, low=-std, high=std)"
   ]
  },
  {
   "cell_type": "markdown",
   "id": "0f74655c-a66d-471f-8178-4b04b0ee69ad",
   "metadata": {},
   "source": [
    "**Advantages of Kaiming Initialization:**\n",
    "\n",
    "1. It helps to keep the variance of the gradients roughly the same across all layers. This ensures that all layers in the network learn at about the same speed, avoiding the saturation of activation functions, and it can also help speed up the convergence of the network.\n",
    "2. It performs better with ReLU and its variants because it accounts for the fact that the variance of the output of a neuron with a ReLU activation function is half the variance of its input."
   ]
  },
  {
   "cell_type": "markdown",
   "id": "b9febe08-dcf9-4421-9a1f-4e38a193646b",
   "metadata": {},
   "source": [
    "### LSUV Initialization"
   ]
  },
  {
   "cell_type": "code",
   "execution_count": null,
   "id": "fb0c6a3a-78e7-4b96-b32a-1c311bf9d70a",
   "metadata": {},
   "outputs": [],
   "source": [
    "class Hook():\n",
    "    def __init__(self, layer, fn): self.hook = layer.register_forward_hook(partial(fn, self))\n",
    "    # def remove(self): self.hook.remove()\n",
    "    # def __del__(self): self.remove()"
   ]
  },
  {
   "cell_type": "code",
   "execution_count": null,
   "id": "b5f46d88-3ab2-4bde-bb2e-1026351fb79e",
   "metadata": {},
   "outputs": [],
   "source": [
    "def append_stats(hook, mod, inp, outp):\n",
    "    if not hasattr(hook,'stats'): hook.stats = ([],[])\n",
    "    acts = outp # TODO: move outp to cpu when USING ACCELERAOR!! :3\n",
    "    hook.stats[0].append(acts.numpy().mean())\n",
    "    hook.stats[1].append(acts.numpy().std())\n",
    "\n",
    "#| export\n",
    "def _lsuv_stats(hook, mod, inp, outp):\n",
    "    acts = outp\n",
    "    hook.mean = acts.numpy().mean()\n",
    "    hook.std = acts.numpy().std()"
   ]
  },
  {
   "cell_type": "code",
   "execution_count": null,
   "id": "fb14b7e1-9c0a-48fe-957a-d6f297059c28",
   "metadata": {},
   "outputs": [],
   "source": [
    "class LSUV:\n",
    "\n",
    "    def __init__(self, model, batch) -> None:\n",
    "        self.model = model\n",
    "        self.batch = batch\n",
    "        self.params_layers = [m for m in model if hasattr(m, 'weight') and not isinstance(m, mi.nn.BatchNorm1d)]\n",
    "        self.act_fns = [m for m in model if isinstance(m, mi.nn.ReLU)]\n",
    "        \n",
    "        # Constants\n",
    "        self.TOLERANCE = 1e-3\n",
    "        \n",
    "\n",
    "    def lsuv_init(self):\n",
    "        \"\"\"\n",
    "        Layer-wise Sequential Unit Variance Initialization (LSUV).\n",
    "        A method to help neural nets converge faster.\n",
    "        \n",
    "        Args:\n",
    "        model : the model on which to perform LSUV initialization\n",
    "        param_module : the module with trainable parameters to which the Hook is to be registered\n",
    "        activation_module : the activation module to be initialized (ReLU, Sigmoid, etc.)\n",
    "        input_data : input data to be passed through the model\n",
    "        \"\"\"\n",
    "        for params_layer, acts_layer in zip(self.params_layers, self.act_fns):\n",
    "            hook = Hook(acts_layer, _lsuv_stats)\n",
    "            while self.model(self.batch) is not None and (abs(hook.std-1) > self.TOLERANCE or abs(hook.mean) > self.TOLERANCE):\n",
    "                print(f'---> before: {hook.mean} -- {hook.std}')\n",
    "                if params_layer.bias is not None: params_layer.bias -=  mi.Tensor(hook.mean)\n",
    "                params_layer.weight.data /= mi.Tensor(hook.std)\n",
    "        print(f'-------------> after: {hook.mean} -- {hook.std}')\n",
    "        hook.remove()"
   ]
  },
  {
   "cell_type": "code",
   "execution_count": null,
   "id": "354013dd-f829-4860-8bd3-e409639fe8de",
   "metadata": {},
   "outputs": [],
   "source": [
    "import numpy as np\n",
    "import minima as mi\n",
    "\n",
    "# Number of samples\n",
    "n_samples = 1000\n",
    "\n",
    "# Number of features (28x28 pixels for a grayscale image)\n",
    "n_features = 784\n",
    "\n",
    "# Number of classes\n",
    "n_classes = 10\n",
    "\n",
    "# Generate random inputs from a standard normal distribution\n",
    "X = mi.init.randn(n_samples, n_features)\n",
    "\n",
    "# Generate random target classes\n",
    "y = mi.Tensor(np.random.randint(0, n_classes, size=n_samples))\n"
   ]
  },
  {
   "cell_type": "code",
   "execution_count": null,
   "id": "e3f22936-017b-4ebc-977d-f969041f883b",
   "metadata": {},
   "outputs": [],
   "source": [
    "# Define the neural network architecture\n",
    "model = mi.nn.Sequential(\n",
    "    mi.nn.Linear(784, 128),\n",
    "    mi.nn.ReLU(),\n",
    "    mi.nn.Linear(128, 10)\n",
    ")"
   ]
  },
  {
   "cell_type": "code",
   "execution_count": null,
   "id": "3db16ba0-a9ac-4762-bea2-b2811a19da6a",
   "metadata": {},
   "outputs": [
    {
     "ename": "TypeError",
     "evalue": "'Sequential' object is not iterable",
     "output_type": "error",
     "traceback": [
      "\u001b[0;31m---------------------------------------------------------------------------\u001b[0m",
      "\u001b[0;31mTypeError\u001b[0m                                 Traceback (most recent call last)",
      "Cell \u001b[0;32mIn[29], line 1\u001b[0m\n\u001b[0;32m----> 1\u001b[0m lsuv \u001b[38;5;241m=\u001b[39m \u001b[43mLSUV\u001b[49m\u001b[43m(\u001b[49m\u001b[43mmodel\u001b[49m\u001b[43m,\u001b[49m\u001b[43m \u001b[49m\u001b[43mX\u001b[49m\u001b[43m)\u001b[49m\n",
      "Cell \u001b[0;32mIn[26], line 6\u001b[0m, in \u001b[0;36mLSUV.__init__\u001b[0;34m(self, model, batch)\u001b[0m\n\u001b[1;32m      4\u001b[0m \u001b[38;5;28mself\u001b[39m\u001b[38;5;241m.\u001b[39mmodel \u001b[38;5;241m=\u001b[39m model\n\u001b[1;32m      5\u001b[0m \u001b[38;5;28mself\u001b[39m\u001b[38;5;241m.\u001b[39mbatch \u001b[38;5;241m=\u001b[39m batch\n\u001b[0;32m----> 6\u001b[0m \u001b[38;5;28mself\u001b[39m\u001b[38;5;241m.\u001b[39mparams_layers \u001b[38;5;241m=\u001b[39m [m \u001b[38;5;28;01mfor\u001b[39;00m m \u001b[38;5;129;01min\u001b[39;00m model \u001b[38;5;28;01mif\u001b[39;00m \u001b[38;5;28mhasattr\u001b[39m(m, \u001b[38;5;124m'\u001b[39m\u001b[38;5;124mweight\u001b[39m\u001b[38;5;124m'\u001b[39m) \u001b[38;5;129;01mand\u001b[39;00m \u001b[38;5;129;01mnot\u001b[39;00m \u001b[38;5;28misinstance\u001b[39m(m, mi\u001b[38;5;241m.\u001b[39mnn\u001b[38;5;241m.\u001b[39mBatchNorm1d)]\n\u001b[1;32m      7\u001b[0m \u001b[38;5;28mself\u001b[39m\u001b[38;5;241m.\u001b[39mact_fns \u001b[38;5;241m=\u001b[39m [m \u001b[38;5;28;01mfor\u001b[39;00m m \u001b[38;5;129;01min\u001b[39;00m model \u001b[38;5;28;01mif\u001b[39;00m \u001b[38;5;28misinstance\u001b[39m(m, mi\u001b[38;5;241m.\u001b[39mnn\u001b[38;5;241m.\u001b[39mReLU)]\n\u001b[1;32m      9\u001b[0m \u001b[38;5;66;03m# Constants\u001b[39;00m\n",
      "\u001b[0;31mTypeError\u001b[0m: 'Sequential' object is not iterable"
     ]
    }
   ],
   "source": [
    "lsuv = LSUV(model, X)"
   ]
  },
  {
   "cell_type": "code",
   "execution_count": null,
   "id": "eaabe69c-6afc-4203-8dde-89edd339ba1f",
   "metadata": {},
   "outputs": [],
   "source": [
    "# lsuv.lsuv_init()"
   ]
  },
  {
   "cell_type": "markdown",
   "id": "1db18cd9-190f-4103-9866-6e7fe7f4863a",
   "metadata": {},
   "source": [
    "## Export"
   ]
  },
  {
   "cell_type": "code",
   "execution_count": null,
   "id": "e2a1dfee-dfdd-402c-ba30-997ddeab9776",
   "metadata": {},
   "outputs": [],
   "source": [
    "import nbdev; nbdev.nbdev_export()"
   ]
  }
 ],
 "metadata": {
  "kernelspec": {
   "display_name": "python3",
   "language": "python",
   "name": "python3"
  }
 },
 "nbformat": 4,
 "nbformat_minor": 5
}
