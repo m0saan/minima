{
 "cells": [
  {
   "cell_type": "markdown",
   "id": "dda21224-965c-4e74-b9b5-e58d8dd9e0a5",
   "metadata": {},
   "source": [
    "# nn\n",
    "\n",
    "> Fill in a module description here"
   ]
  },
  {
   "cell_type": "code",
   "execution_count": null,
   "id": "263e352d-55d5-464a-80fd-f98c03b56d21",
   "metadata": {},
   "outputs": [],
   "source": [
    "#| default_exp nn"
   ]
  },
  {
   "cell_type": "code",
   "execution_count": null,
   "id": "a02044ec-9480-46c2-9441-bf7ca89bdcd4",
   "metadata": {},
   "outputs": [],
   "source": [
    "#| export\n",
    "from typing import List, Callable, Any, Tuple\n",
    "from minima.autograd import Tensor\n",
    "from minima import operators\n",
    "import minima.init as init\n",
    "import numpy as np\n",
    "import minima as mi\n",
    "import torch"
   ]
  },
  {
   "cell_type": "code",
   "execution_count": null,
   "id": "6a16df1f-71e2-4b36-80b7-f59581c7dbc6",
   "metadata": {},
   "outputs": [],
   "source": [
    "#| export\n",
    "class Parameter(Tensor):\n",
    "    \"\"\"\n",
    "    A kind of Tensor that is to be considered a module parameter.\n",
    "\n",
    "    Parameters are `Tensor` subclasses, that have a very special property when used with\n",
    "    `Module` s - when they're assigned as Module attributes they are automatically added\n",
    "    to the list of its parameters, and will appear in `Module.parameters()` iterator.\n",
    "    Another difference is that parameters can't be volatile and that they require gradient by default.\n",
    "    \"\"\""
   ]
  },
  {
   "cell_type": "code",
   "execution_count": null,
   "id": "5aebab21-ed3b-4b2b-aeb3-01c8c7b1c6f6",
   "metadata": {},
   "outputs": [],
   "source": [
    "#| export\n",
    "def _unpack_params(value: object) -> List[Tensor]:\n",
    "    \"\"\"\n",
    "    Unpack parameters from different Python objects.\n",
    "\n",
    "    This function takes an object of type `Parameter`, `Module`, `dict`, `list`, or `tuple` and \n",
    "    recursively extracts any contained `Parameter` instances, returning them as a list. For other \n",
    "    object types, it returns an empty list.\n",
    "\n",
    "    Args:\n",
    "        value (object): The input object which could be of type `Parameter`, `Module`, `dict`, \n",
    "                        `list`, `tuple`, or any other type.\n",
    "\n",
    "    Returns:\n",
    "        List[Tensor]: A list containing all the `Parameter` instances found within the input object.\n",
    "                      If no `Parameter` instances are found, an empty list is returned.\n",
    "                      \n",
    "    Example:\n",
    "        module = nn.Module(...)\n",
    "        params = _unpack_params(module)\n",
    "        print(params)  # Prints list of `Parameter` instances contained in `module`.\n",
    "    \"\"\"\n",
    "    if isinstance(value, Parameter):\n",
    "        return [value]\n",
    "    elif isinstance(value, Module):\n",
    "        return list(value.parameters())\n",
    "    elif isinstance(value, dict):\n",
    "        return [item for v in value.values() for item in _unpack_params(v)]\n",
    "    elif isinstance(value, (list, tuple)):\n",
    "        return [item for v in value for item in _unpack_params(v)]\n",
    "    return []"
   ]
  },
  {
   "cell_type": "code",
   "execution_count": null,
   "id": "3c0bfa6d-8425-4b16-ac25-838a76f020ab",
   "metadata": {},
   "outputs": [],
   "source": [
    "#| export\n",
    "def _child_modules(value: object) -> List[\"Module\"]:\n",
    "    \"\"\"\n",
    "    Recursively unpack child modules from different Python objects.\n",
    "\n",
    "    This function takes an object of type `Module`, `dict`, `list`, or `tuple` and \n",
    "    recursively extracts any contained `Module` instances, returning them as a list. \n",
    "    For other object types, it returns an empty list.\n",
    "\n",
    "    Args:\n",
    "        value (object): The input object which could be of type `Module`, `dict`, \n",
    "                        `list`, `tuple`, or any other type.\n",
    "\n",
    "    Returns:\n",
    "        List[Module]: A list containing all the `Module` instances found within \n",
    "                      the input object. If no `Module` instances are found, \n",
    "                      an empty list is returned.\n",
    "\n",
    "    Example:\n",
    "        class MyModule(Module):\n",
    "            def __init__(self):\n",
    "                super().__init__()\n",
    "                self.layer1 = nn.Linear(20, 20)\n",
    "                self.layer2 = nn.Linear(20, 20)\n",
    "        \n",
    "        my_module = MyModule()\n",
    "        children = _child_modules(my_module)\n",
    "        print(children)  # Prints list of `Module` instances contained in `my_module`.\n",
    "    \"\"\"\n",
    "    if isinstance(value, Module):\n",
    "        return [value] + _child_modules(value.__dict__)\n",
    "    elif isinstance(value, dict):\n",
    "        return [item for v in value.values() for item in _child_modules(v)]\n",
    "    elif isinstance(value, (list, tuple)):\n",
    "        return [item for v in value for item in _child_modules(v)]\n",
    "    else:\n",
    "        return []"
   ]
  },
  {
   "cell_type": "code",
   "execution_count": null,
   "id": "159a2cae-078a-4bd3-8a09-cee5af7ba728",
   "metadata": {},
   "outputs": [],
   "source": [
    "#|export\n",
    "class Module:\n",
    "    \"\"\"\n",
    "    Base class for all neural network modules in Minima.\n",
    "\n",
    "    Your models should also subclass this class. Subclasses should define a `forward` method.\n",
    "\n",
    "    Attributes:\n",
    "    - `training` (bool): Module is initialized in training mode by default. Use `eval()` to switch it to evaluation mode.\n",
    "\n",
    "    Methods:\n",
    "    - `parameters()`: Returns a list of all `Parameter` instances in the module.\n",
    "    - `_children()`: Returns a list of all child `Module` instances.\n",
    "    - `eval()`: Switches the module and all its children to evaluation mode.\n",
    "    - `train()`: Switches the module and all its children back to training mode.\n",
    "    - `__call__()`: The call method, which simply calls the `forward` method, must be defined by all subclasses.\n",
    "    \"\"\"\n",
    "    \n",
    "    def __init__(self):\n",
    "        self.training = True\n",
    "\n",
    "    def parameters(self) -> List[Parameter]:\n",
    "        \"\"\"\n",
    "        Returns a list of all `Parameter` instances in the module.\n",
    "        This is done by unpacking the parameters from the module's dictionary.\n",
    "        \"\"\"\n",
    "        return _unpack_params(self.__dict__)\n",
    "\n",
    "    def _children(self) -> List[\"Module\"]:\n",
    "        \"\"\"\n",
    "        Returns a list of all child `Module` instances in the module.\n",
    "        This is done by unpacking the modules from the module's dictionary.\n",
    "        \"\"\"\n",
    "        return _child_modules(self.__dict__)\n",
    "\n",
    "    def eval(self):\n",
    "        \"\"\"\n",
    "        Switches the module and all its child modules to evaluation mode.\n",
    "        \"\"\"\n",
    "        self.training = False\n",
    "        for m in self._children():\n",
    "            m.training = False\n",
    "\n",
    "    def train(self):\n",
    "        \"\"\"\n",
    "        Switches the module and all its child modules to training mode.\n",
    "        \"\"\"\n",
    "        self.training = True\n",
    "        for m in self._children():\n",
    "            m.training = True\n",
    "\n",
    "    def __call__(self, *args, **kwargs):\n",
    "        \"\"\"\n",
    "        Defines the call method for the module.\n",
    "        This method simply calls the forward method and must be overridden by all subclasses.\n",
    "        \"\"\"\n",
    "        return self.forward(*args, **kwargs)"
   ]
  },
  {
   "cell_type": "code",
   "execution_count": null,
   "id": "a02db133-e9af-4a55-a56c-666b4cbd733b",
   "metadata": {},
   "outputs": [],
   "source": [
    "#| export\n",
    "class Sequential(Module):\n",
    "    \"\"\"\n",
    "    A sequential container in Minima.\n",
    "\n",
    "    Modules will be added to it in the order they are passed in the constructor.\n",
    "    A `Sequential` module contains a sequence of child modules stored in the order they were added. \n",
    "    Each module is applied in order to the input to produce the output.\n",
    "\n",
    "    The `Sequential` class makes it easy to build networks where the output of one layer is the input to the next.\n",
    "\n",
    "    Attributes:\n",
    "    - `modules` (tuple of `Module`): The sequence of child modules to apply.\n",
    "\n",
    "    Methods:\n",
    "    - `forward(x: Tensor) -> Tensor`: Passes the input through all the child modules in sequential order.\n",
    "    \"\"\"\n",
    "    def __init__(\n",
    "        self,\n",
    "        *modules # The sequence of child modules to apply. Each argument should be an instance of `Module`.\n",
    "    ):\n",
    "        \"\"\"\n",
    "        Initializes a new `Sequential` instance.\n",
    "        \n",
    "        Args:\n",
    "            *modules: The sequence of child modules to apply. Each argument should be an instance of `Module`.\n",
    "        \"\"\"\n",
    "        super().__init__()\n",
    "        self.modules = modules\n",
    "        \n",
    "    def forward(self, x: Tensor) -> Tensor:\n",
    "        \"\"\"\n",
    "        Defines the forward pass for the sequential module.\n",
    "        \n",
    "        Passes the input through all the child modules in the order they were added.\n",
    "\n",
    "        Args:\n",
    "            x (Tensor): The input tensor.\n",
    "        \n",
    "        Returns:\n",
    "            Tensor: The output tensor.\n",
    "        \"\"\"\n",
    "        for module in self.modules:\n",
    "            x = module(x)\n",
    "        return x\n"
   ]
  },
  {
   "cell_type": "code",
   "execution_count": null,
   "id": "e4041d0e-b95e-46c6-b0f6-0987cbd9763a",
   "metadata": {},
   "outputs": [],
   "source": [
    "#| export\n",
    "class Linear(Module):\n",
    "    \"\"\"\n",
    "    A class representing a fully connected (linear) layer in a neural network.\n",
    "    This class inherits from the `Module` class.\n",
    "\n",
    "    Attributes:\n",
    "        in_features (int): The number of input features.\n",
    "        out_features (int): The number of output features.\n",
    "        device (str): The device to store the Parameters on (defaults to None, which means CPU).\n",
    "        dtype (str): The data type of the Parameters (defaults to 'float32').\n",
    "        weight (Parameter): The weight parameters of the layer.\n",
    "        bias (Parameter): The bias parameters of the layer, or None if bias=False.\n",
    "\n",
    "    Methods:\n",
    "        forward(X: Tensor) -> Tensor: Compute the forward pass of the layer.\n",
    "    \"\"\"\n",
    "    \n",
    "    def __init__(\n",
    "        self,\n",
    "        in_features, # The number of input features.\n",
    "        out_features,# The number of output features.\n",
    "        bias=True, # Whether or not to include a bias term. Default is True.\n",
    "        device=None, # The device to store the Parameters on. Default is None, which means CPU.\n",
    "        dtype=\"float32\" # The data type of the Parameters. Default is 'float32'.\n",
    "    ):\n",
    "        \"\"\"\n",
    "        Initialize the layer with given input/output feature sizes and, optionally, bias, device, and dtype.\n",
    "\n",
    "        Args:\n",
    "            in_features (int): The number of input features.\n",
    "            out_features (int): The number of output features.\n",
    "            bias (bool, optional): Whether or not to include a bias term. Default is True.\n",
    "            device (str, optional): The device to store the Parameters on. Default is None, which means CPU.\n",
    "            dtype (str, optional): The data type of the Parameters. Default is 'float32'.\n",
    "        \"\"\"\n",
    "        \n",
    "        super().__init__()\n",
    "        self.in_features = in_features\n",
    "        self.out_features = out_features\n",
    "        self.device = device\n",
    "        self.dtype = dtype\n",
    "\n",
    "        self.weight = Parameter(init.kaiming_uniform(fan_in=in_features, fan_out=out_features, device=device, dtype=dtype))\n",
    "        self.bias = (Parameter(init.kaiming_uniform(fan_in=out_features, fan_out=1, device=device, dtype=dtype)).reshape((1, out_features))\n",
    "                     if bias else None)\n",
    "        \n",
    "    def __repr__(self) -> str:\n",
    "        return f'Linear(in_features={self.in_features}, out_features={self.out_features}, bias={self.bias is not None})'\n",
    "            \n",
    "    def forward(self, X: Tensor) -> Tensor:\n",
    "        \"\"\"\n",
    "        Compute the forward pass of the layer.\n",
    "\n",
    "        This function applies the linear transformation to the input tensor X, \n",
    "        i.e., performs the matrix multiplication of X and the weight tensor, \n",
    "        and then adds the bias tensor (if bias is not None).\n",
    "\n",
    "        Args:\n",
    "            X (Tensor): The input tensor.\n",
    "\n",
    "        Returns:\n",
    "            Tensor: The output tensor.\n",
    "        \"\"\"\n",
    "        \n",
    "        out = X @ self.weight\n",
    "        out = out + self.bias.broadcast_to(out.shape) if self.bias else out\n",
    "        return out"
   ]
  },
  {
   "cell_type": "code",
   "execution_count": null,
   "id": "2219fc4b-6db4-45c7-953e-ced54ad91044",
   "metadata": {},
   "outputs": [
    {
     "name": "stdout",
     "output_type": "stream",
     "text": [
      "[<__main__.MyModule object>, Linear(in_features=10, out_features=20, bias=True), Linear(in_features=20, out_features=10, bias=True)]\n"
     ]
    }
   ],
   "source": [
    "class MyModule(Module):\n",
    "    def __init__(self):\n",
    "        super().__init__()\n",
    "        self.layer1 = Linear(10, 20)\n",
    "        self.layer2 = Linear(20, 10)\n",
    "\n",
    "    def forward(self, x):\n",
    "        x = self.layer1(x)\n",
    "        x = self.layer2(x)\n",
    "        return x\n",
    "\n",
    "my_module = MyModule()\n",
    "\n",
    "children = _child_modules(my_module)\n",
    "print(children)  # Prints list of `Module` instances contained in `my_module`."
   ]
  },
  {
   "cell_type": "code",
   "execution_count": null,
   "id": "dd658723-8093-4bea-b70f-1d88e6507c72",
   "metadata": {},
   "outputs": [
    {
     "data": {
      "text/plain": [
       "Linear(in_features=10, out_features=5, bias=True)"
      ]
     },
     "execution_count": null,
     "metadata": {},
     "output_type": "execute_result"
    }
   ],
   "source": [
    "Linear(in_features=10, out_features=5, bias=True)"
   ]
  },
  {
   "cell_type": "code",
   "execution_count": null,
   "id": "7dcef86a-a0f1-4dcc-aeda-dc752e8f1f3a",
   "metadata": {},
   "outputs": [],
   "source": [
    "#| export\n",
    "class Flatten(Module):\n",
    "    \"\"\"\n",
    "    A `Flatten` module in Minima.\n",
    "\n",
    "    This module flattens an input tensor into a 2D matrix, typically for transitioning from convolutional layers to linear layers within a neural network model.\n",
    "\n",
    "    Methods:\n",
    "    - `forward(X: Tensor) -> Tensor`: Flattens the input tensor.\n",
    "    \"\"\"\n",
    "    \n",
    "    def forward(self, X: Tensor) -> Tensor:\n",
    "        \"\"\"\n",
    "        Defines the forward pass for the Flatten module.\n",
    "        \n",
    "        This method flattens an input tensor along all dimensions except the batch dimension.\n",
    "\n",
    "        Args:\n",
    "            X (Tensor): The input tensor. It is expected to have at least two dimensions.\n",
    "\n",
    "        Returns:\n",
    "            Tensor: The output tensor, which is a 2D tensor with the same number of elements as the input tensor.\n",
    "        \"\"\"\n",
    "        return X.reshape((X.shape[0], -1))\n"
   ]
  },
  {
   "cell_type": "code",
   "execution_count": null,
   "id": "1734f377-9984-4a9d-a573-b492ae3844de",
   "metadata": {},
   "outputs": [],
   "source": [
    "#| export\n",
    "class ReLU(Module):\n",
    "    def forward(self, x: Tensor) -> Tensor:\n",
    "        return operators.relu(x)"
   ]
  },
  {
   "cell_type": "markdown",
   "id": "341e6b2c-01f9-4954-89cb-a9d2f6da4d9f",
   "metadata": {},
   "source": [
    "The implementation you've shared is a numerically stable version of the Cross Entropy Loss formula, which is generally defined for a single sample as:\n",
    "\n",
    "$$\n",
    "H(p, q) = - \\sum_{i} p_i \\log(q_i)\n",
    "$$\n",
    "\n",
    "where:\n",
    "- $p$ is the true distribution (in classification, typically a one-hot encoded vector),\n",
    "- $q$ is the predicted distribution (output of the softmax function on the logits from the model).\n",
    "\n",
    "However, directly implementing this formula can lead to numerical instability because of the log operation. The given implementation overcomes this by using the Log-Sum-Exp trick to prevent underflow or overflow.\n",
    "$$ CE = -\\sum_{i=1}^{C} y_i \\log(\\hat{y_i}) $$\n",
    "\n",
    "where $y$ is the ground truth label and $\\hat{y}$ is the predicted probability, and $C$ is the number of classes. In the case of one-hot encoding, only the term corresponding to the true class contributes to the sum. So, we can simplify it to:\n",
    "\n",
    "$$\n",
    "CE = -\\log(\\hat{y_c})\n",
    "$$\n",
    "\n",
    "where $c$ is the correct class.\n",
    "\n",
    "The predicted probabilities $\\hat{y}$ are obtained by applying the softmax function to the logits $z$:\n",
    "\n",
    "$$\n",
    "\\hat{y_i} = \\frac{e^{z_i}}{\\sum_{j=1}^{C} e^{z_j}}\n",
    "$$\n",
    "\n",
    "Substituting $\\hat{y_c}$ in the Cross-Entropy Loss, we have:\n",
    "\n",
    "$$\n",
    "CE = -\\log\\left(\\frac{e^{z_c}}{\\sum_{j=1}^{C} e^{z_j}}\\right)\n",
    "$$\n",
    "\n",
    "Applying the logarithm property $\\log(a/b) = \\log(a) - \\log(b)$, we get:\n",
    "\n",
    "$$\n",
    "CE = -z_c + \\log\\left(\\sum_{j=1}^{C} e^{z_j}\\right)\n",
    "$$\n",
    "\n",
    "First, `log_sum_exp_logits = ops.logsumexp(logits, axes=(1, )).sum()` computes the term $\\log\\left(\\sum_{j=1}^{C} e^{z_j}\\right)$. The function `logsumexp` computes the logarithm of the sum of exponentials in a numerically stable way, and then these values are summed over all samples.\n",
    "\n",
    "Second, `true_class_logits_sum = (logits * init.one_hot(logits.shape[1], y)).sum()` computes the $-z_c$ term for each sample. The function `init.one_hot(logits.shape[1], y)` creates a one-hot encoding of the true labels, and this is then multiplied with the logits to pick out the logits for the correct classes. These values are then summed over all samples.\n",
    "\n",
    "Finally, `(log_sum_exp_logits - true_class_logits_sum) / logits.shape[0]` computes the average loss per sample."
   ]
  },
  {
   "cell_type": "code",
   "execution_count": null,
   "id": "d4ee69cf-f91c-4c82-a836-f5c393606e6b",
   "metadata": {},
   "outputs": [],
   "source": [
    "logits = mi.Tensor([[ 0.6734,  0.2576],\n",
    "        [ 0.4689,  0.4607],\n",
    "        [-2.2457, -0.3727],\n",
    "        [ 4.4164, -1.2760],\n",
    "        [ 0.9233,  0.5347],\n",
    "        [ 1.0698,  1.6187]])\n",
    "targ = mi.Tensor([0,1,0,1,1,0])"
   ]
  },
  {
   "cell_type": "code",
   "execution_count": null,
   "id": "9ad70e54-d317-4a46-83d3-4811ddfabdd4",
   "metadata": {},
   "outputs": [
    {
     "data": {
      "text/plain": [
       "minima.Tensor(\n",
       "[ 1.180104  1.157956 -0.229759  4.419766  1.440906  2.074595])"
      ]
     },
     "execution_count": null,
     "metadata": {},
     "output_type": "execute_result"
    }
   ],
   "source": [
    "log_sum_exp_logits = operators.logsumexp(logits, axes=(1, ))\n",
    "log_sum_exp_logits"
   ]
  },
  {
   "cell_type": "code",
   "execution_count": null,
   "id": "33da707b-6b61-447a-ada8-742c0b8b6fd6",
   "metadata": {},
   "outputs": [],
   "source": [
    "log_sum_exp_logits = log_sum_exp_logits.sum()"
   ]
  },
  {
   "cell_type": "code",
   "execution_count": null,
   "id": "2e964dd0-5bbe-4d0e-b6bd-6cf76a990018",
   "metadata": {},
   "outputs": [
    {
     "data": {
      "text/plain": [
       "minima.Tensor(\n",
       "[[1. 0.]\n",
       " [0. 1.]\n",
       " [1. 0.]\n",
       " [0. 1.]\n",
       " [0. 1.]\n",
       " [1. 0.]])"
      ]
     },
     "execution_count": null,
     "metadata": {},
     "output_type": "execute_result"
    }
   ],
   "source": [
    "one_hot_y = init.one_hot(logits.shape[1], targ)\n",
    "one_hot_y"
   ]
  },
  {
   "cell_type": "code",
   "execution_count": null,
   "id": "48a3f6ad-3b11-4c66-9a1c-d53eec9b6fe0",
   "metadata": {},
   "outputs": [
    {
     "data": {
      "text/plain": [
       "minima.Tensor(\n",
       "[[ 0.6734  0.    ]\n",
       " [ 0.      0.4607]\n",
       " [-2.2457 -0.    ]\n",
       " [ 0.     -1.276 ]\n",
       " [ 0.      0.5347]\n",
       " [ 1.0698  0.    ]])"
      ]
     },
     "execution_count": null,
     "metadata": {},
     "output_type": "execute_result"
    }
   ],
   "source": [
    "true_class_logits = (logits * one_hot_y)\n",
    "true_class_logits"
   ]
  },
  {
   "cell_type": "code",
   "execution_count": null,
   "id": "84dac818-0526-4fd7-bf48-fc47759b69be",
   "metadata": {},
   "outputs": [
    {
     "data": {
      "text/plain": [
       "minima.Tensor(\n",
       "-0.7830999999999999)"
      ]
     },
     "execution_count": null,
     "metadata": {},
     "output_type": "execute_result"
    }
   ],
   "source": [
    "true_class_logits_sum = true_class_logits.sum()\n",
    "true_class_logits_sum"
   ]
  },
  {
   "cell_type": "code",
   "execution_count": null,
   "id": "aee5627a-5ec8-4a12-8f16-d5ab9abb013b",
   "metadata": {},
   "outputs": [
    {
     "data": {
      "text/plain": [
       "minima.Tensor(\n",
       "1.8044446680186768)"
      ]
     },
     "execution_count": null,
     "metadata": {},
     "output_type": "execute_result"
    }
   ],
   "source": [
    "loss = (log_sum_exp_logits - true_class_logits_sum) / targ.shape[0]\n",
    "loss"
   ]
  },
  {
   "cell_type": "code",
   "execution_count": null,
   "id": "965a1e92-f6fe-4b01-a785-528e8cce4248",
   "metadata": {},
   "outputs": [
    {
     "data": {
      "text/plain": [
       "tensor(1.8044, dtype=torch.float64)"
      ]
     },
     "execution_count": null,
     "metadata": {},
     "output_type": "execute_result"
    }
   ],
   "source": [
    "loss = torch.nn.CrossEntropyLoss()(torch.tensor(logits.numpy()), torch.tensor(targ.numpy()))\n",
    "loss"
   ]
  },
  {
   "cell_type": "code",
   "execution_count": null,
   "id": "fe121e42-5dc7-430d-b9c8-1a26e2ac3e79",
   "metadata": {},
   "outputs": [],
   "source": [
    "#| export\n",
    "class CrossEntropyLoss(Module):\n",
    "    \"\"\"\n",
    "    Cross-entropy loss module in Minima.\n",
    "\n",
    "    This module computes the Cross Entropy Loss between the input logits and the target classes. \n",
    "    It's useful in classification tasks where the model outputs probabilities for each class.\n",
    "\n",
    "    Methods:\n",
    "    - `forward(input: Tensor, target: Tensor) -> Tensor`: Calculates the cross-entropy loss between the input (logits) and the target (class indices).\n",
    "\n",
    "    Example:\n",
    "    ```python\n",
    "    model = Sequential(\n",
    "        Linear(10, 20),\n",
    "        ReLU(),\n",
    "        Linear(20, 10),\n",
    "    )\n",
    "    loss_fn = CrossEntropyLoss()\n",
    "    output = model(input_tensor)  # compute model output\n",
    "    loss = loss_fn(output, target_tensor)  # compute loss\n",
    "    ```\n",
    "    \"\"\"\n",
    "\n",
    "    def forward(self, input: Tensor, target: Tensor) -> Tensor:\n",
    "        \"\"\"\n",
    "        Computes the Cross Entropy Loss between the input logits and the target class indices.\n",
    "\n",
    "        Args:\n",
    "            input (Tensor): The input tensor. The logits, typically of shape (batch_size, num_classes).\n",
    "            target (Tensor): The target tensor. The correct class indices, typically of shape (batch_size).\n",
    "\n",
    "        Returns:\n",
    "            Tensor: A single tensor that is the average cross-entropy loss.\n",
    "        \"\"\"\n",
    "        log_sum_exp_logits = ops.logsumexp(input, axes=(1, )).sum()\n",
    "        true_class_logits_sum = (input * init.one_hot(input.shape[1], target)).sum()\n",
    "        return (log_sum_exp_logits - true_class_logits_sum) / input.shape[0]\n"
   ]
  },
  {
   "cell_type": "markdown",
   "id": "0618b0d2-5694-4eb8-8216-6b85607d68af",
   "metadata": {},
   "source": [
    "## Layer normalization"
   ]
  },
  {
   "cell_type": "markdown",
   "id": "1aa9115e-39cc-4c1c-b7af-50fb15e1f3cb",
   "metadata": {},
   "source": [
    "Layer normalization $\\text{LN}$ normalizes the input $X$ as follows:\n",
    "\n",
    "When input $X \\in \\mathbb{R}^{B \\times C}$ is a batch of embeddings,\n",
    "where $B$ is the batch size and $C$ is the number of features.\n",
    "$\\gamma \\in \\mathbb{R}^{C}$ and $\\beta \\in \\mathbb{R}^{C}$.\n",
    "$$\\text{LN}(X) = \\gamma\n",
    "\\frac{X - \\underset{C}{\\mathbb{E}}[X]}{\\sqrt{\\underset{C}{Var}[X] + \\epsilon}}\n",
    "+ \\beta$$\n",
    "\n",
    "When input $X \\in \\mathbb{R}^{L \\times B \\times C}$ is a batch of a sequence of embeddings,\n",
    "where $B$ is the batch size, $C$ is the number of channels, $L$ is the length of the sequence.\n",
    "$\\gamma \\in \\mathbb{R}^{C}$ and $\\beta \\in \\mathbb{R}^{C}$.\n",
    "$$\\text{LN}(X) = \\gamma\n",
    "\\frac{X - \\underset{C}{\\mathbb{E}}[X]}{\\sqrt{\\underset{C}{Var}[X] + \\epsilon}}\n",
    "+ \\beta$$\n",
    "\n",
    "When input $X \\in \\mathbb{R}^{B \\times C \\times H \\times W}$ is a batch of image representations,\n",
    "where $B$ is the batch size, $C$ is the number of channels, $H$ is the height and $W$ is the width.\n",
    "This is not a widely used scenario.\n",
    "$\\gamma \\in \\mathbb{R}^{C \\times H \\times W}$ and $\\beta \\in \\mathbb{R}^{C \\times H \\times W}$.\n",
    "$$\\text{LN}(X) = \\gamma\n",
    "\\frac{X - \\underset{C, H, W}{\\mathbb{E}}[X]}{\\sqrt{\\underset{C, H, W}{Var}[X] + \\epsilon}}\n",
    "+ \\beta$$\n"
   ]
  },
  {
   "cell_type": "code",
   "execution_count": null,
   "id": "daa70646-2626-4ca0-89f0-2ac699db9cfb",
   "metadata": {},
   "outputs": [
    {
     "data": {
      "text/plain": [
       "minima.Tensor(\n",
       "[[0.978789 0.255136 0.725603 0.994256 0.589787 0.896779 0.18028  0.078388 0.767549 0.972006]\n",
       " [0.953059 0.801167 0.186128 0.487106 0.7973   0.879538 0.344381 0.9838   0.896597 0.30265 ]\n",
       " [0.31185  0.522968 0.171154 0.85127  0.535269 0.941443 0.968975 0.628316 0.939991 0.729733]\n",
       " [0.813903 0.51083  0.379629 0.560484 0.592809 0.426165 0.737532 0.549256 0.732556 0.030533]\n",
       " [0.132327 0.875266 0.321044 0.175276 0.595102 0.680363 0.620331 0.99376  0.006395 0.144013]])"
      ]
     },
     "execution_count": null,
     "metadata": {},
     "output_type": "execute_result"
    }
   ],
   "source": [
    "X = mi.Tensor(init.rand(5, 10))\n",
    "X"
   ]
  },
  {
   "cell_type": "code",
   "execution_count": null,
   "id": "52ddb61c-065f-44b9-9617-58b9f0b4b760",
   "metadata": {},
   "outputs": [
    {
     "data": {
      "text/plain": [
       "(5, 10)"
      ]
     },
     "execution_count": null,
     "metadata": {},
     "output_type": "execute_result"
    }
   ],
   "source": [
    "bs, fs = X.shape\n",
    "bs, fs"
   ]
  },
  {
   "cell_type": "code",
   "execution_count": null,
   "id": "7116fcc9-573e-4ad6-98e2-13e264657ed4",
   "metadata": {},
   "outputs": [
    {
     "data": {
      "text/plain": [
       "minima.Tensor(\n",
       "[0.643857 0.663173 0.660097 0.53337  0.454388])"
      ]
     },
     "execution_count": null,
     "metadata": {},
     "output_type": "execute_result"
    }
   ],
   "source": [
    "mean = X.sum(axes=(1,)) / fs\n",
    "mean"
   ]
  },
  {
   "cell_type": "code",
   "execution_count": null,
   "id": "c92e27bf-dcca-4127-af93-ccff32dc21cc",
   "metadata": {},
   "outputs": [
    {
     "data": {
      "text/plain": [
       "minima.Tensor(\n",
       "[[0.643857]\n",
       " [0.663173]\n",
       " [0.660097]\n",
       " [0.53337 ]\n",
       " [0.454388]])"
      ]
     },
     "execution_count": null,
     "metadata": {},
     "output_type": "execute_result"
    }
   ],
   "source": [
    "mean = mean.reshape((bs, 1))\n",
    "mean"
   ]
  },
  {
   "cell_type": "code",
   "execution_count": null,
   "id": "a480c824-797f-4a65-aef8-a8e55bff01ef",
   "metadata": {},
   "outputs": [
    {
     "data": {
      "text/plain": [
       "minima.Tensor(\n",
       "[[0.643857 0.643857 0.643857 0.643857 0.643857 0.643857 0.643857 0.643857 0.643857 0.643857]\n",
       " [0.663173 0.663173 0.663173 0.663173 0.663173 0.663173 0.663173 0.663173 0.663173 0.663173]\n",
       " [0.660097 0.660097 0.660097 0.660097 0.660097 0.660097 0.660097 0.660097 0.660097 0.660097]\n",
       " [0.53337  0.53337  0.53337  0.53337  0.53337  0.53337  0.53337  0.53337  0.53337  0.53337 ]\n",
       " [0.454388 0.454388 0.454388 0.454388 0.454388 0.454388 0.454388 0.454388 0.454388 0.454388]])"
      ]
     },
     "execution_count": null,
     "metadata": {},
     "output_type": "execute_result"
    }
   ],
   "source": [
    "mean = mean.broadcast_to(X.shape)\n",
    "mean"
   ]
  },
  {
   "cell_type": "code",
   "execution_count": null,
   "id": "74c248e4-6a05-460a-a84e-4b9e89ba11e3",
   "metadata": {},
   "outputs": [
    {
     "data": {
      "text/plain": [
       "minima.Tensor(\n",
       "[[ 0.334931 -0.388721  0.081746  0.350399 -0.054071  0.252922 -0.463577 -0.565469  0.123692  0.328149]\n",
       " [ 0.289886  0.137994 -0.477044 -0.176067  0.134127  0.216365 -0.318791  0.320627  0.233424 -0.360523]\n",
       " [-0.348247 -0.137129 -0.488943  0.191173 -0.124828  0.281347  0.308878 -0.031781  0.279894  0.069636]\n",
       " [ 0.280533 -0.022539 -0.15374   0.027114  0.059439 -0.107205  0.204162  0.015886  0.199186 -0.502836]\n",
       " [-0.322061  0.420878 -0.133344 -0.279111  0.140714  0.225975  0.165943  0.539372 -0.447993 -0.310374]])"
      ]
     },
     "execution_count": null,
     "metadata": {},
     "output_type": "execute_result"
    }
   ],
   "source": [
    "x_centred = X - mean\n",
    "x_centred"
   ]
  },
  {
   "cell_type": "code",
   "execution_count": null,
   "id": "9c52c906-2dc7-41ba-b826-88f3fa9e5828",
   "metadata": {},
   "outputs": [],
   "source": [
    "#| export\n",
    "class LayerNorm1d(Module):\n",
    "    \"\"\"\n",
    "    1D Layer normalization module in Minima.\n",
    "\n",
    "    Applies layer normalization over a 1D input. The mean and standard deviation are computed over the last dimension.\n",
    "\n",
    "    Attributes:\n",
    "    - `dim` (int): The dimension of the input feature space.\n",
    "    - `eps` (float): A small constant for numerical stability.\n",
    "    - `weight` (Parameter): The learnable weights of the module of size 'dim', initialized with ones.\n",
    "    - `bias` (Parameter): The learnable bias of the module of size 'dim', initialized with zeros.\n",
    "\n",
    "    Methods:\n",
    "    - `forward(x: Tensor) -> Tensor`: Applies layer normalization to the input tensor.\n",
    "\n",
    "    \"\"\"\n",
    "    def __init__(\n",
    "        self,\n",
    "        dim: int, # The dimension of the input feature space.\n",
    "        eps=1e-5, # A small constant for numerical stability. Default is 1e-5.\n",
    "        device=None, # The desired device of returned tensor. If None, uses the current device for the default tensor type. Default is None.\n",
    "        dtype=\"float32\" # The desired data type of returned tensor. If None, uses the default data type. Default is \"float32\".\n",
    "    ):\n",
    "        \"\"\"\n",
    "        Initializes a new `LayerNorm1d` instance.\n",
    "        \n",
    "        Args:\n",
    "            dim: The dimension of the input feature space.\n",
    "            eps: A small constant for numerical stability. Default is 1e-5.\n",
    "            device: The desired device of returned tensor. If None, uses the current device for the default tensor type. Default is None.\n",
    "            dtype: The desired data type of returned tensor. If None, uses the default data type. Default is \"float32\".\n",
    "        \"\"\"\n",
    "        super().__init__()\n",
    "        self.dim = dim\n",
    "        self.eps = eps\n",
    "        \n",
    "        self.weight = Parameter(init.ones(dim, device=device, dtype=dtype, requires_grad=True))\n",
    "        self.bias = Parameter(init.zeros(dim, device=device, dtype=dtype, requires_grad=True))\n",
    "\n",
    "    def forward(self, x: Tensor) -> Tensor:\n",
    "        \"\"\"\n",
    "        Applies the layer normalization over the input.\n",
    "\n",
    "        Args:\n",
    "            x (Tensor): The input tensor of shape (batch_size, num_features).\n",
    "\n",
    "        Returns:\n",
    "            Tensor: The output tensor after applying layer normalization.\n",
    "        \"\"\"\n",
    "        bs, fs = x.shape\n",
    "        axes = (-1,)\n",
    "        mean = x.sum(axes=axes).reshape((bs, 1)) / fs\n",
    "        x_centered = x - mean.broadcast_to(x.shape)\n",
    "        std = ((x_centered ** 2).sum(axes=axes).reshape((bs, 1)) / fs + self.eps) ** 0.5\n",
    "        x_normed = x_centered / std.broadcast_to(x.shape)\n",
    "        return self.weight.broadcast_to(x.shape) * x_normed + self.bias.broadcast_to(x.shape)\n"
   ]
  },
  {
   "cell_type": "markdown",
   "id": "63a0cdb2-dfa1-4ad7-85f1-ba3f52c09e3c",
   "metadata": {},
   "source": [
    "## Batch Norm"
   ]
  },
  {
   "cell_type": "markdown",
   "id": "98e22dc5-6ccc-4bb7-b931-1d362af3ef10",
   "metadata": {},
   "source": [
    "\n",
    "This is an implementation of Batch Normalization from paper\n",
    " [Batch Normalization: Accelerating Deep Network Training by Reducing Internal Covariate Shift](https://papers.labml.ai/paper/1502.03167).\n",
    "\n",
    "### Internal Covariate Shift\n",
    "\n",
    "The paper defines *Internal Covariate Shift* as the change in the\n",
    "distribution of network activations due to the change in\n",
    "network parameters during training.\n",
    "For example, let's say there are two layers $l_1$ and $l_2$.\n",
    "During the beginning of the training $l_1$ outputs (inputs to $l_2$)\n",
    "could be in distribution $\\mathcal{N}(0.5, 1)$.\n",
    "Then, after some training steps, it could move to $\\mathcal{N}(0.6, 1.5)$.\n",
    "This is *internal covariate shift*.\n",
    "\n",
    "Internal covariate shift will adversely affect training speed because the later layers\n",
    "($l_2$ in the above example) have to adapt to this shifted distribution.\n",
    "\n",
    "By stabilizing the distribution, batch normalization minimizes the internal covariate shift.\n",
    "\n",
    "## Normalization\n",
    "\n",
    "It is known that whitening improves training speed and convergence.\n",
    "*Whitening* is linearly transforming inputs to have zero mean, unit variance,\n",
    "and be uncorrelated.\n",
    "\n",
    "### Normalizing outside gradient computation doesn't work\n",
    "\n",
    "Normalizing outside the gradient computation using pre-computed (detached)\n",
    "means and variances doesn't work. For instance. (ignoring variance), let\n",
    "$$\\hat{x} = x - \\mathbb{E}[x]$$\n",
    "where $x = u + b$ and $b$ is a trained bias\n",
    "and $\\mathbb{E}[x]$ is an outside gradient computation (pre-computed constant).\n",
    "\n",
    "Note that $\\hat{x}$ has no effect on $b$.\n",
    "Therefore,\n",
    "$b$ will increase or decrease based\n",
    "$\\frac{\\partial{\\mathcal{L}}}{\\partial x}$,\n",
    "and keep on growing indefinitely in each training update.\n",
    "The paper notes that similar explosions happen with variances.\n",
    "\n",
    "### Batch Normalization\n",
    "\n",
    "Whitening is computationally expensive because you need to de-correlate and\n",
    "the gradients must flow through the full whitening calculation.\n",
    "\n",
    "The paper introduces a simplified version which they call *Batch Normalization*.\n",
    "First simplification is that it normalizes each feature independently to have\n",
    "zero mean and unit variance:\n",
    "$$\\hat{x}^{(k)} = \\frac{x^{(k)} - \\mathbb{E}[x^{(k)}]}{\\sqrt{Var[x^{(k)}]}}$$\n",
    "where $x = (x^{(1)} ... x^{(d)})$ is the $d$-dimensional input.\n",
    "\n",
    "The second simplification is to use estimates of mean $\\mathbb{E}[x^{(k)}]$\n",
    "and variance $Var[x^{(k)}]$ from the mini-batch\n",
    "for normalization; instead of calculating the mean and variance across the whole dataset.\n",
    "\n",
    "Normalizing each feature to zero mean and unit variance could affect what the layer\n",
    "can represent.\n",
    "As an example paper illustrates that, if the inputs to a sigmoid are normalized\n",
    "most of it will be within $[-1, 1]$ range where the sigmoid is linear.\n",
    "To overcome this each feature is scaled and shifted by two trained parameters\n",
    "$\\gamma^{(k)}$ and $\\beta^{(k)}$.\n",
    "$$y^{(k)} =\\gamma^{(k)} \\hat{x}^{(k)} + \\beta^{(k)}$$\n",
    "where $y^{(k)}$ is the output of the batch normalization layer.\n",
    "\n",
    "Note that when applying batch normalization after a linear transform\n",
    "like $Wu + b$ the bias parameter $b$ gets cancelled due to normalization.\n",
    "So you can and should omit bias parameter in linear transforms right before the\n",
    "batch normalization.\n",
    "\n",
    "Batch normalization also makes the back propagation invariant to the scale of the weights\n",
    "and empirically it improves generalization, so it has regularization effects too.\n",
    "\n",
    "## Inference\n",
    "\n",
    "We need to know $\\mathbb{E}[x^{(k)}]$ and $Var[x^{(k)}]$ in order to\n",
    "perform the normalization.\n",
    "So during inference, you either need to go through the whole (or part of) dataset\n",
    "and find the mean and variance, or you can use an estimate calculated during training.\n",
    "The usual practice is to calculate an exponential moving average of\n",
    "mean and variance during the training phase and use that for inference.\n",
    "\n",
    "\n",
    "Batch normalization layer $\\text{BN}$ normalizes the input $X$ as follows:\n",
    "\n",
    "When input $X \\in \\mathbb{R}^{B \\times C \\times H \\times W}$ is a batch of image representations,\n",
    "where $B$ is the batch size, $C$ is the number of channels, $H$ is the height and $W$ is the width.\n",
    "$\\gamma \\in \\mathbb{R}^{C}$ and $\\beta \\in \\mathbb{R}^{C}$.\n",
    "$$\\text{BN}(X) = \\gamma\n",
    "\\frac{X - \\underset{B, H, W}{\\mathbb{E}}[X]}{\\sqrt{\\underset{B, H, W}{Var}[X] + \\epsilon}}\n",
    "+ \\beta$$\n",
    "\n",
    "When input $X \\in \\mathbb{R}^{B \\times C}$ is a batch of embeddings,\n",
    "where $B$ is the batch size and $C$ is the number of features.\n",
    "$\\gamma \\in \\mathbb{R}^{C}$ and $\\beta \\in \\mathbb{R}^{C}$.\n",
    "$$\\text{BN}(X) = \\gamma\n",
    "\\frac{X - \\underset{B}{\\mathbb{E}}[X]}{\\sqrt{\\underset{B}{Var}[X] + \\epsilon}}\n",
    "+ \\beta$$\n",
    "\n",
    "When input $X \\in \\mathbb{R}^{B \\times C \\times L}$ is a batch of a sequence embeddings,\n",
    "where $B$ is the batch size, $C$ is the number of features, and $L$ is the length of the sequence.\n",
    "$\\gamma \\in \\mathbb{R}^{C}$ and $\\beta \\in \\mathbb{R}^{C}$.\n",
    "$$\\text{BN}(X) = \\gamma\n",
    "\\frac{X - \\underset{B, L}{\\mathbb{E}}[X]}{\\sqrt{\\underset{B, L}{Var}[X] + \\epsilon}}\n",
    "+ \\beta$$"
   ]
  },
  {
   "cell_type": "code",
   "execution_count": null,
   "id": "3de7671a-8190-4349-9a96-06f6e7129c2a",
   "metadata": {},
   "outputs": [],
   "source": [
    "#| export\n",
    "class BatchNorm1d(Module):\n",
    "    \"\"\"\n",
    "    1D Batch normalization module in Minima.\n",
    "\n",
    "    This module applies Batch Normalization over a 1D input as described in the paper \"Batch Normalization: Accelerating Deep Network Training by Reducing Internal Covariate Shift\" by Ioffe and Szegedy.\n",
    "\n",
    "    Attributes:\n",
    "    - `dim` (int): The dimension of the input feature space.\n",
    "    - `eps` (float): A small constant added to the denominator for numerical stability.\n",
    "    - `momentum` (float): The value used for the running_mean and running_var computation.\n",
    "    - `weight` (Parameter): The learnable scale factor of the module of size 'dim', initialized with ones.\n",
    "    - `bias` (Parameter): The learnable offset of the module of size 'dim', initialized with zeros.\n",
    "    - `running_mean` (Tensor): The running mean. Represents the mean of the features over batches. Initialized with zeros.\n",
    "    - `running_std` (Tensor): The running standard deviation. Represents the standard deviation of the features over batches. Initialized with ones.\n",
    "\n",
    "    Methods:\n",
    "    - `update_stats(x: Tensor) -> Tuple[Tensor, Tensor]`: Calculates the mean and standard deviation of the input tensor.\n",
    "    - `forward(x: Tensor) -> Tensor`: Applies batch normalization to the input tensor.\n",
    "\n",
    "    Example:\n",
    "    ```python\n",
    "    batch_norm = BatchNorm1d(dim=512)\n",
    "    output = batch_norm(input_tensor)  # Apply batch normalization\n",
    "    ```\n",
    "\n",
    "    \"\"\"\n",
    "    def __init__(\n",
    "        self,\n",
    "        dim: int,\n",
    "        eps=1e-5,\n",
    "        momentum=0.1,\n",
    "        device=None,\n",
    "        dtype=\"float32\"\n",
    "    ):\n",
    "        \"\"\"\n",
    "        Initializes a new `BatchNorm1d` instance.\n",
    "        \n",
    "        Args:\n",
    "            dim: The dimension of the input feature space.\n",
    "            eps: A small constant for numerical stability. Default is 1e-5.\n",
    "            momentum: The value used for the running_mean and running_var computation. Default is 0.1.\n",
    "            device: The desired device of returned tensor. If None, uses the current device for the default tensor type. Default is None.\n",
    "            dtype: The desired data type of returned tensor. If None, uses the default data type. Default is \"float32\".\n",
    "        \"\"\"\n",
    "        \n",
    "        super().__init__()\n",
    "        self.dim = dim\n",
    "        self.eps = eps\n",
    "        self.momentum = momentum\n",
    "        \n",
    "        self.weight = Parameter(init.ones(dim, device=device, dtype=dtype, requires_grad=True))\n",
    "        self.bias = Parameter(init.zeros(dim, device=device, dtype=dtype, requires_grad=True))\n",
    "        \n",
    "        self.running_mean = Tensor(init.zeros(dim, device=device, dtype=dtype))\n",
    "        self.running_std = Tensor(init.ones(dim, device=device, dtype=dtype))\n",
    "        \n",
    "    def update_stats(self, x: Tensor) -> Tuple[Tensor, Tensor]:\n",
    "        \"\"\"\n",
    "        Updates the running mean and running variance of the input tensor.\n",
    "        \n",
    "        Parameters:\n",
    "        ----------\n",
    "        x : Tensor\n",
    "            Input tensor.\n",
    "        \n",
    "        Returns:\n",
    "        ----------\n",
    "        Tuple[Tensor, Tensor]\n",
    "            Mean and variance of the input tensor.\n",
    "        \"\"\"\n",
    "\n",
    "        bs, fs = x.shape\n",
    "        axes=(0,)\n",
    "        mean = x.sum(axes=axes) / bs\n",
    "        x_centered = x - mean.broadcast_to(x.shape)\n",
    "        std = ((x_centered ** 2).sum(axes=axes) / bs)\n",
    "        self.running_mean = self.momentum * mean.data  + (1 - self.momentum) * self.running_mean\n",
    "        self.running_std = self.momentum * std.data + (1 - self.momentum) * self.running_std\n",
    "        return mean,std\n",
    "\n",
    "    def forward(self, x: Tensor) -> Tensor:\n",
    "        \"\"\"\n",
    "        Forward propagation of the batch normalization layer.\n",
    "        \n",
    "        Applies the batch normalization to the input tensor.\n",
    "        \n",
    "        Parameters:\n",
    "        ----------\n",
    "        x : Tensor\n",
    "            Input tensor.\n",
    "        \n",
    "        Returns:\n",
    "        ----------\n",
    "        Tensor\n",
    "            Output tensor after applying batch normalization.\n",
    "        \"\"\"\n",
    "        \n",
    "        if self.training:\n",
    "            mean, std = self.update_stats(x)\n",
    "        else:\n",
    "            mean, std = self.running_mean, self.running_std\n",
    "        x_normed = (x - mean.broadcast_to(x.shape)) / (std.broadcast_to(x.shape) + self.eps) ** .5\n",
    "        return self.weight.broadcast_to(x.shape) * x_normed + self.bias.broadcast_to(x.shape)"
   ]
  },
  {
   "cell_type": "code",
   "execution_count": null,
   "id": "e3ff3cef-74b0-4f7c-93af-7b510179401e",
   "metadata": {},
   "outputs": [],
   "source": [
    "#| export\n",
    "class Dropout(Module):\n",
    "    \"\"\"\n",
    "    Dropout Layer for a Neural Network.\n",
    "    \n",
    "    This class represents a dropout layer in a neural network, which is a simple \n",
    "    and effective regularization technique.\n",
    "    During training, it randomly zeroes out some of the elements of the input tensor\n",
    "    with probability p using samples from a Bernoulli distribution.\n",
    "    \n",
    "    Parameters:\n",
    "    ----------\n",
    "    p: float, optional, default = 0.5\n",
    "        Probability of an element to be zeroed. Default: 0.5.\n",
    "    \"\"\"\n",
    "    \n",
    "    def __init__(self, p = 0.5):\n",
    "        \"\"\"\n",
    "        Initializes the Dropout layer with the specified probability.\n",
    "        \n",
    "        Parameters:\n",
    "        ----------\n",
    "        p : float\n",
    "            Probability of an element to be zeroed.\n",
    "        \"\"\"\n",
    "        \n",
    "        super().__init__()\n",
    "        self.p = p\n",
    "\n",
    "    def forward(self, x: Tensor) -> Tensor:\n",
    "        \"\"\"\n",
    "        Forward propagation of the dropout layer.\n",
    "        \n",
    "        If the layer is in training mode, it applies dropout to the input tensor. \n",
    "        If the layer is in evaluation mode, it returns the input tensor as is.\n",
    "        \n",
    "        Parameters:\n",
    "        ----------\n",
    "        x : Tensor\n",
    "            Input tensor.\n",
    "        \n",
    "        Returns:\n",
    "        ----------\n",
    "        Tensor\n",
    "            Output tensor after applying dropout.\n",
    "        \"\"\"\n",
    "        \n",
    "        binary_mask = init.randb(*x.shape, p=self.p)\n",
    "        if self.training:\n",
    "            return (binary_mask * x) / (1 - self.p)\n",
    "        return x\n"
   ]
  },
  {
   "cell_type": "code",
   "execution_count": null,
   "id": "c8b5a338-fed8-4725-9225-3663ce5feb88",
   "metadata": {},
   "outputs": [],
   "source": [
    "#| export\n",
    "class Residual(Module):\n",
    "    \"\"\"\n",
    "    Residual Layer for a Neural Network.\n",
    "    \n",
    "    This class represents a residual layer in a neural network, which is a technique that helps to overcome\n",
    "    the problem of vanishing and exploding gradients in deep neural networks. It achieves this by allowing\n",
    "    gradients to pass through layers directly (via an identity shortcut connection) without any modification.\n",
    "\n",
    "    Parameters:\n",
    "    ----------\n",
    "    fn: Module\n",
    "        The function to be applied to the input tensor.\n",
    "    \"\"\"\n",
    "    \n",
    "    def __init__(self, fn: Module):\n",
    "        \"\"\"\n",
    "        Initializes the Residual layer with the specified function.\n",
    "        \n",
    "        Parameters:\n",
    "        ----------\n",
    "        fn : Module\n",
    "            The function to be applied to the input tensor.\n",
    "        \"\"\"\n",
    "        super().__init__()\n",
    "        self.fn = fn\n",
    "\n",
    "    def forward(self, x: Tensor) -> Tensor:\n",
    "        \"\"\"\n",
    "        Forward propagation of the residual layer.\n",
    "        \n",
    "        Applies the function to the input tensor and then adds the result to the original input tensor.\n",
    "        \n",
    "        Parameters:\n",
    "        ----------\n",
    "        x : Tensor\n",
    "            Input tensor.\n",
    "        \n",
    "        Returns:\n",
    "        ----------\n",
    "        Tensor\n",
    "            Output tensor after applying the function and adding the result to the original input.\n",
    "        \"\"\"\n",
    "        return x + self.fn(x)"
   ]
  },
  {
   "cell_type": "code",
   "execution_count": null,
   "id": "d39205c5-9fd1-491f-9567-045c5a0d1d60",
   "metadata": {},
   "outputs": [],
   "source": [
    "#| export\n",
    "class Identity(Module):\n",
    "    def forward(self, x):\n",
    "        return x"
   ]
  },
  {
   "cell_type": "markdown",
   "id": "b51bcf1a-a277-49ab-83e7-531e090df371",
   "metadata": {},
   "source": [
    "## Export"
   ]
  },
  {
   "cell_type": "code",
   "execution_count": null,
   "id": "644f7f70-b8aa-44a9-93e8-f319f68123c4",
   "metadata": {},
   "outputs": [],
   "source": [
    "import nbdev; nbdev.nbdev_export()"
   ]
  }
 ],
 "metadata": {
  "kernelspec": {
   "display_name": "python3",
   "language": "python",
   "name": "python3"
  }
 },
 "nbformat": 4,
 "nbformat_minor": 5
}
