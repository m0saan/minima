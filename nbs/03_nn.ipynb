{
 "cells": [
  {
   "cell_type": "markdown",
   "id": "8d5af376-71e0-4629-a9de-08f244c66253",
   "metadata": {},
   "source": [
    "# nn\n",
    "\n",
    "> Fill in a module description here"
   ]
  },
  {
   "cell_type": "code",
   "execution_count": null,
   "id": "d7d75742-46b5-4db9-8bdb-5234d9557740",
   "metadata": {},
   "outputs": [],
   "source": [
    "#|default_exp nn"
   ]
  },
  {
   "cell_type": "code",
   "execution_count": null,
   "id": "a02044ec-9480-46c2-9441-bf7ca89bdcd4",
   "metadata": {},
   "outputs": [],
   "source": [
    "#| export\n",
    "from typing import List, Callable, Any, Tuple\n",
    "from minima.autograd import Tensor\n",
    "from minima import operators\n",
    "import minima.init as init\n",
    "import numpy as np\n",
    "import minima as mi\n",
    "import torch"
   ]
  },
  {
   "cell_type": "code",
   "execution_count": null,
   "id": "6a16df1f-71e2-4b36-80b7-f59581c7dbc6",
   "metadata": {},
   "outputs": [],
   "source": [
    "#| export\n",
    "class Parameter(Tensor):\n",
    "    \"\"\"\n",
    "    A kind of Tensor that is to be considered a module parameter.\n",
    "\n",
    "    Parameters are `Tensor` subclasses, that have a very special property when used with\n",
    "    `Module` s - when they're assigned as Module attributes they are automatically added\n",
    "    to the list of its parameters, and will appear in `Module.parameters()` iterator.\n",
    "    Another difference is that parameters can't be volatile and that they require gradient by default.\n",
    "    \"\"\""
   ]
  },
  {
   "cell_type": "code",
   "execution_count": null,
   "id": "5aebab21-ed3b-4b2b-aeb3-01c8c7b1c6f6",
   "metadata": {},
   "outputs": [],
   "source": [
    "#| export\n",
    "def _unpack_params(value: object) -> List[Tensor]:\n",
    "    \"\"\"\n",
    "    Unpack parameters from different Python objects.\n",
    "\n",
    "    This function takes an object of type `Parameter`, `Module`, `dict`, `list`, or `tuple` and \n",
    "    recursively extracts any contained `Parameter` instances, returning them as a list. For other \n",
    "    object types, it returns an empty list.\n",
    "\n",
    "    Args:\n",
    "        value (object): The input object which could be of type `Parameter`, `Module`, `dict`, \n",
    "                        `list`, `tuple`, or any other type.\n",
    "\n",
    "    Returns:\n",
    "        List[Tensor]: A list containing all the `Parameter` instances found within the input object.\n",
    "                      If no `Parameter` instances are found, an empty list is returned.\n",
    "                      \n",
    "    Example:\n",
    "        module = nn.Module(...)\n",
    "        params = _unpack_params(module)\n",
    "        print(params)  # Prints list of `Parameter` instances contained in `module`.\n",
    "    \"\"\"\n",
    "    if isinstance(value, Parameter):\n",
    "        return [value]\n",
    "    elif isinstance(value, Module):\n",
    "        return list(value.parameters())\n",
    "    elif isinstance(value, dict):\n",
    "        return [item for v in value.values() for item in _unpack_params(v)]\n",
    "    elif isinstance(value, (list, tuple)):\n",
    "        return [item for v in value for item in _unpack_params(v)]\n",
    "    return []"
   ]
  },
  {
   "cell_type": "code",
   "execution_count": null,
   "id": "3c0bfa6d-8425-4b16-ac25-838a76f020ab",
   "metadata": {},
   "outputs": [],
   "source": [
    "#| export\n",
    "def _child_modules(value: object) -> List[\"Module\"]:\n",
    "    \"\"\"\n",
    "    Recursively unpack child modules from different Python objects.\n",
    "\n",
    "    This function takes an object of type `Module`, `dict`, `list`, or `tuple` and \n",
    "    recursively extracts any contained `Module` instances, returning them as a list. \n",
    "    For other object types, it returns an empty list.\n",
    "\n",
    "    Args:\n",
    "        value (object): The input object which could be of type `Module`, `dict`, \n",
    "                        `list`, `tuple`, or any other type.\n",
    "\n",
    "    Returns:\n",
    "        List[Module]: A list containing all the `Module` instances found within \n",
    "                      the input object. If no `Module` instances are found, \n",
    "                      an empty list is returned.\n",
    "\n",
    "    Example:\n",
    "        class MyModule(Module):\n",
    "            def __init__(self):\n",
    "                super().__init__()\n",
    "                self.layer1 = nn.Linear(20, 20)\n",
    "                self.layer2 = nn.Linear(20, 20)\n",
    "        \n",
    "        my_module = MyModule()\n",
    "        children = _child_modules(my_module)\n",
    "        print(children)  # Prints list of `Module` instances contained in `my_module`.\n",
    "    \"\"\"\n",
    "    if isinstance(value, Module):\n",
    "        return [value] + _child_modules(value.__dict__)\n",
    "    elif isinstance(value, dict):\n",
    "        return [item for v in value.values() for item in _child_modules(v)]\n",
    "    elif isinstance(value, (list, tuple)):\n",
    "        return [item for v in value for item in _child_modules(v)]\n",
    "    else:\n",
    "        return []"
   ]
  },
  {
   "cell_type": "code",
   "execution_count": null,
   "id": "159a2cae-078a-4bd3-8a09-cee5af7ba728",
   "metadata": {},
   "outputs": [],
   "source": [
    "#|export\n",
    "class Module:\n",
    "    \"\"\"\n",
    "    Base class for all neural network modules in Minima.\n",
    "\n",
    "    Your models should also subclass this class. Subclasses should define a `forward` method.\n",
    "\n",
    "    Attributes:\n",
    "    - `training` (bool): Module is initialized in training mode by default. Use `eval()` to switch it to evaluation mode.\n",
    "\n",
    "    Methods:\n",
    "    - `parameters()`: Returns a list of all `Parameter` instances in the module.\n",
    "    - `_children()`: Returns a list of all child `Module` instances.\n",
    "    - `eval()`: Switches the module and all its children to evaluation mode.\n",
    "    - `train()`: Switches the module and all its children back to training mode.\n",
    "    - `__call__()`: The call method, which simply calls the `forward` method, must be defined by all subclasses.\n",
    "    \"\"\"\n",
    "    \n",
    "    def __init__(self):\n",
    "        self.training = True\n",
    "\n",
    "    def parameters(self) -> List[Parameter]:\n",
    "        \"\"\"\n",
    "        Returns a list of all `Parameter` instances in the module.\n",
    "        This is done by unpacking the parameters from the module's dictionary.\n",
    "        \"\"\"\n",
    "        return _unpack_params(self.__dict__)\n",
    "\n",
    "    def _children(self) -> List[\"Module\"]:\n",
    "        \"\"\"\n",
    "        Returns a list of all child `Module` instances in the module.\n",
    "        This is done by unpacking the modules from the module's dictionary.\n",
    "        \"\"\"\n",
    "        return _child_modules(self.__dict__)\n",
    "\n",
    "    def eval(self):\n",
    "        \"\"\"\n",
    "        Switches the module and all its child modules to evaluation mode.\n",
    "        \"\"\"\n",
    "        self.training = False\n",
    "        for m in self._children():\n",
    "            m.training = False\n",
    "\n",
    "    def train(self):\n",
    "        \"\"\"\n",
    "        Switches the module and all its child modules to training mode.\n",
    "        \"\"\"\n",
    "        self.training = True\n",
    "        for m in self._children():\n",
    "            m.training = True\n",
    "\n",
    "    def __call__(self, *args, **kwargs):\n",
    "        \"\"\"\n",
    "        Defines the call method for the module.\n",
    "        This method simply calls the forward method and must be overridden by all subclasses.\n",
    "        \"\"\"\n",
    "        return self.forward(*args, **kwargs)"
   ]
  },
  {
   "cell_type": "code",
   "execution_count": null,
   "id": "a02db133-e9af-4a55-a56c-666b4cbd733b",
   "metadata": {},
   "outputs": [],
   "source": [
    "#| export\n",
    "class Sequential(Module):\n",
    "    \"\"\"\n",
    "    A sequential container in Minima.\n",
    "\n",
    "    Modules will be added to it in the order they are passed in the constructor.\n",
    "    A `Sequential` module contains a sequence of child modules stored in the order they were added. \n",
    "    Each module is applied in order to the input to produce the output.\n",
    "\n",
    "    The `Sequential` class makes it easy to build networks where the output of one layer is the input to the next.\n",
    "\n",
    "    Attributes:\n",
    "    - `modules` (tuple of `Module`): The sequence of child modules to apply.\n",
    "\n",
    "    Methods:\n",
    "    - `forward(x: Tensor) -> Tensor`: Passes the input through all the child modules in sequential order.\n",
    "    \"\"\"\n",
    "    def __init__(\n",
    "        self,\n",
    "        *modules # The sequence of child modules to apply. Each argument should be an instance of `Module`.\n",
    "    ):\n",
    "        \"\"\"\n",
    "        Initializes a new `Sequential` instance.\n",
    "        \n",
    "        Args:\n",
    "            *modules: The sequence of child modules to apply. Each argument should be an instance of `Module`.\n",
    "        \"\"\"\n",
    "        super().__init__()\n",
    "        self.modules = modules\n",
    "        \n",
    "    def forward(self, x: Tensor) -> Tensor:\n",
    "        \"\"\"\n",
    "        Defines the forward pass for the sequential module.\n",
    "        \n",
    "        Passes the input through all the child modules in the order they were added.\n",
    "\n",
    "        Args:\n",
    "            x (Tensor): The input tensor.\n",
    "        \n",
    "        Returns:\n",
    "            Tensor: The output tensor.\n",
    "        \"\"\"\n",
    "        for module in self.modules:\n",
    "            x = module(x)\n",
    "        return x\n"
   ]
  },
  {
   "cell_type": "code",
   "execution_count": null,
   "id": "e4041d0e-b95e-46c6-b0f6-0987cbd9763a",
   "metadata": {},
   "outputs": [],
   "source": [
    "#| export\n",
    "class Linear(Module):\n",
    "    \"\"\"\n",
    "    A class representing a fully connected (linear) layer in a neural network.\n",
    "    This class inherits from the `Module` class.\n",
    "\n",
    "    Attributes:\n",
    "        in_features (int): The number of input features.\n",
    "        out_features (int): The number of output features.\n",
    "        device (str): The device to store the Parameters on (defaults to None, which means CPU).\n",
    "        dtype (str): The data type of the Parameters (defaults to 'float32').\n",
    "        weight (Parameter): The weight parameters of the layer.\n",
    "        bias (Parameter): The bias parameters of the layer, or None if bias=False.\n",
    "\n",
    "    Methods:\n",
    "        forward(X: Tensor) -> Tensor: Compute the forward pass of the layer.\n",
    "    \"\"\"\n",
    "    \n",
    "    def __init__(\n",
    "        self,\n",
    "        in_features, # The number of input features.\n",
    "        out_features,# The number of output features.\n",
    "        bias=True, # Whether or not to include a bias term. Default is True.\n",
    "        device=None, # The device to store the Parameters on. Default is None, which means CPU.\n",
    "        dtype=\"float32\" # The data type of the Parameters. Default is 'float32'.\n",
    "    ):\n",
    "        \"\"\"\n",
    "        Initialize the layer with given input/output feature sizes and, optionally, bias, device, and dtype.\n",
    "\n",
    "        Args:\n",
    "            in_features (int): The number of input features.\n",
    "            out_features (int): The number of output features.\n",
    "            bias (bool, optional): Whether or not to include a bias term. Default is True.\n",
    "            device (str, optional): The device to store the Parameters on. Default is None, which means CPU.\n",
    "            dtype (str, optional): The data type of the Parameters. Default is 'float32'.\n",
    "        \"\"\"\n",
    "        \n",
    "        super().__init__()\n",
    "        self.in_features = in_features\n",
    "        self.out_features = out_features\n",
    "        self.device = device\n",
    "        self.dtype = dtype\n",
    "\n",
    "        self.weight = Parameter(init.kaiming_uniform(fan_in=in_features, fan_out=out_features, device=device, dtype=dtype))\n",
    "        self.bias = (Parameter(init.kaiming_uniform(fan_in=out_features, fan_out=1, device=device, dtype=dtype)).reshape((1, out_features))\n",
    "                     if bias else None)\n",
    "        \n",
    "    def __repr__(self) -> str:\n",
    "        return f'Linear(in_features={self.in_features}, out_features={self.out_features}, bias={self.bias is not None})'\n",
    "            \n",
    "    def forward(self, X: Tensor) -> Tensor:\n",
    "        \"\"\"\n",
    "        Compute the forward pass of the layer.\n",
    "\n",
    "        This function applies the linear transformation to the input tensor X, \n",
    "        i.e., performs the matrix multiplication of X and the weight tensor, \n",
    "        and then adds the bias tensor (if bias is not None).\n",
    "\n",
    "        Args:\n",
    "            X (Tensor): The input tensor.\n",
    "\n",
    "        Returns:\n",
    "            Tensor: The output tensor.\n",
    "        \"\"\"\n",
    "        \n",
    "        out = X @ self.weight\n",
    "        out = out + self.bias.broadcast_to(out.shape) if self.bias else out\n",
    "        return out"
   ]
  },
  {
   "cell_type": "code",
   "execution_count": null,
   "id": "ec1e691a-6368-4892-81d2-d5f8ad8a4080",
   "metadata": {},
   "outputs": [],
   "source": [
    "from minima.optim import *"
   ]
  },
  {
   "cell_type": "code",
   "execution_count": null,
   "id": "2219fc4b-6db4-45c7-953e-ced54ad91044",
   "metadata": {},
   "outputs": [
    {
     "name": "stdout",
     "output_type": "stream",
     "text": [
      "[<__main__.MyModule object>, Linear(in_features=10, out_features=20, bias=True), Linear(in_features=20, out_features=10, bias=True)]\n"
     ]
    }
   ],
   "source": [
    "class MyModule(Module):\n",
    "    def __init__(self):\n",
    "        super().__init__()\n",
    "        self.layer1 = Linear(10, 20)\n",
    "        self.layer2 = Linear(20, 10)\n",
    "\n",
    "    def forward(self, x):\n",
    "        x = self.layer1(x)\n",
    "        x = self.layer2(x)\n",
    "        return x\n",
    "\n",
    "my_module = MyModule()\n",
    "\n",
    "children = _child_modules(my_module)\n",
    "print(children)  # Prints list of `Module` instances contained in `my_module`."
   ]
  },
  {
   "cell_type": "code",
   "execution_count": null,
   "id": "3dd603ab-d8bd-4e25-92b3-1e29d9075cd2",
   "metadata": {},
   "outputs": [
    {
     "data": {
      "text/plain": [
       "[minima.Tensor(\n",
       " [[ 0.329823 -0.167993  0.560887 -0.537363  0.581911  0.732867  0.494777 -0.684412  0.194317  0.081179 -0.569597 -0.421246 -0.683027 -0.370419  0.445026\n",
       "   -0.29062   0.084374  0.318393 -0.690275  0.510169]\n",
       "  [-0.56219  -0.282506 -0.216784 -0.223863 -0.659174  0.65854   0.51567  -0.247726  0.073719  0.027374  0.041646 -0.51615  -0.567276  0.035234  0.327\n",
       "    0.224851  0.632085 -0.019364 -0.261329 -0.389223]\n",
       "  [-0.379544  0.119695 -0.05788   0.702472  0.106835 -0.231617  0.690104  0.025815  0.267898 -0.009526 -0.006933 -0.757908 -0.20862  -0.120942 -0.63646\n",
       "   -0.484316  0.49758  -0.099247  0.496958  0.03028 ]\n",
       "  [ 0.259372 -0.09785  -0.06363   0.242628  0.026562  0.490156  0.570457 -0.268289  0.250958 -0.34721  -0.47919  -0.457865  0.025089  0.305326 -0.133044\n",
       "    0.207667 -0.723078 -0.613882 -0.614417 -0.153913]\n",
       "  [ 0.109712  0.176938  0.0948    0.168363  0.747053 -0.080013 -0.65533  -0.1012   -0.517097  0.195602 -0.258266  0.694916 -0.756439 -0.310249 -0.695871\n",
       "    0.737508  0.245133 -0.171638 -0.504008  0.500179]\n",
       "  [ 0.292706  0.120288 -0.111615 -0.684983  0.291132  0.295939  0.447671 -0.062387 -0.405451 -0.309629  0.263177  0.687798  0.096117  0.011009 -0.049775\n",
       "   -0.044759  0.251514  0.043456 -0.488077 -0.446416]\n",
       "  [ 0.609011 -0.287107 -0.546234  0.387768 -0.395301  0.334599 -0.289591  0.381394 -0.271425  0.021217 -0.023888  0.720134  0.146457 -0.714591 -0.737022\n",
       "   -0.387899 -0.011095  0.311506 -0.67343   0.267442]\n",
       "  [-0.625036 -0.486706 -0.134416  0.531555 -0.430902 -0.748687  0.235954 -0.230293  0.613241  0.671014 -0.293874 -0.040578 -0.389813 -0.53178   0.717887\n",
       "   -0.147749  0.593459 -0.512499 -0.480297  0.657033]\n",
       "  [ 0.496134  0.429531  0.203829 -0.325095 -0.369534 -0.044874  0.372546  0.476413 -0.31232   0.353192  0.071493 -0.503872 -0.245307  0.097414 -0.023452\n",
       "    0.314211 -0.088876  0.126432 -0.214282 -0.036385]\n",
       "  [ 0.474288  0.037589  0.075101  0.285549  0.257049 -0.368738  0.357136 -0.527725  0.38885  -0.442363  0.721357  0.723512 -0.593203  0.269449 -0.248138\n",
       "   -0.701753  0.67646  -0.301324 -0.276002 -0.051867]]),\n",
       " minima.Tensor(\n",
       " [[ 0.122337 -0.33443   0.17487  -0.123566  0.483874  0.07804  -0.072002 -0.355617 -0.053586  0.134266]\n",
       "  [ 0.517646  0.233968  0.321631  0.151372  0.218574  0.333557 -0.010328 -0.322035 -0.295148  0.530027]\n",
       "  [-0.529902 -0.542593 -0.494352  0.29418   0.403841 -0.175882  0.320637  0.080367  0.010777  0.231766]\n",
       "  [-0.446579 -0.501291 -0.216086  0.291792 -0.383676 -0.439903  0.225427  0.136868 -0.392398 -0.256023]\n",
       "  [-0.503334  0.52469  -0.500427  0.086714  0.000641 -0.277267  0.073433 -0.305543  0.373119  0.43038 ]\n",
       "  [-0.339953 -0.235486 -0.236177 -0.23346  -0.046518  0.32926   0.092537 -0.103151  0.340032  0.418542]\n",
       "  [-0.218749  0.307726  0.438219 -0.321056  0.192688 -0.229691 -0.135248  0.219653  0.238133  0.062439]\n",
       "  [-0.060855  0.136757  0.380392 -0.350254  0.152898 -0.402395  0.480771  0.28318   0.273484 -0.296825]\n",
       "  [ 0.424343 -0.236327  0.221909  0.464154 -0.517387  0.437507  0.390251 -0.397335  0.020803 -0.235623]\n",
       "  [-0.013518  0.055528  0.463801  0.153349  0.402178 -0.482919  0.051247 -0.150586  0.33271  -0.026538]\n",
       "  [ 0.156557  0.517642  0.338137  0.025894 -0.100201 -0.073958 -0.403026  0.153948  0.049137  0.426185]\n",
       "  [-0.240245 -0.512006 -0.454137  0.410182 -0.036454  0.356443  0.484258 -0.386167  0.545627 -0.417897]\n",
       "  [ 0.016943 -0.204775  0.38095   0.245096 -0.032741 -0.442961  0.034905 -0.256356  0.325833 -0.288182]\n",
       "  [ 0.521126  0.195444 -0.535937 -0.132829  0.26061  -0.050188 -0.348787 -0.395711  0.079946  0.409689]\n",
       "  [-0.53994  -0.354242 -0.368505 -0.334709  0.157404 -0.509585  0.266663 -0.338277  0.293231 -0.349018]\n",
       "  [ 0.326557  0.457126  0.28433  -0.130697 -0.380295  0.44566   0.196726 -0.030799  0.142401 -0.44645 ]\n",
       "  [-0.226009  0.524776  0.125144 -0.37372  -0.533648  0.069158 -0.273413  0.440063  0.186875  0.252272]\n",
       "  [ 0.158456  0.511605 -0.475957  0.15113   0.337077  0.546101 -0.256899  0.127972 -0.408934  0.5396  ]\n",
       "  [ 0.406907 -0.314876 -0.059724  0.243445 -0.459266  0.219785  0.478995 -0.213956 -0.329368  0.088725]\n",
       "  [-0.433611  0.120083 -0.028565 -0.168733 -0.303025 -0.448594 -0.422439 -0.22196   0.420341  0.541295]])]"
      ]
     },
     "execution_count": null,
     "metadata": {},
     "output_type": "execute_result"
    }
   ],
   "source": [
    "my_module.parameters()"
   ]
  },
  {
   "cell_type": "code",
   "execution_count": null,
   "id": "dd658723-8093-4bea-b70f-1d88e6507c72",
   "metadata": {},
   "outputs": [
    {
     "data": {
      "text/plain": [
       "Linear(in_features=10, out_features=5, bias=True)"
      ]
     },
     "execution_count": null,
     "metadata": {},
     "output_type": "execute_result"
    }
   ],
   "source": [
    "Linear(in_features=10, out_features=5, bias=True)"
   ]
  },
  {
   "cell_type": "code",
   "execution_count": null,
   "id": "7dcef86a-a0f1-4dcc-aeda-dc752e8f1f3a",
   "metadata": {},
   "outputs": [],
   "source": [
    "#| export\n",
    "class Flatten(Module):\n",
    "    \"\"\"\n",
    "    A `Flatten` module in Minima.\n",
    "\n",
    "    This module flattens an input tensor into a 2D matrix, typically for transitioning from convolutional layers to linear layers within a neural network model.\n",
    "\n",
    "    Methods:\n",
    "    - `forward(X: Tensor) -> Tensor`: Flattens the input tensor.\n",
    "    \"\"\"\n",
    "    \n",
    "    def forward(self, X: Tensor) -> Tensor:\n",
    "        \"\"\"\n",
    "        Defines the forward pass for the Flatten module.\n",
    "        \n",
    "        This method flattens an input tensor along all dimensions except the batch dimension.\n",
    "\n",
    "        Args:\n",
    "            X (Tensor): The input tensor. It is expected to have at least two dimensions.\n",
    "\n",
    "        Returns:\n",
    "            Tensor: The output tensor, which is a 2D tensor with the same number of elements as the input tensor.\n",
    "        \"\"\"\n",
    "        return X.reshape((X.shape[0], -1))\n"
   ]
  },
  {
   "cell_type": "code",
   "execution_count": null,
   "id": "1734f377-9984-4a9d-a573-b492ae3844de",
   "metadata": {},
   "outputs": [],
   "source": [
    "#| export\n",
    "class ReLU(Module):\n",
    "    def forward(self, x: Tensor) -> Tensor:\n",
    "        return operators.relu(x)"
   ]
  },
  {
   "cell_type": "markdown",
   "id": "341e6b2c-01f9-4954-89cb-a9d2f6da4d9f",
   "metadata": {},
   "source": [
    "The implementation you've shared is a numerically stable version of the Cross Entropy Loss formula, which is generally defined for a single sample as:\n",
    "\n",
    "$$\n",
    "H(p, q) = - \\sum_{i} p_i \\log(q_i)\n",
    "$$\n",
    "\n",
    "where:\n",
    "- $p$ is the true distribution (in classification, typically a one-hot encoded vector),\n",
    "- $q$ is the predicted distribution (output of the softmax function on the logits from the model).\n",
    "\n",
    "However, directly implementing this formula can lead to numerical instability because of the log operation. The given implementation overcomes this by using the Log-Sum-Exp trick to prevent underflow or overflow.\n",
    "$$ CE = -\\sum_{i=1}^{C} y_i \\log(\\hat{y_i}) $$\n",
    "\n",
    "where $y$ is the ground truth label and $\\hat{y}$ is the predicted probability, and $C$ is the number of classes. In the case of one-hot encoding, only the term corresponding to the true class contributes to the sum. So, we can simplify it to:\n",
    "\n",
    "$$\n",
    "CE = -\\log(\\hat{y_c})\n",
    "$$\n",
    "\n",
    "where $c$ is the correct class.\n",
    "\n",
    "The predicted probabilities $\\hat{y}$ are obtained by applying the softmax function to the logits $z$:\n",
    "\n",
    "$$\n",
    "\\hat{y_i} = \\frac{e^{z_i}}{\\sum_{j=1}^{C} e^{z_j}}\n",
    "$$\n",
    "\n",
    "Substituting $\\hat{y_c}$ in the Cross-Entropy Loss, we have:\n",
    "\n",
    "$$\n",
    "CE = -\\log\\left(\\frac{e^{z_c}}{\\sum_{j=1}^{C} e^{z_j}}\\right)\n",
    "$$\n",
    "\n",
    "Applying the logarithm property $\\log(a/b) = \\log(a) - \\log(b)$, we get:\n",
    "\n",
    "$$\n",
    "CE = -z_c + \\log\\left(\\sum_{j=1}^{C} e^{z_j}\\right)\n",
    "$$\n",
    "\n",
    "First, `log_sum_exp_logits = ops.logsumexp(logits, axes=(1, )).sum()` computes the term $\\log\\left(\\sum_{j=1}^{C} e^{z_j}\\right)$. The function `logsumexp` computes the logarithm of the sum of exponentials in a numerically stable way, and then these values are summed over all samples.\n",
    "\n",
    "Second, `true_class_logits_sum = (logits * init.one_hot(logits.shape[1], y)).sum()` computes the $-z_c$ term for each sample. The function `init.one_hot(logits.shape[1], y)` creates a one-hot encoding of the true labels, and this is then multiplied with the logits to pick out the logits for the correct classes. These values are then summed over all samples.\n",
    "\n",
    "Finally, `(log_sum_exp_logits - true_class_logits_sum) / logits.shape[0]` computes the average loss per sample."
   ]
  },
  {
   "cell_type": "code",
   "execution_count": null,
   "id": "d4ee69cf-f91c-4c82-a836-f5c393606e6b",
   "metadata": {},
   "outputs": [],
   "source": [
    "logits = mi.Tensor([[ 0.6734,  0.2576],\n",
    "        [ 0.4689,  0.4607],\n",
    "        [-2.2457, -0.3727],\n",
    "        [ 4.4164, -1.2760],\n",
    "        [ 0.9233,  0.5347],\n",
    "        [ 1.0698,  1.6187]])\n",
    "targ = mi.Tensor([0,1,0,1,1,0])"
   ]
  },
  {
   "cell_type": "code",
   "execution_count": null,
   "id": "9ad70e54-d317-4a46-83d3-4811ddfabdd4",
   "metadata": {},
   "outputs": [
    {
     "data": {
      "text/plain": [
       "minima.Tensor(\n",
       "[ 1.180104  1.157956 -0.229759  4.419766  1.440906  2.074595])"
      ]
     },
     "execution_count": null,
     "metadata": {},
     "output_type": "execute_result"
    }
   ],
   "source": [
    "log_sum_exp_logits = operators.logsumexp(logits, axes=(1, ))\n",
    "log_sum_exp_logits"
   ]
  },
  {
   "cell_type": "code",
   "execution_count": null,
   "id": "33da707b-6b61-447a-ada8-742c0b8b6fd6",
   "metadata": {},
   "outputs": [],
   "source": [
    "log_sum_exp_logits = log_sum_exp_logits.sum()"
   ]
  },
  {
   "cell_type": "code",
   "execution_count": null,
   "id": "2e964dd0-5bbe-4d0e-b6bd-6cf76a990018",
   "metadata": {},
   "outputs": [
    {
     "data": {
      "text/plain": [
       "minima.Tensor(\n",
       "[[1. 0.]\n",
       " [0. 1.]\n",
       " [1. 0.]\n",
       " [0. 1.]\n",
       " [0. 1.]\n",
       " [1. 0.]])"
      ]
     },
     "execution_count": null,
     "metadata": {},
     "output_type": "execute_result"
    }
   ],
   "source": [
    "one_hot_y = init.one_hot(logits.shape[1], targ)\n",
    "one_hot_y"
   ]
  },
  {
   "cell_type": "code",
   "execution_count": null,
   "id": "48a3f6ad-3b11-4c66-9a1c-d53eec9b6fe0",
   "metadata": {},
   "outputs": [
    {
     "data": {
      "text/plain": [
       "minima.Tensor(\n",
       "[[ 0.6734  0.    ]\n",
       " [ 0.      0.4607]\n",
       " [-2.2457 -0.    ]\n",
       " [ 0.     -1.276 ]\n",
       " [ 0.      0.5347]\n",
       " [ 1.0698  0.    ]])"
      ]
     },
     "execution_count": null,
     "metadata": {},
     "output_type": "execute_result"
    }
   ],
   "source": [
    "true_class_logits = (logits * one_hot_y)\n",
    "true_class_logits"
   ]
  },
  {
   "cell_type": "code",
   "execution_count": null,
   "id": "84dac818-0526-4fd7-bf48-fc47759b69be",
   "metadata": {},
   "outputs": [
    {
     "data": {
      "text/plain": [
       "minima.Tensor(\n",
       "-0.7830999999999999)"
      ]
     },
     "execution_count": null,
     "metadata": {},
     "output_type": "execute_result"
    }
   ],
   "source": [
    "true_class_logits_sum = true_class_logits.sum()\n",
    "true_class_logits_sum"
   ]
  },
  {
   "cell_type": "code",
   "execution_count": null,
   "id": "aee5627a-5ec8-4a12-8f16-d5ab9abb013b",
   "metadata": {},
   "outputs": [
    {
     "data": {
      "text/plain": [
       "minima.Tensor(\n",
       "1.8044446680186768)"
      ]
     },
     "execution_count": null,
     "metadata": {},
     "output_type": "execute_result"
    }
   ],
   "source": [
    "loss = (log_sum_exp_logits - true_class_logits_sum) / targ.shape[0]\n",
    "loss"
   ]
  },
  {
   "cell_type": "code",
   "execution_count": null,
   "id": "965a1e92-f6fe-4b01-a785-528e8cce4248",
   "metadata": {},
   "outputs": [
    {
     "data": {
      "text/plain": [
       "tensor(1.8044, dtype=torch.float64)"
      ]
     },
     "execution_count": null,
     "metadata": {},
     "output_type": "execute_result"
    }
   ],
   "source": [
    "loss = torch.nn.CrossEntropyLoss()(torch.tensor(logits.numpy()), torch.tensor(targ.numpy()))\n",
    "loss"
   ]
  },
  {
   "cell_type": "code",
   "execution_count": null,
   "id": "fe121e42-5dc7-430d-b9c8-1a26e2ac3e79",
   "metadata": {},
   "outputs": [],
   "source": [
    "#| export\n",
    "class CrossEntropyLoss(Module):\n",
    "    \"\"\"\n",
    "    Cross-entropy loss module in Minima.\n",
    "\n",
    "    This module computes the Cross Entropy Loss between the input logits and the target classes. \n",
    "    It's useful in classification tasks where the model outputs probabilities for each class.\n",
    "\n",
    "    Methods:\n",
    "    - `forward(input: Tensor, target: Tensor) -> Tensor`: Calculates the cross-entropy loss between the input (logits) and the target (class indices).\n",
    "\n",
    "    Example:\n",
    "    ```python\n",
    "    model = Sequential(\n",
    "        Linear(10, 20),\n",
    "        ReLU(),\n",
    "        Linear(20, 10),\n",
    "    )\n",
    "    loss_fn = CrossEntropyLoss()\n",
    "    output = model(input_tensor)  # compute model output\n",
    "    loss = loss_fn(output, target_tensor)  # compute loss\n",
    "    ```\n",
    "    \"\"\"\n",
    "\n",
    "    def forward(self, input: Tensor, target: Tensor) -> Tensor:\n",
    "        \"\"\"\n",
    "        Computes the Cross Entropy Loss between the input logits and the target class indices.\n",
    "\n",
    "        Args:\n",
    "            input (Tensor): The input tensor. The logits, typically of shape (batch_size, num_classes).\n",
    "            target (Tensor): The target tensor. The correct class indices, typically of shape (batch_size).\n",
    "\n",
    "        Returns:\n",
    "            Tensor: A single tensor that is the average cross-entropy loss.\n",
    "        \"\"\"\n",
    "        log_sum_exp_logits = ops.logsumexp(input, axes=(1, )).sum()\n",
    "        true_class_logits_sum = (input * init.one_hot(input.shape[1], target)).sum()\n",
    "        return (log_sum_exp_logits - true_class_logits_sum) / input.shape[0]\n"
   ]
  },
  {
   "cell_type": "markdown",
   "id": "0618b0d2-5694-4eb8-8216-6b85607d68af",
   "metadata": {},
   "source": [
    "## Layer normalization"
   ]
  },
  {
   "cell_type": "markdown",
   "id": "1aa9115e-39cc-4c1c-b7af-50fb15e1f3cb",
   "metadata": {},
   "source": [
    "Layer normalization $\\text{LN}$ normalizes the input $X$ as follows:\n",
    "\n",
    "When input $X \\in \\mathbb{R}^{B \\times C}$ is a batch of embeddings,\n",
    "where $B$ is the batch size and $C$ is the number of features.\n",
    "$\\gamma \\in \\mathbb{R}^{C}$ and $\\beta \\in \\mathbb{R}^{C}$.\n",
    "$$\\text{LN}(X) = \\gamma\n",
    "\\frac{X - \\underset{C}{\\mathbb{E}}[X]}{\\sqrt{\\underset{C}{Var}[X] + \\epsilon}}\n",
    "+ \\beta$$\n",
    "\n",
    "When input $X \\in \\mathbb{R}^{L \\times B \\times C}$ is a batch of a sequence of embeddings,\n",
    "where $B$ is the batch size, $C$ is the number of channels, $L$ is the length of the sequence.\n",
    "$\\gamma \\in \\mathbb{R}^{C}$ and $\\beta \\in \\mathbb{R}^{C}$.\n",
    "$$\\text{LN}(X) = \\gamma\n",
    "\\frac{X - \\underset{C}{\\mathbb{E}}[X]}{\\sqrt{\\underset{C}{Var}[X] + \\epsilon}}\n",
    "+ \\beta$$\n",
    "\n",
    "When input $X \\in \\mathbb{R}^{B \\times C \\times H \\times W}$ is a batch of image representations,\n",
    "where $B$ is the batch size, $C$ is the number of channels, $H$ is the height and $W$ is the width.\n",
    "This is not a widely used scenario.\n",
    "$\\gamma \\in \\mathbb{R}^{C \\times H \\times W}$ and $\\beta \\in \\mathbb{R}^{C \\times H \\times W}$.\n",
    "$$\\text{LN}(X) = \\gamma\n",
    "\\frac{X - \\underset{C, H, W}{\\mathbb{E}}[X]}{\\sqrt{\\underset{C, H, W}{Var}[X] + \\epsilon}}\n",
    "+ \\beta$$\n"
   ]
  },
  {
   "cell_type": "code",
   "execution_count": null,
   "id": "daa70646-2626-4ca0-89f0-2ac699db9cfb",
   "metadata": {},
   "outputs": [
    {
     "data": {
      "text/plain": [
       "minima.Tensor(\n",
       "[[0.199378 0.981414 0.475493 0.679703 0.014818 0.538479 0.978319 0.625865 0.947059 0.873816]\n",
       " [0.987005 0.109924 0.528137 0.819796 0.665707 0.803571 0.967713 0.306718 0.833684 0.059721]\n",
       " [0.082946 0.518595 0.600799 0.103398 0.836558 0.679257 0.728092 0.090038 0.71195  0.667889]\n",
       " [0.558837 0.407464 0.334069 0.089643 0.879593 0.06825  0.705553 0.378811 0.325578 0.583336]\n",
       " [0.970824 0.349963 0.72539  0.507108 0.005181 0.204963 0.95861  0.508097 0.088628 0.791215]])"
      ]
     },
     "execution_count": null,
     "metadata": {},
     "output_type": "execute_result"
    }
   ],
   "source": [
    "X = mi.Tensor(init.rand(5, 10))\n",
    "X"
   ]
  },
  {
   "cell_type": "code",
   "execution_count": null,
   "id": "52ddb61c-065f-44b9-9617-58b9f0b4b760",
   "metadata": {},
   "outputs": [
    {
     "data": {
      "text/plain": [
       "(5, 10)"
      ]
     },
     "execution_count": null,
     "metadata": {},
     "output_type": "execute_result"
    }
   ],
   "source": [
    "bs, fs = X.shape\n",
    "bs, fs"
   ]
  },
  {
   "cell_type": "code",
   "execution_count": null,
   "id": "7116fcc9-573e-4ad6-98e2-13e264657ed4",
   "metadata": {},
   "outputs": [
    {
     "data": {
      "text/plain": [
       "minima.Tensor(\n",
       "[0.631434 0.608198 0.501952 0.433114 0.510998])"
      ]
     },
     "execution_count": null,
     "metadata": {},
     "output_type": "execute_result"
    }
   ],
   "source": [
    "mean = X.sum(axes=(1,)) / fs\n",
    "mean"
   ]
  },
  {
   "cell_type": "code",
   "execution_count": null,
   "id": "c92e27bf-dcca-4127-af93-ccff32dc21cc",
   "metadata": {},
   "outputs": [
    {
     "data": {
      "text/plain": [
       "minima.Tensor(\n",
       "[[0.631434]\n",
       " [0.608198]\n",
       " [0.501952]\n",
       " [0.433114]\n",
       " [0.510998]])"
      ]
     },
     "execution_count": null,
     "metadata": {},
     "output_type": "execute_result"
    }
   ],
   "source": [
    "mean = mean.reshape((bs, 1))\n",
    "mean"
   ]
  },
  {
   "cell_type": "code",
   "execution_count": null,
   "id": "a480c824-797f-4a65-aef8-a8e55bff01ef",
   "metadata": {},
   "outputs": [
    {
     "data": {
      "text/plain": [
       "minima.Tensor(\n",
       "[[0.631434 0.631434 0.631434 0.631434 0.631434 0.631434 0.631434 0.631434 0.631434 0.631434]\n",
       " [0.608198 0.608198 0.608198 0.608198 0.608198 0.608198 0.608198 0.608198 0.608198 0.608198]\n",
       " [0.501952 0.501952 0.501952 0.501952 0.501952 0.501952 0.501952 0.501952 0.501952 0.501952]\n",
       " [0.433114 0.433114 0.433114 0.433114 0.433114 0.433114 0.433114 0.433114 0.433114 0.433114]\n",
       " [0.510998 0.510998 0.510998 0.510998 0.510998 0.510998 0.510998 0.510998 0.510998 0.510998]])"
      ]
     },
     "execution_count": null,
     "metadata": {},
     "output_type": "execute_result"
    }
   ],
   "source": [
    "mean = mean.broadcast_to(X.shape)\n",
    "mean"
   ]
  },
  {
   "cell_type": "code",
   "execution_count": null,
   "id": "74c248e4-6a05-460a-a84e-4b9e89ba11e3",
   "metadata": {},
   "outputs": [
    {
     "data": {
      "text/plain": [
       "minima.Tensor(\n",
       "[[-0.432056  0.349979 -0.155941  0.048269 -0.616617 -0.092956  0.346884 -0.005569  0.315624  0.242382]\n",
       " [ 0.378808 -0.498274 -0.080061  0.211599  0.057509  0.195373  0.359515 -0.30148   0.225487 -0.548476]\n",
       " [-0.419006  0.016643  0.098847 -0.398554  0.334606  0.177305  0.22614  -0.411914  0.209997  0.165936]\n",
       " [ 0.125724 -0.025649 -0.099044 -0.343471  0.44648  -0.364863  0.27244  -0.054302 -0.107535  0.150222]\n",
       " [ 0.459827 -0.161034  0.214392 -0.00389  -0.505817 -0.306035  0.447612 -0.002901 -0.42237   0.280217]])"
      ]
     },
     "execution_count": null,
     "metadata": {},
     "output_type": "execute_result"
    }
   ],
   "source": [
    "x_centred = X - mean\n",
    "x_centred"
   ]
  },
  {
   "cell_type": "code",
   "execution_count": null,
   "id": "9c52c906-2dc7-41ba-b826-88f3fa9e5828",
   "metadata": {},
   "outputs": [],
   "source": [
    "#| export\n",
    "class LayerNorm1d(Module):\n",
    "    \"\"\"\n",
    "    1D Layer normalization module in Minima.\n",
    "\n",
    "    Applies layer normalization over a 1D input. The mean and standard deviation are computed over the last dimension.\n",
    "\n",
    "    Attributes:\n",
    "    - `dim` (int): The dimension of the input feature space.\n",
    "    - `eps` (float): A small constant for numerical stability.\n",
    "    - `weight` (Parameter): The learnable weights of the module of size 'dim', initialized with ones.\n",
    "    - `bias` (Parameter): The learnable bias of the module of size 'dim', initialized with zeros.\n",
    "\n",
    "    Methods:\n",
    "    - `forward(x: Tensor) -> Tensor`: Applies layer normalization to the input tensor.\n",
    "\n",
    "    \"\"\"\n",
    "    def __init__(\n",
    "        self,\n",
    "        dim: int, # The dimension of the input feature space.\n",
    "        eps=1e-5, # A small constant for numerical stability. Default is 1e-5.\n",
    "        device=None, # The desired device of returned tensor. If None, uses the current device for the default tensor type. Default is None.\n",
    "        dtype=\"float32\" # The desired data type of returned tensor. If None, uses the default data type. Default is \"float32\".\n",
    "    ):\n",
    "        \"\"\"\n",
    "        Initializes a new `LayerNorm1d` instance.\n",
    "        \n",
    "        Args:\n",
    "            dim: The dimension of the input feature space.\n",
    "            eps: A small constant for numerical stability. Default is 1e-5.\n",
    "            device: The desired device of returned tensor. If None, uses the current device for the default tensor type. Default is None.\n",
    "            dtype: The desired data type of returned tensor. If None, uses the default data type. Default is \"float32\".\n",
    "        \"\"\"\n",
    "        super().__init__()\n",
    "        self.dim = dim\n",
    "        self.eps = eps\n",
    "        \n",
    "        self.weight = Parameter(init.ones(dim, device=device, dtype=dtype, requires_grad=True))\n",
    "        self.bias = Parameter(init.zeros(dim, device=device, dtype=dtype, requires_grad=True))\n",
    "\n",
    "    def forward(self, x: Tensor) -> Tensor:\n",
    "        \"\"\"\n",
    "        Applies the layer normalization over the input.\n",
    "\n",
    "        Args:\n",
    "            x (Tensor): The input tensor of shape (batch_size, num_features).\n",
    "\n",
    "        Returns:\n",
    "            Tensor: The output tensor after applying layer normalization.\n",
    "        \"\"\"\n",
    "        bs, fs = x.shape\n",
    "        axes = (-1,)\n",
    "        mean = x.sum(axes=axes).reshape((bs, 1)) / fs\n",
    "        x_centered = x - mean.broadcast_to(x.shape)\n",
    "        std = ((x_centered ** 2).sum(axes=axes).reshape((bs, 1)) / fs + self.eps) ** 0.5\n",
    "        x_normed = x_centered / std.broadcast_to(x.shape)\n",
    "        return self.weight.broadcast_to(x.shape) * x_normed + self.bias.broadcast_to(x.shape)\n"
   ]
  },
  {
   "cell_type": "markdown",
   "id": "63a0cdb2-dfa1-4ad7-85f1-ba3f52c09e3c",
   "metadata": {},
   "source": [
    "## Batch Norm"
   ]
  },
  {
   "cell_type": "markdown",
   "id": "98e22dc5-6ccc-4bb7-b931-1d362af3ef10",
   "metadata": {},
   "source": [
    "\n",
    "This is an implementation of Batch Normalization from paper\n",
    " [Batch Normalization: Accelerating Deep Network Training by Reducing Internal Covariate Shift](https://papers.labml.ai/paper/1502.03167).\n",
    "\n",
    "### Internal Covariate Shift\n",
    "\n",
    "The paper defines *Internal Covariate Shift* as the change in the\n",
    "distribution of network activations due to the change in\n",
    "network parameters during training.\n",
    "For example, let's say there are two layers $l_1$ and $l_2$.\n",
    "During the beginning of the training $l_1$ outputs (inputs to $l_2$)\n",
    "could be in distribution $\\mathcal{N}(0.5, 1)$.\n",
    "Then, after some training steps, it could move to $\\mathcal{N}(0.6, 1.5)$.\n",
    "This is *internal covariate shift*.\n",
    "\n",
    "Internal covariate shift will adversely affect training speed because the later layers\n",
    "($l_2$ in the above example) have to adapt to this shifted distribution.\n",
    "\n",
    "By stabilizing the distribution, batch normalization minimizes the internal covariate shift.\n",
    "\n",
    "## Normalization\n",
    "\n",
    "It is known that whitening improves training speed and convergence.\n",
    "*Whitening* is linearly transforming inputs to have zero mean, unit variance,\n",
    "and be uncorrelated.\n",
    "\n",
    "### Normalizing outside gradient computation doesn't work\n",
    "\n",
    "Normalizing outside the gradient computation using pre-computed (detached)\n",
    "means and variances doesn't work. For instance. (ignoring variance), let\n",
    "$$\\hat{x} = x - \\mathbb{E}[x]$$\n",
    "where $x = u + b$ and $b$ is a trained bias\n",
    "and $\\mathbb{E}[x]$ is an outside gradient computation (pre-computed constant).\n",
    "\n",
    "Note that $\\hat{x}$ has no effect on $b$.\n",
    "Therefore,\n",
    "$b$ will increase or decrease based\n",
    "$\\frac{\\partial{\\mathcal{L}}}{\\partial x}$,\n",
    "and keep on growing indefinitely in each training update.\n",
    "The paper notes that similar explosions happen with variances.\n",
    "\n",
    "### Batch Normalization\n",
    "\n",
    "Whitening is computationally expensive because you need to de-correlate and\n",
    "the gradients must flow through the full whitening calculation.\n",
    "\n",
    "The paper introduces a simplified version which they call *Batch Normalization*.\n",
    "First simplification is that it normalizes each feature independently to have\n",
    "zero mean and unit variance:\n",
    "$$\\hat{x}^{(k)} = \\frac{x^{(k)} - \\mathbb{E}[x^{(k)}]}{\\sqrt{Var[x^{(k)}]}}$$\n",
    "where $x = (x^{(1)} ... x^{(d)})$ is the $d$-dimensional input.\n",
    "\n",
    "The second simplification is to use estimates of mean $\\mathbb{E}[x^{(k)}]$\n",
    "and variance $Var[x^{(k)}]$ from the mini-batch\n",
    "for normalization; instead of calculating the mean and variance across the whole dataset.\n",
    "\n",
    "Normalizing each feature to zero mean and unit variance could affect what the layer\n",
    "can represent.\n",
    "As an example paper illustrates that, if the inputs to a sigmoid are normalized\n",
    "most of it will be within $[-1, 1]$ range where the sigmoid is linear.\n",
    "To overcome this each feature is scaled and shifted by two trained parameters\n",
    "$\\gamma^{(k)}$ and $\\beta^{(k)}$.\n",
    "$$y^{(k)} =\\gamma^{(k)} \\hat{x}^{(k)} + \\beta^{(k)}$$\n",
    "where $y^{(k)}$ is the output of the batch normalization layer.\n",
    "\n",
    "Note that when applying batch normalization after a linear transform\n",
    "like $Wu + b$ the bias parameter $b$ gets cancelled due to normalization.\n",
    "So you can and should omit bias parameter in linear transforms right before the\n",
    "batch normalization.\n",
    "\n",
    "Batch normalization also makes the back propagation invariant to the scale of the weights\n",
    "and empirically it improves generalization, so it has regularization effects too.\n",
    "\n",
    "## Inference\n",
    "\n",
    "We need to know $\\mathbb{E}[x^{(k)}]$ and $Var[x^{(k)}]$ in order to\n",
    "perform the normalization.\n",
    "So during inference, you either need to go through the whole (or part of) dataset\n",
    "and find the mean and variance, or you can use an estimate calculated during training.\n",
    "The usual practice is to calculate an exponential moving average of\n",
    "mean and variance during the training phase and use that for inference.\n",
    "\n",
    "\n",
    "Batch normalization layer $\\text{BN}$ normalizes the input $X$ as follows:\n",
    "\n",
    "When input $X \\in \\mathbb{R}^{B \\times C \\times H \\times W}$ is a batch of image representations,\n",
    "where $B$ is the batch size, $C$ is the number of channels, $H$ is the height and $W$ is the width.\n",
    "$\\gamma \\in \\mathbb{R}^{C}$ and $\\beta \\in \\mathbb{R}^{C}$.\n",
    "$$\\text{BN}(X) = \\gamma\n",
    "\\frac{X - \\underset{B, H, W}{\\mathbb{E}}[X]}{\\sqrt{\\underset{B, H, W}{Var}[X] + \\epsilon}}\n",
    "+ \\beta$$\n",
    "\n",
    "When input $X \\in \\mathbb{R}^{B \\times C}$ is a batch of embeddings,\n",
    "where $B$ is the batch size and $C$ is the number of features.\n",
    "$\\gamma \\in \\mathbb{R}^{C}$ and $\\beta \\in \\mathbb{R}^{C}$.\n",
    "$$\\text{BN}(X) = \\gamma\n",
    "\\frac{X - \\underset{B}{\\mathbb{E}}[X]}{\\sqrt{\\underset{B}{Var}[X] + \\epsilon}}\n",
    "+ \\beta$$\n",
    "\n",
    "When input $X \\in \\mathbb{R}^{B \\times C \\times L}$ is a batch of a sequence embeddings,\n",
    "where $B$ is the batch size, $C$ is the number of features, and $L$ is the length of the sequence.\n",
    "$\\gamma \\in \\mathbb{R}^{C}$ and $\\beta \\in \\mathbb{R}^{C}$.\n",
    "$$\\text{BN}(X) = \\gamma\n",
    "\\frac{X - \\underset{B, L}{\\mathbb{E}}[X]}{\\sqrt{\\underset{B, L}{Var}[X] + \\epsilon}}\n",
    "+ \\beta$$"
   ]
  },
  {
   "cell_type": "code",
   "execution_count": null,
   "id": "3de7671a-8190-4349-9a96-06f6e7129c2a",
   "metadata": {},
   "outputs": [],
   "source": [
    "#| export\n",
    "class BatchNorm1d(Module):\n",
    "    \"\"\"\n",
    "    1D Batch normalization module in Minima.\n",
    "\n",
    "    This module applies Batch Normalization over a 1D input as described in the paper \"Batch Normalization: Accelerating Deep Network Training by Reducing Internal Covariate Shift\" by Ioffe and Szegedy.\n",
    "\n",
    "    Attributes:\n",
    "    - `dim` (int): The dimension of the input feature space.\n",
    "    - `eps` (float): A small constant added to the denominator for numerical stability.\n",
    "    - `momentum` (float): The value used for the running_mean and running_var computation.\n",
    "    - `weight` (Parameter): The learnable scale factor of the module of size 'dim', initialized with ones.\n",
    "    - `bias` (Parameter): The learnable offset of the module of size 'dim', initialized with zeros.\n",
    "    - `running_mean` (Tensor): The running mean. Represents the mean of the features over batches. Initialized with zeros.\n",
    "    - `running_std` (Tensor): The running standard deviation. Represents the standard deviation of the features over batches. Initialized with ones.\n",
    "\n",
    "    Methods:\n",
    "    - `update_stats(x: Tensor) -> Tuple[Tensor, Tensor]`: Calculates the mean and standard deviation of the input tensor.\n",
    "    - `forward(x: Tensor) -> Tensor`: Applies batch normalization to the input tensor.\n",
    "\n",
    "    Example:\n",
    "    ```python\n",
    "    batch_norm = BatchNorm1d(dim=512)\n",
    "    output = batch_norm(input_tensor)  # Apply batch normalization\n",
    "    ```\n",
    "\n",
    "    \"\"\"\n",
    "    def __init__(\n",
    "        self,\n",
    "        dim: int,\n",
    "        eps=1e-5,\n",
    "        momentum=0.1,\n",
    "        device=None,\n",
    "        dtype=\"float32\"\n",
    "    ):\n",
    "        \"\"\"\n",
    "        Initializes a new `BatchNorm1d` instance.\n",
    "        \n",
    "        Args:\n",
    "            dim: The dimension of the input feature space.\n",
    "            eps: A small constant for numerical stability. Default is 1e-5.\n",
    "            momentum: The value used for the running_mean and running_var computation. Default is 0.1.\n",
    "            device: The desired device of returned tensor. If None, uses the current device for the default tensor type. Default is None.\n",
    "            dtype: The desired data type of returned tensor. If None, uses the default data type. Default is \"float32\".\n",
    "        \"\"\"\n",
    "        \n",
    "        super().__init__()\n",
    "        self.dim = dim\n",
    "        self.eps = eps\n",
    "        self.momentum = momentum\n",
    "        \n",
    "        self.weight = Parameter(init.ones(dim, device=device, dtype=dtype, requires_grad=True))\n",
    "        self.bias = Parameter(init.zeros(dim, device=device, dtype=dtype, requires_grad=True))\n",
    "        \n",
    "        self.running_mean = Tensor(init.zeros(dim, device=device, dtype=dtype))\n",
    "        self.running_std = Tensor(init.ones(dim, device=device, dtype=dtype))\n",
    "        \n",
    "    def update_stats(self, x: Tensor) -> Tuple[Tensor, Tensor]:\n",
    "        \"\"\"\n",
    "        Updates the running mean and running variance of the input tensor.\n",
    "        \n",
    "        Parameters:\n",
    "        ----------\n",
    "        x : Tensor\n",
    "            Input tensor.\n",
    "        \n",
    "        Returns:\n",
    "        ----------\n",
    "        Tuple[Tensor, Tensor]\n",
    "            Mean and variance of the input tensor.\n",
    "        \"\"\"\n",
    "\n",
    "        bs, fs = x.shape\n",
    "        axes=(0,)\n",
    "        mean = x.sum(axes=axes) / bs\n",
    "        x_centered = x - mean.broadcast_to(x.shape)\n",
    "        std = ((x_centered ** 2).sum(axes=axes) / bs)\n",
    "        self.running_mean = self.momentum * mean.data  + (1 - self.momentum) * self.running_mean\n",
    "        self.running_std = self.momentum * std.data + (1 - self.momentum) * self.running_std\n",
    "        return mean,std\n",
    "\n",
    "    def forward(self, x: Tensor) -> Tensor:\n",
    "        \"\"\"\n",
    "        Forward propagation of the batch normalization layer.\n",
    "        \n",
    "        Applies the batch normalization to the input tensor.\n",
    "        \n",
    "        Parameters:\n",
    "        ----------\n",
    "        x : Tensor\n",
    "            Input tensor.\n",
    "        \n",
    "        Returns:\n",
    "        ----------\n",
    "        Tensor\n",
    "            Output tensor after applying batch normalization.\n",
    "        \"\"\"\n",
    "        \n",
    "        if self.training:\n",
    "            mean, std = self.update_stats(x)\n",
    "        else:\n",
    "            mean, std = self.running_mean, self.running_std\n",
    "        x_normed = (x - mean.broadcast_to(x.shape)) / (std.broadcast_to(x.shape) + self.eps) ** .5\n",
    "        return self.weight.broadcast_to(x.shape) * x_normed + self.bias.broadcast_to(x.shape)"
   ]
  },
  {
   "cell_type": "code",
   "execution_count": null,
   "id": "e3ff3cef-74b0-4f7c-93af-7b510179401e",
   "metadata": {},
   "outputs": [],
   "source": [
    "#| export\n",
    "class Dropout(Module):\n",
    "    \"\"\"\n",
    "    Dropout Layer for a Neural Network.\n",
    "    \n",
    "    This class represents a dropout layer in a neural network, which is a simple \n",
    "    and effective regularization technique.\n",
    "    During training, it randomly zeroes out some of the elements of the input tensor\n",
    "    with probability p using samples from a Bernoulli distribution.\n",
    "    \n",
    "    Parameters:\n",
    "    ----------\n",
    "    p: float, optional, default = 0.5\n",
    "        Probability of an element to be zeroed. Default: 0.5.\n",
    "    \"\"\"\n",
    "    \n",
    "    def __init__(self, p = 0.5):\n",
    "        \"\"\"\n",
    "        Initializes the Dropout layer with the specified probability.\n",
    "        \n",
    "        Parameters:\n",
    "        ----------\n",
    "        p : float\n",
    "            Probability of an element to be zeroed.\n",
    "        \"\"\"\n",
    "        \n",
    "        super().__init__()\n",
    "        self.p = p\n",
    "\n",
    "    def forward(self, x: Tensor) -> Tensor:\n",
    "        \"\"\"\n",
    "        Forward propagation of the dropout layer.\n",
    "        \n",
    "        If the layer is in training mode, it applies dropout to the input tensor. \n",
    "        If the layer is in evaluation mode, it returns the input tensor as is.\n",
    "        \n",
    "        Parameters:\n",
    "        ----------\n",
    "        x : Tensor\n",
    "            Input tensor.\n",
    "        \n",
    "        Returns:\n",
    "        ----------\n",
    "        Tensor\n",
    "            Output tensor after applying dropout.\n",
    "        \"\"\"\n",
    "        \n",
    "        binary_mask = init.randb(*x.shape, p=self.p)\n",
    "        if self.training:\n",
    "            return (binary_mask * x) / (1 - self.p)\n",
    "        return x\n"
   ]
  },
  {
   "cell_type": "code",
   "execution_count": null,
   "id": "c8b5a338-fed8-4725-9225-3663ce5feb88",
   "metadata": {},
   "outputs": [],
   "source": [
    "#| export\n",
    "class Residual(Module):\n",
    "    \"\"\"\n",
    "    Residual Layer for a Neural Network.\n",
    "    \n",
    "    This class represents a residual layer in a neural network, which is a technique that helps to overcome\n",
    "    the problem of vanishing and exploding gradients in deep neural networks. It achieves this by allowing\n",
    "    gradients to pass through layers directly (via an identity shortcut connection) without any modification.\n",
    "\n",
    "    Parameters:\n",
    "    ----------\n",
    "    fn: Module\n",
    "        The function to be applied to the input tensor.\n",
    "    \"\"\"\n",
    "    \n",
    "    def __init__(self, fn: Module):\n",
    "        \"\"\"\n",
    "        Initializes the Residual layer with the specified function.\n",
    "        \n",
    "        Parameters:\n",
    "        ----------\n",
    "        fn : Module\n",
    "            The function to be applied to the input tensor.\n",
    "        \"\"\"\n",
    "        super().__init__()\n",
    "        self.fn = fn\n",
    "\n",
    "    def forward(self, x: Tensor) -> Tensor:\n",
    "        \"\"\"\n",
    "        Forward propagation of the residual layer.\n",
    "        \n",
    "        Applies the function to the input tensor and then adds the result to the original input tensor.\n",
    "        \n",
    "        Parameters:\n",
    "        ----------\n",
    "        x : Tensor\n",
    "            Input tensor.\n",
    "        \n",
    "        Returns:\n",
    "        ----------\n",
    "        Tensor\n",
    "            Output tensor after applying the function and adding the result to the original input.\n",
    "        \"\"\"\n",
    "        return x + self.fn(x)"
   ]
  },
  {
   "cell_type": "code",
   "execution_count": null,
   "id": "d39205c5-9fd1-491f-9567-045c5a0d1d60",
   "metadata": {},
   "outputs": [],
   "source": [
    "#| export\n",
    "class Identity(Module):\n",
    "    def forward(self, x):\n",
    "        return x"
   ]
  },
  {
   "cell_type": "markdown",
   "id": "b51bcf1a-a277-49ab-83e7-531e090df371",
   "metadata": {},
   "source": [
    "## Export"
   ]
  },
  {
   "cell_type": "code",
   "execution_count": null,
   "id": "644f7f70-b8aa-44a9-93e8-f319f68123c4",
   "metadata": {},
   "outputs": [],
   "source": [
    "import nbdev; nbdev.nbdev_export()"
   ]
  },
  {
   "cell_type": "code",
   "execution_count": null,
   "id": "52b6b0c9-334b-479f-8e60-4bf440478ae0",
   "metadata": {},
   "outputs": [],
   "source": []
  },
  {
   "cell_type": "code",
   "execution_count": null,
   "id": "53c42742-0ff2-41dd-8b9d-bc88c29d101d",
   "metadata": {},
   "outputs": [],
   "source": []
  },
  {
   "cell_type": "code",
   "execution_count": null,
   "id": "0b080ae5-182c-4f91-8f2d-6eec62049dc0",
   "metadata": {},
   "outputs": [],
   "source": []
  }
 ],
 "metadata": {
  "kernelspec": {
   "display_name": "python3",
   "language": "python",
   "name": "python3"
  }
 },
 "nbformat": 4,
 "nbformat_minor": 5
}
