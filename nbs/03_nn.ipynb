{
 "cells": [
  {
   "cell_type": "markdown",
   "id": "dda21224-965c-4e74-b9b5-e58d8dd9e0a5",
   "metadata": {},
   "source": [
    "# nn\n",
    "\n",
    "> Fill in a module description here"
   ]
  },
  {
   "cell_type": "code",
   "execution_count": null,
   "id": "263e352d-55d5-464a-80fd-f98c03b56d21",
   "metadata": {},
   "outputs": [],
   "source": [
    "#| default_exp nn"
   ]
  },
  {
   "cell_type": "code",
   "execution_count": null,
   "id": "a02044ec-9480-46c2-9441-bf7ca89bdcd4",
   "metadata": {},
   "outputs": [],
   "source": [
    "#| export\n",
    "from typing import List, Callable, Any, Tuple\n",
    "from minima.autograd import Tensor\n",
    "from minima import operators\n",
    "import minima.init as init\n",
    "import numpy as np\n",
    "import minima as mi\n",
    "import torch"
   ]
  },
  {
   "cell_type": "code",
   "execution_count": null,
   "id": "6a16df1f-71e2-4b36-80b7-f59581c7dbc6",
   "metadata": {},
   "outputs": [],
   "source": [
    "#| export\n",
    "class Parameter(Tensor):\n",
    "    \"\"\"\n",
    "    A kind of Tensor that is to be considered a module parameter.\n",
    "\n",
    "    Parameters are `Tensor` subclasses, that have a very special property when used with\n",
    "    `Module` s - when they're assigned as Module attributes they are automatically added\n",
    "    to the list of its parameters, and will appear in `Module.parameters()` iterator.\n",
    "    Another difference is that parameters can't be volatile and that they require gradient by default.\n",
    "    \"\"\""
   ]
  },
  {
   "cell_type": "code",
   "execution_count": null,
   "id": "5aebab21-ed3b-4b2b-aeb3-01c8c7b1c6f6",
   "metadata": {},
   "outputs": [],
   "source": [
    "#| export\n",
    "def _unpack_params(value: object) -> List[Tensor]:\n",
    "    \"\"\"\n",
    "    Unpack parameters from different Python objects.\n",
    "\n",
    "    This function takes an object of type `Parameter`, `Module`, `dict`, `list`, or `tuple` and \n",
    "    recursively extracts any contained `Parameter` instances, returning them as a list. For other \n",
    "    object types, it returns an empty list.\n",
    "\n",
    "    Args:\n",
    "        value (object): The input object which could be of type `Parameter`, `Module`, `dict`, \n",
    "                        `list`, `tuple`, or any other type.\n",
    "\n",
    "    Returns:\n",
    "        List[Tensor]: A list containing all the `Parameter` instances found within the input object.\n",
    "                      If no `Parameter` instances are found, an empty list is returned.\n",
    "                      \n",
    "    Example:\n",
    "        module = nn.Module(...)\n",
    "        params = _unpack_params(module)\n",
    "        print(params)  # Prints list of `Parameter` instances contained in `module`.\n",
    "    \"\"\"\n",
    "    if isinstance(value, Parameter):\n",
    "        return [value]\n",
    "    elif isinstance(value, Module):\n",
    "        return list(value.parameters())\n",
    "    elif isinstance(value, dict):\n",
    "        return [item for v in value.values() for item in _unpack_params(v)]\n",
    "    elif isinstance(value, (list, tuple)):\n",
    "        return [item for v in value for item in _unpack_params(v)]\n",
    "    return []"
   ]
  },
  {
   "cell_type": "code",
   "execution_count": null,
   "id": "3c0bfa6d-8425-4b16-ac25-838a76f020ab",
   "metadata": {},
   "outputs": [],
   "source": [
    "#| export\n",
    "def _child_modules(value: object) -> List[\"Module\"]:\n",
    "    \"\"\"\n",
    "    Recursively unpack child modules from different Python objects.\n",
    "\n",
    "    This function takes an object of type `Module`, `dict`, `list`, or `tuple` and \n",
    "    recursively extracts any contained `Module` instances, returning them as a list. \n",
    "    For other object types, it returns an empty list.\n",
    "\n",
    "    Args:\n",
    "        value (object): The input object which could be of type `Module`, `dict`, \n",
    "                        `list`, `tuple`, or any other type.\n",
    "\n",
    "    Returns:\n",
    "        List[Module]: A list containing all the `Module` instances found within \n",
    "                      the input object. If no `Module` instances are found, \n",
    "                      an empty list is returned.\n",
    "\n",
    "    Example:\n",
    "        class MyModule(Module):\n",
    "            def __init__(self):\n",
    "                super().__init__()\n",
    "                self.layer1 = nn.Linear(20, 20)\n",
    "                self.layer2 = nn.Linear(20, 20)\n",
    "        \n",
    "        my_module = MyModule()\n",
    "        children = _child_modules(my_module)\n",
    "        print(children)  # Prints list of `Module` instances contained in `my_module`.\n",
    "    \"\"\"\n",
    "    if isinstance(value, Module):\n",
    "        return [value] + _child_modules(value.__dict__)\n",
    "    elif isinstance(value, dict):\n",
    "        return [item for v in value.values() for item in _child_modules(v)]\n",
    "    elif isinstance(value, (list, tuple)):\n",
    "        return [item for v in value for item in _child_modules(v)]\n",
    "    else:\n",
    "        return []"
   ]
  },
  {
   "cell_type": "code",
   "execution_count": null,
   "id": "159a2cae-078a-4bd3-8a09-cee5af7ba728",
   "metadata": {},
   "outputs": [],
   "source": [
    "#|export\n",
    "class Module:\n",
    "    \"\"\"\n",
    "    Base class for all neural network modules in Minima.\n",
    "\n",
    "    Your models should also subclass this class. Subclasses should define a `forward` method.\n",
    "\n",
    "    Attributes:\n",
    "    - `training` (bool): Module is initialized in training mode by default. Use `eval()` to switch it to evaluation mode.\n",
    "\n",
    "    Methods:\n",
    "    - `parameters()`: Returns a list of all `Parameter` instances in the module.\n",
    "    - `_children()`: Returns a list of all child `Module` instances.\n",
    "    - `eval()`: Switches the module and all its children to evaluation mode.\n",
    "    - `train()`: Switches the module and all its children back to training mode.\n",
    "    - `__call__()`: The call method, which simply calls the `forward` method, must be defined by all subclasses.\n",
    "    \"\"\"\n",
    "    \n",
    "    def __init__(self):\n",
    "        self.training = True\n",
    "\n",
    "    def parameters(self) -> List[Parameter]:\n",
    "        \"\"\"\n",
    "        Returns a list of all `Parameter` instances in the module.\n",
    "        This is done by unpacking the parameters from the module's dictionary.\n",
    "        \"\"\"\n",
    "        return _unpack_params(self.__dict__)\n",
    "\n",
    "    def _children(self) -> List[\"Module\"]:\n",
    "        \"\"\"\n",
    "        Returns a list of all child `Module` instances in the module.\n",
    "        This is done by unpacking the modules from the module's dictionary.\n",
    "        \"\"\"\n",
    "        return _child_modules(self.__dict__)\n",
    "\n",
    "    def eval(self):\n",
    "        \"\"\"\n",
    "        Switches the module and all its child modules to evaluation mode.\n",
    "        \"\"\"\n",
    "        self.training = False\n",
    "        for m in self._children():\n",
    "            m.training = False\n",
    "\n",
    "    def train(self):\n",
    "        \"\"\"\n",
    "        Switches the module and all its child modules to training mode.\n",
    "        \"\"\"\n",
    "        self.training = True\n",
    "        for m in self._children():\n",
    "            m.training = True\n",
    "\n",
    "    def __call__(self, *args, **kwargs):\n",
    "        \"\"\"\n",
    "        Defines the call method for the module.\n",
    "        This method simply calls the forward method and must be overridden by all subclasses.\n",
    "        \"\"\"\n",
    "        return self.forward(*args, **kwargs)"
   ]
  },
  {
   "cell_type": "code",
   "execution_count": null,
   "id": "a02db133-e9af-4a55-a56c-666b4cbd733b",
   "metadata": {},
   "outputs": [],
   "source": [
    "#| export\n",
    "class Sequential(Module):\n",
    "    \"\"\"\n",
    "    A sequential container in Minima.\n",
    "\n",
    "    Modules will be added to it in the order they are passed in the constructor.\n",
    "    A `Sequential` module contains a sequence of child modules stored in the order they were added. \n",
    "    Each module is applied in order to the input to produce the output.\n",
    "\n",
    "    The `Sequential` class makes it easy to build networks where the output of one layer is the input to the next.\n",
    "\n",
    "    Attributes:\n",
    "    - `modules` (tuple of `Module`): The sequence of child modules to apply.\n",
    "\n",
    "    Methods:\n",
    "    - `forward(x: Tensor) -> Tensor`: Passes the input through all the child modules in sequential order.\n",
    "    \"\"\"\n",
    "    def __init__(\n",
    "        self,\n",
    "        *modules # The sequence of child modules to apply. Each argument should be an instance of `Module`.\n",
    "    ):\n",
    "        \"\"\"\n",
    "        Initializes a new `Sequential` instance.\n",
    "        \n",
    "        Args:\n",
    "            *modules: The sequence of child modules to apply. Each argument should be an instance of `Module`.\n",
    "        \"\"\"\n",
    "        super().__init__()\n",
    "        self.modules = modules\n",
    "        \n",
    "    def forward(self, x: Tensor) -> Tensor:\n",
    "        \"\"\"\n",
    "        Defines the forward pass for the sequential module.\n",
    "        \n",
    "        Passes the input through all the child modules in the order they were added.\n",
    "\n",
    "        Args:\n",
    "            x (Tensor): The input tensor.\n",
    "        \n",
    "        Returns:\n",
    "            Tensor: The output tensor.\n",
    "        \"\"\"\n",
    "        for module in self.modules:\n",
    "            x = module(x)\n",
    "        return x\n"
   ]
  },
  {
   "cell_type": "code",
   "execution_count": null,
   "id": "e4041d0e-b95e-46c6-b0f6-0987cbd9763a",
   "metadata": {},
   "outputs": [],
   "source": [
    "#| export\n",
    "class Linear(Module):\n",
    "    \"\"\"\n",
    "    A class representing a fully connected (linear) layer in a neural network.\n",
    "    This class inherits from the `Module` class.\n",
    "\n",
    "    Attributes:\n",
    "        in_features (int): The number of input features.\n",
    "        out_features (int): The number of output features.\n",
    "        device (str): The device to store the Parameters on (defaults to None, which means CPU).\n",
    "        dtype (str): The data type of the Parameters (defaults to 'float32').\n",
    "        weight (Parameter): The weight parameters of the layer.\n",
    "        bias (Parameter): The bias parameters of the layer, or None if bias=False.\n",
    "\n",
    "    Methods:\n",
    "        forward(X: Tensor) -> Tensor: Compute the forward pass of the layer.\n",
    "    \"\"\"\n",
    "    \n",
    "    def __init__(\n",
    "        self,\n",
    "        in_features, # The number of input features.\n",
    "        out_features,# The number of output features.\n",
    "        bias=True, # Whether or not to include a bias term. Default is True.\n",
    "        device=None, # The device to store the Parameters on. Default is None, which means CPU.\n",
    "        dtype=\"float32\" # The data type of the Parameters. Default is 'float32'.\n",
    "    ):\n",
    "        \"\"\"\n",
    "        Initialize the layer with given input/output feature sizes and, optionally, bias, device, and dtype.\n",
    "\n",
    "        Args:\n",
    "            in_features (int): The number of input features.\n",
    "            out_features (int): The number of output features.\n",
    "            bias (bool, optional): Whether or not to include a bias term. Default is True.\n",
    "            device (str, optional): The device to store the Parameters on. Default is None, which means CPU.\n",
    "            dtype (str, optional): The data type of the Parameters. Default is 'float32'.\n",
    "        \"\"\"\n",
    "        \n",
    "        super().__init__()\n",
    "        self.in_features = in_features\n",
    "        self.out_features = out_features\n",
    "        self.device = device\n",
    "        self.dtype = dtype\n",
    "\n",
    "        self.weight = Parameter(init.kaiming_uniform(fan_in=in_features, fan_out=out_features, device=device, dtype=dtype))\n",
    "        self.bias = (Parameter(init.kaiming_uniform(fan_in=out_features, fan_out=1, device=device, dtype=dtype)).reshape((1, out_features))\n",
    "                     if bias else None)\n",
    "        \n",
    "    def __repr__(self) -> str:\n",
    "        return f'Linear(in_features={self.in_features}, out_features={self.out_features}, bias={self.bias is not None})'\n",
    "            \n",
    "    def forward(self, X: Tensor) -> Tensor:\n",
    "        \"\"\"\n",
    "        Compute the forward pass of the layer.\n",
    "\n",
    "        This function applies the linear transformation to the input tensor X, \n",
    "        i.e., performs the matrix multiplication of X and the weight tensor, \n",
    "        and then adds the bias tensor (if bias is not None).\n",
    "\n",
    "        Args:\n",
    "            X (Tensor): The input tensor.\n",
    "\n",
    "        Returns:\n",
    "            Tensor: The output tensor.\n",
    "        \"\"\"\n",
    "        \n",
    "        out = X @ self.weight\n",
    "        out = out + self.bias.broadcast_to(out.shape) if self.bias else out\n",
    "        return out"
   ]
  },
  {
   "cell_type": "code",
   "execution_count": null,
   "id": "2219fc4b-6db4-45c7-953e-ced54ad91044",
   "metadata": {},
   "outputs": [
    {
     "name": "stdout",
     "output_type": "stream",
     "text": [
      "[<__main__.MyModule object>, Linear(in_features=10, out_features=20, bias=True), Linear(in_features=20, out_features=10, bias=True)]\n"
     ]
    }
   ],
   "source": [
    "class MyModule(Module):\n",
    "    def __init__(self):\n",
    "        super().__init__()\n",
    "        self.layer1 = Linear(10, 20)\n",
    "        self.layer2 = Linear(20, 10)\n",
    "\n",
    "    def forward(self, x):\n",
    "        x = self.layer1(x)\n",
    "        x = self.layer2(x)\n",
    "        return x\n",
    "\n",
    "my_module = MyModule()\n",
    "\n",
    "children = _child_modules(my_module)\n",
    "print(children)  # Prints list of `Module` instances contained in `my_module`."
   ]
  },
  {
   "cell_type": "code",
   "execution_count": null,
   "id": "dd658723-8093-4bea-b70f-1d88e6507c72",
   "metadata": {},
   "outputs": [
    {
     "data": {
      "text/plain": [
       "Linear(in_features=10, out_features=5, bias=True)"
      ]
     },
     "execution_count": null,
     "metadata": {},
     "output_type": "execute_result"
    }
   ],
   "source": [
    "Linear(in_features=10, out_features=5, bias=True)"
   ]
  },
  {
   "cell_type": "code",
   "execution_count": null,
   "id": "7dcef86a-a0f1-4dcc-aeda-dc752e8f1f3a",
   "metadata": {},
   "outputs": [],
   "source": [
    "#| export\n",
    "class Flatten(Module):\n",
    "    \"\"\"\n",
    "    A `Flatten` module in Minima.\n",
    "\n",
    "    This module flattens an input tensor into a 2D matrix, typically for transitioning from convolutional layers to linear layers within a neural network model.\n",
    "\n",
    "    Methods:\n",
    "    - `forward(X: Tensor) -> Tensor`: Flattens the input tensor.\n",
    "    \"\"\"\n",
    "    \n",
    "    def forward(self, X: Tensor) -> Tensor:\n",
    "        \"\"\"\n",
    "        Defines the forward pass for the Flatten module.\n",
    "        \n",
    "        This method flattens an input tensor along all dimensions except the batch dimension.\n",
    "\n",
    "        Args:\n",
    "            X (Tensor): The input tensor. It is expected to have at least two dimensions.\n",
    "\n",
    "        Returns:\n",
    "            Tensor: The output tensor, which is a 2D tensor with the same number of elements as the input tensor.\n",
    "        \"\"\"\n",
    "        return X.reshape((X.shape[0], -1))\n"
   ]
  },
  {
   "cell_type": "code",
   "execution_count": null,
   "id": "1734f377-9984-4a9d-a573-b492ae3844de",
   "metadata": {},
   "outputs": [],
   "source": [
    "#| export\n",
    "class ReLU(Module):\n",
    "    def forward(self, x: Tensor) -> Tensor:\n",
    "        return operators.relu(x)"
   ]
  },
  {
   "cell_type": "markdown",
   "id": "341e6b2c-01f9-4954-89cb-a9d2f6da4d9f",
   "metadata": {},
   "source": [
    "The implementation you've shared is a numerically stable version of the Cross Entropy Loss formula, which is generally defined for a single sample as:\n",
    "\n",
    "$$\n",
    "H(p, q) = - \\sum_{i} p_i \\log(q_i)\n",
    "$$\n",
    "\n",
    "where:\n",
    "- $p$ is the true distribution (in classification, typically a one-hot encoded vector),\n",
    "- $q$ is the predicted distribution (output of the softmax function on the logits from the model).\n",
    "\n",
    "However, directly implementing this formula can lead to numerical instability because of the log operation. The given implementation overcomes this by using the Log-Sum-Exp trick to prevent underflow or overflow.\n",
    "$$ CE = -\\sum_{i=1}^{C} y_i \\log(\\hat{y_i}) $$\n",
    "\n",
    "where $y$ is the ground truth label and $\\hat{y}$ is the predicted probability, and $C$ is the number of classes. In the case of one-hot encoding, only the term corresponding to the true class contributes to the sum. So, we can simplify it to:\n",
    "\n",
    "$$\n",
    "CE = -\\log(\\hat{y_c})\n",
    "$$\n",
    "\n",
    "where $c$ is the correct class.\n",
    "\n",
    "The predicted probabilities $\\hat{y}$ are obtained by applying the softmax function to the logits $z$:\n",
    "\n",
    "$$\n",
    "\\hat{y_i} = \\frac{e^{z_i}}{\\sum_{j=1}^{C} e^{z_j}}\n",
    "$$\n",
    "\n",
    "Substituting $\\hat{y_c}$ in the Cross-Entropy Loss, we have:\n",
    "\n",
    "$$\n",
    "CE = -\\log\\left(\\frac{e^{z_c}}{\\sum_{j=1}^{C} e^{z_j}}\\right)\n",
    "$$\n",
    "\n",
    "Applying the logarithm property $\\log(a/b) = \\log(a) - \\log(b)$, we get:\n",
    "\n",
    "$$\n",
    "CE = -z_c + \\log\\left(\\sum_{j=1}^{C} e^{z_j}\\right)\n",
    "$$\n",
    "\n",
    "First, `log_sum_exp_logits = ops.logsumexp(logits, axes=(1, )).sum()` computes the term $\\log\\left(\\sum_{j=1}^{C} e^{z_j}\\right)$. The function `logsumexp` computes the logarithm of the sum of exponentials in a numerically stable way, and then these values are summed over all samples.\n",
    "\n",
    "Second, `true_class_logits_sum = (logits * init.one_hot(logits.shape[1], y)).sum()` computes the $-z_c$ term for each sample. The function `init.one_hot(logits.shape[1], y)` creates a one-hot encoding of the true labels, and this is then multiplied with the logits to pick out the logits for the correct classes. These values are then summed over all samples.\n",
    "\n",
    "Finally, `(log_sum_exp_logits - true_class_logits_sum) / logits.shape[0]` computes the average loss per sample."
   ]
  },
  {
   "cell_type": "code",
   "execution_count": null,
   "id": "d4ee69cf-f91c-4c82-a836-f5c393606e6b",
   "metadata": {},
   "outputs": [],
   "source": [
    "logits = mi.Tensor([[ 0.6734,  0.2576],\n",
    "        [ 0.4689,  0.4607],\n",
    "        [-2.2457, -0.3727],\n",
    "        [ 4.4164, -1.2760],\n",
    "        [ 0.9233,  0.5347],\n",
    "        [ 1.0698,  1.6187]])\n",
    "targ = mi.Tensor([0,1,0,1,1,0])"
   ]
  },
  {
   "cell_type": "code",
   "execution_count": null,
   "id": "9ad70e54-d317-4a46-83d3-4811ddfabdd4",
   "metadata": {},
   "outputs": [
    {
     "data": {
      "text/plain": [
       "minima.Tensor(\n",
       "[ 1.180104  1.157956 -0.229759  4.419766  1.440906  2.074595])"
      ]
     },
     "execution_count": null,
     "metadata": {},
     "output_type": "execute_result"
    }
   ],
   "source": [
    "log_sum_exp_logits = operators.logsumexp(logits, axes=(1, ))\n",
    "log_sum_exp_logits"
   ]
  },
  {
   "cell_type": "code",
   "execution_count": null,
   "id": "33da707b-6b61-447a-ada8-742c0b8b6fd6",
   "metadata": {},
   "outputs": [],
   "source": [
    "log_sum_exp_logits = log_sum_exp_logits.sum()"
   ]
  },
  {
   "cell_type": "code",
   "execution_count": null,
   "id": "2e964dd0-5bbe-4d0e-b6bd-6cf76a990018",
   "metadata": {},
   "outputs": [
    {
     "data": {
      "text/plain": [
       "minima.Tensor(\n",
       "[[1. 0.]\n",
       " [0. 1.]\n",
       " [1. 0.]\n",
       " [0. 1.]\n",
       " [0. 1.]\n",
       " [1. 0.]])"
      ]
     },
     "execution_count": null,
     "metadata": {},
     "output_type": "execute_result"
    }
   ],
   "source": [
    "one_hot_y = init.one_hot(logits.shape[1], targ)\n",
    "one_hot_y"
   ]
  },
  {
   "cell_type": "code",
   "execution_count": null,
   "id": "48a3f6ad-3b11-4c66-9a1c-d53eec9b6fe0",
   "metadata": {},
   "outputs": [
    {
     "data": {
      "text/plain": [
       "minima.Tensor(\n",
       "[[ 0.6734  0.    ]\n",
       " [ 0.      0.4607]\n",
       " [-2.2457 -0.    ]\n",
       " [ 0.     -1.276 ]\n",
       " [ 0.      0.5347]\n",
       " [ 1.0698  0.    ]])"
      ]
     },
     "execution_count": null,
     "metadata": {},
     "output_type": "execute_result"
    }
   ],
   "source": [
    "true_class_logits = (logits * one_hot_y)\n",
    "true_class_logits"
   ]
  },
  {
   "cell_type": "code",
   "execution_count": null,
   "id": "84dac818-0526-4fd7-bf48-fc47759b69be",
   "metadata": {},
   "outputs": [
    {
     "data": {
      "text/plain": [
       "minima.Tensor(\n",
       "-0.7830999999999999)"
      ]
     },
     "execution_count": null,
     "metadata": {},
     "output_type": "execute_result"
    }
   ],
   "source": [
    "true_class_logits_sum = true_class_logits.sum()\n",
    "true_class_logits_sum"
   ]
  },
  {
   "cell_type": "code",
   "execution_count": null,
   "id": "aee5627a-5ec8-4a12-8f16-d5ab9abb013b",
   "metadata": {},
   "outputs": [
    {
     "data": {
      "text/plain": [
       "minima.Tensor(\n",
       "1.8044446680186768)"
      ]
     },
     "execution_count": null,
     "metadata": {},
     "output_type": "execute_result"
    }
   ],
   "source": [
    "loss = (log_sum_exp_logits - true_class_logits_sum) / targ.shape[0]\n",
    "loss"
   ]
  },
  {
   "cell_type": "code",
   "execution_count": null,
   "id": "965a1e92-f6fe-4b01-a785-528e8cce4248",
   "metadata": {},
   "outputs": [
    {
     "data": {
      "text/plain": [
       "tensor(1.8044, dtype=torch.float64)"
      ]
     },
     "execution_count": null,
     "metadata": {},
     "output_type": "execute_result"
    }
   ],
   "source": [
    "loss = torch.nn.CrossEntropyLoss()(torch.tensor(logits.numpy()), torch.tensor(targ.numpy()))\n",
    "loss"
   ]
  },
  {
   "cell_type": "code",
   "execution_count": null,
   "id": "fe121e42-5dc7-430d-b9c8-1a26e2ac3e79",
   "metadata": {},
   "outputs": [],
   "source": [
    "#| export\n",
    "class CrossEntropyLoss(Module):\n",
    "    \"\"\"\n",
    "    Cross-entropy loss module in Minima.\n",
    "\n",
    "    This module computes the Cross Entropy Loss between the input logits and the target classes. \n",
    "    It's useful in classification tasks where the model outputs probabilities for each class.\n",
    "\n",
    "    Methods:\n",
    "    - `forward(input: Tensor, target: Tensor) -> Tensor`: Calculates the cross-entropy loss between the input (logits) and the target (class indices).\n",
    "\n",
    "    Example:\n",
    "    ```python\n",
    "    model = Sequential(\n",
    "        Linear(10, 20),\n",
    "        ReLU(),\n",
    "        Linear(20, 10),\n",
    "    )\n",
    "    loss_fn = CrossEntropyLoss()\n",
    "    output = model(input_tensor)  # compute model output\n",
    "    loss = loss_fn(output, target_tensor)  # compute loss\n",
    "    ```\n",
    "    \"\"\"\n",
    "\n",
    "    def forward(self, input: Tensor, target: Tensor) -> Tensor:\n",
    "        \"\"\"\n",
    "        Computes the Cross Entropy Loss between the input logits and the target class indices.\n",
    "\n",
    "        Args:\n",
    "            input (Tensor): The input tensor. The logits, typically of shape (batch_size, num_classes).\n",
    "            target (Tensor): The target tensor. The correct class indices, typically of shape (batch_size).\n",
    "\n",
    "        Returns:\n",
    "            Tensor: A single tensor that is the average cross-entropy loss.\n",
    "        \"\"\"\n",
    "        log_sum_exp_logits = ops.logsumexp(input, axes=(1, )).sum()\n",
    "        true_class_logits_sum = (input * init.one_hot(input.shape[1], target)).sum()\n",
    "        return (log_sum_exp_logits - true_class_logits_sum) / input.shape[0]\n"
   ]
  },
  {
   "cell_type": "code",
   "execution_count": null,
   "id": "daa70646-2626-4ca0-89f0-2ac699db9cfb",
   "metadata": {},
   "outputs": [
    {
     "data": {
      "text/plain": [
       "minima.Tensor(\n",
       "[[3.887350e-01 9.472955e-01 4.173471e-01 1.290288e-01 5.448605e-02 5.868989e-04 5.873917e-01 4.452199e-01 3.132464e-01 6.467488e-01]\n",
       " [7.916071e-01 1.403165e-01 4.583678e-01 5.660827e-01 7.582485e-01 4.697765e-01 8.183852e-01 8.115410e-01 2.485524e-01 5.385948e-01]\n",
       " [8.618988e-01 6.402029e-01 1.919139e-01 2.659566e-02 2.195643e-01 4.988931e-01 6.851757e-01 2.492218e-01 2.159417e-01 3.895446e-01]\n",
       " [2.873211e-02 6.836844e-01 9.708088e-01 5.691695e-01 1.018182e-01 8.902398e-01 4.030319e-01 8.109441e-01 7.535100e-01 5.457841e-01]\n",
       " [3.306505e-01 6.461067e-01 3.984192e-02 1.297394e-02 3.388094e-01 7.612143e-01 8.978084e-01 8.171634e-02 1.411095e-01 2.291844e-01]])"
      ]
     },
     "execution_count": null,
     "metadata": {},
     "output_type": "execute_result"
    }
   ],
   "source": [
    "X = mi.Tensor(init.rand(5, 10))\n",
    "X"
   ]
  },
  {
   "cell_type": "code",
   "execution_count": null,
   "id": "52ddb61c-065f-44b9-9617-58b9f0b4b760",
   "metadata": {},
   "outputs": [
    {
     "data": {
      "text/plain": [
       "(5, 10)"
      ]
     },
     "execution_count": null,
     "metadata": {},
     "output_type": "execute_result"
    }
   ],
   "source": [
    "bs, fs = X.shape\n",
    "bs, fs"
   ]
  },
  {
   "cell_type": "code",
   "execution_count": null,
   "id": "7116fcc9-573e-4ad6-98e2-13e264657ed4",
   "metadata": {},
   "outputs": [
    {
     "data": {
      "text/plain": [
       "minima.Tensor(\n",
       "[0.393009 0.560147 0.397895 0.575772 0.347942])"
      ]
     },
     "execution_count": null,
     "metadata": {},
     "output_type": "execute_result"
    }
   ],
   "source": [
    "mean = X.sum(axes=(1,)) / fs\n",
    "mean"
   ]
  },
  {
   "cell_type": "code",
   "execution_count": null,
   "id": "c92e27bf-dcca-4127-af93-ccff32dc21cc",
   "metadata": {},
   "outputs": [
    {
     "data": {
      "text/plain": [
       "minima.Tensor(\n",
       "[[0.393009]\n",
       " [0.560147]\n",
       " [0.397895]\n",
       " [0.575772]\n",
       " [0.347942]])"
      ]
     },
     "execution_count": null,
     "metadata": {},
     "output_type": "execute_result"
    }
   ],
   "source": [
    "mean = mean.reshape((bs, 1))\n",
    "mean"
   ]
  },
  {
   "cell_type": "code",
   "execution_count": null,
   "id": "a480c824-797f-4a65-aef8-a8e55bff01ef",
   "metadata": {},
   "outputs": [
    {
     "data": {
      "text/plain": [
       "minima.Tensor(\n",
       "[[0.393009 0.393009 0.393009 0.393009 0.393009 0.393009 0.393009 0.393009 0.393009 0.393009]\n",
       " [0.560147 0.560147 0.560147 0.560147 0.560147 0.560147 0.560147 0.560147 0.560147 0.560147]\n",
       " [0.397895 0.397895 0.397895 0.397895 0.397895 0.397895 0.397895 0.397895 0.397895 0.397895]\n",
       " [0.575772 0.575772 0.575772 0.575772 0.575772 0.575772 0.575772 0.575772 0.575772 0.575772]\n",
       " [0.347942 0.347942 0.347942 0.347942 0.347942 0.347942 0.347942 0.347942 0.347942 0.347942]])"
      ]
     },
     "execution_count": null,
     "metadata": {},
     "output_type": "execute_result"
    }
   ],
   "source": [
    "mean = mean.broadcast_to(X.shape)\n",
    "mean"
   ]
  },
  {
   "cell_type": "code",
   "execution_count": null,
   "id": "74c248e4-6a05-460a-a84e-4b9e89ba11e3",
   "metadata": {},
   "outputs": [
    {
     "data": {
      "text/plain": [
       "minima.Tensor(\n",
       "[[-0.004274  0.554287  0.024338 -0.26398  -0.338523 -0.392422  0.194383  0.052211 -0.079762  0.25374 ]\n",
       " [ 0.23146  -0.419831 -0.101779  0.005935  0.198101 -0.090371  0.258238  0.251394 -0.311595 -0.021552]\n",
       " [ 0.464004  0.242308 -0.205981 -0.3713   -0.178331  0.100998  0.28728  -0.148673 -0.181954 -0.008351]\n",
       " [-0.54704   0.107912  0.395037 -0.006603 -0.473954  0.314468 -0.17274   0.235172  0.177738 -0.029988]\n",
       " [-0.017291  0.298165 -0.3081   -0.334968 -0.009132  0.413273  0.549867 -0.266225 -0.206832 -0.118757]])"
      ]
     },
     "execution_count": null,
     "metadata": {},
     "output_type": "execute_result"
    }
   ],
   "source": [
    "x_centred = X - mean\n",
    "x_centred"
   ]
  },
  {
   "cell_type": "code",
   "execution_count": null,
   "id": "9c52c906-2dc7-41ba-b826-88f3fa9e5828",
   "metadata": {},
   "outputs": [],
   "source": [
    "#| export\n",
    "class LayerNorm1d(Module):\n",
    "    \"\"\"\n",
    "    1D Layer normalization module in Minima.\n",
    "\n",
    "    Applies layer normalization over a 1D input. The mean and standard deviation are computed over the last dimension.\n",
    "\n",
    "    Attributes:\n",
    "    - `dim` (int): The dimension of the input feature space.\n",
    "    - `eps` (float): A small constant for numerical stability.\n",
    "    - `weight` (Parameter): The learnable weights of the module of size 'dim', initialized with ones.\n",
    "    - `bias` (Parameter): The learnable bias of the module of size 'dim', initialized with zeros.\n",
    "\n",
    "    Methods:\n",
    "    - `forward(x: Tensor) -> Tensor`: Applies layer normalization to the input tensor.\n",
    "\n",
    "    \"\"\"\n",
    "    def __init__(\n",
    "        self,\n",
    "        dim: int, # The dimension of the input feature space.\n",
    "        eps=1e-5, # A small constant for numerical stability. Default is 1e-5.\n",
    "        device=None, # The desired device of returned tensor. If None, uses the current device for the default tensor type. Default is None.\n",
    "        dtype=\"float32\" # The desired data type of returned tensor. If None, uses the default data type. Default is \"float32\".\n",
    "    ):\n",
    "        \"\"\"\n",
    "        Initializes a new `LayerNorm1d` instance.\n",
    "        \n",
    "        Args:\n",
    "            dim: The dimension of the input feature space.\n",
    "            eps: A small constant for numerical stability. Default is 1e-5.\n",
    "            device: The desired device of returned tensor. If None, uses the current device for the default tensor type. Default is None.\n",
    "            dtype: The desired data type of returned tensor. If None, uses the default data type. Default is \"float32\".\n",
    "        \"\"\"\n",
    "        super().__init__()\n",
    "        self.dim = dim\n",
    "        self.eps = eps\n",
    "        \n",
    "        self.weight = Parameter(init.ones(dim, device=device, dtype=dtype, requires_grad=True))\n",
    "        self.bias = Parameter(init.zeros(dim, device=device, dtype=dtype, requires_grad=True))\n",
    "\n",
    "    def forward(self, x: Tensor) -> Tensor:\n",
    "        \"\"\"\n",
    "        Applies the layer normalization over the input.\n",
    "\n",
    "        Args:\n",
    "            x (Tensor): The input tensor of shape (batch_size, num_features).\n",
    "\n",
    "        Returns:\n",
    "            Tensor: The output tensor after applying layer normalization.\n",
    "        \"\"\"\n",
    "        bs, fs = x.shape\n",
    "        axes = (-1,)\n",
    "        mean = x.sum(axes=axes).reshape((bs, 1)) / fs\n",
    "        x_centered = x - mean.broadcast_to(x.shape)\n",
    "        std = ((x_centered ** 2).sum(axes=axes).reshape((bs, 1)) / fs + self.eps) ** 0.5\n",
    "        x_normed = x_centered / std.broadcast_to(x.shape)\n",
    "        return self.weight.broadcast_to(x.shape) * x_normed + self.bias.broadcast_to(x.shape)\n"
   ]
  },
  {
   "cell_type": "code",
   "execution_count": null,
   "id": "3de7671a-8190-4349-9a96-06f6e7129c2a",
   "metadata": {},
   "outputs": [],
   "source": [
    "#| export\n",
    "class BatchNorm1d(Module):\n",
    "    \"\"\"\n",
    "    1D Batch normalization module in Minima.\n",
    "\n",
    "    This module applies Batch Normalization over a 1D input as described in the paper \"Batch Normalization: Accelerating Deep Network Training by Reducing Internal Covariate Shift\" by Ioffe and Szegedy.\n",
    "\n",
    "    Attributes:\n",
    "    - `dim` (int): The dimension of the input feature space.\n",
    "    - `eps` (float): A small constant added to the denominator for numerical stability.\n",
    "    - `momentum` (float): The value used for the running_mean and running_var computation.\n",
    "    - `weight` (Parameter): The learnable scale factor of the module of size 'dim', initialized with ones.\n",
    "    - `bias` (Parameter): The learnable offset of the module of size 'dim', initialized with zeros.\n",
    "    - `running_mean` (Tensor): The running mean. Represents the mean of the features over batches. Initialized with zeros.\n",
    "    - `running_std` (Tensor): The running standard deviation. Represents the standard deviation of the features over batches. Initialized with ones.\n",
    "\n",
    "    Methods:\n",
    "    - `update_stats(x: Tensor) -> Tuple[Tensor, Tensor]`: Calculates the mean and standard deviation of the input tensor.\n",
    "    - `forward(x: Tensor) -> Tensor`: Applies batch normalization to the input tensor.\n",
    "\n",
    "    Example:\n",
    "    ```python\n",
    "    batch_norm = BatchNorm1d(dim=512)\n",
    "    output = batch_norm(input_tensor)  # Apply batch normalization\n",
    "    ```\n",
    "\n",
    "    \"\"\"\n",
    "    def __init__(\n",
    "        self,\n",
    "        dim: int,\n",
    "        eps=1e-5,\n",
    "        momentum=0.1,\n",
    "        device=None,\n",
    "        dtype=\"float32\"\n",
    "    ):\n",
    "        \"\"\"\n",
    "        Initializes a new `BatchNorm1d` instance.\n",
    "        \n",
    "        Args:\n",
    "            dim: The dimension of the input feature space.\n",
    "            eps: A small constant for numerical stability. Default is 1e-5.\n",
    "            momentum: The value used for the running_mean and running_var computation. Default is 0.1.\n",
    "            device: The desired device of returned tensor. If None, uses the current device for the default tensor type. Default is None.\n",
    "            dtype: The desired data type of returned tensor. If None, uses the default data type. Default is \"float32\".\n",
    "        \"\"\"\n",
    "        \n",
    "        super().__init__()\n",
    "        self.dim = dim\n",
    "        self.eps = eps\n",
    "        self.momentum = momentum\n",
    "        \n",
    "        self.weight = Parameter(init.ones(dim, device=device, dtype=dtype, requires_grad=True))\n",
    "        self.bias = Parameter(init.zeros(dim, device=device, dtype=dtype, requires_grad=True))\n",
    "        \n",
    "        self.running_mean = Tensor(init.zeros(dim, device=device, dtype=dtype))\n",
    "        self.running_std = Tensor(init.ones(dim, device=device, dtype=dtype))\n",
    "        \n",
    "    def update_stats(self, x: Tensor) -> Tuple[Tensor, Tensor]:\n",
    "        bs, fs = x.shape\n",
    "        axes=(0,)\n",
    "        mean = x.sum(axes=axes) / bs\n",
    "        x_centered = x - mean.broadcast_to(x.shape)\n",
    "        std = ((x_centered ** 2).sum(axes=axes) / bs)\n",
    "        self.running_mean = self.momentum * mean.data  + (1 - self.momentum) * self.running_mean\n",
    "        self.running_std = self.momentum * std.data + (1 - self.momentum) * self.running_std\n",
    "        return mean,std\n",
    "\n",
    "    def forward(self, x: Tensor) -> Tensor:\n",
    "        if self.training:\n",
    "            mean, std = self.update_stats(x)\n",
    "        else:\n",
    "            mean, std = self.running_mean, self.running_std\n",
    "        x_normed = (x - mean.broadcast_to(x.shape)) / (std.broadcast_to(x.shape) + self.eps) ** .5\n",
    "        return self.weight.broadcast_to(x.shape) * x_normed + self.bias.broadcast_to(x.shape)"
   ]
  },
  {
   "cell_type": "code",
   "execution_count": null,
   "id": "d614be55-42b4-4a1e-bd0a-f99dc90dbad8",
   "metadata": {},
   "outputs": [],
   "source": [
    "#| export\n",
    "class Dropout(Module):\n",
    "    def __init__(self, p = 0.5):\n",
    "        super().__init__()\n",
    "        self.p = p\n",
    "\n",
    "    def forward(self, x: Tensor) -> Tensor:\n",
    "        binary_mask = init.randb(*x.shape, p=self.p)\n",
    "        if self.training:\n",
    "            return (binary_mask * x) / (1 - self.p)\n",
    "        return x"
   ]
  },
  {
   "cell_type": "code",
   "execution_count": null,
   "id": "c8b5a338-fed8-4725-9225-3663ce5feb88",
   "metadata": {},
   "outputs": [],
   "source": [
    "#| export\n",
    "class Residual(Module):\n",
    "    def __init__(self, fn: Module):\n",
    "        super().__init__()\n",
    "        self.fn = fn\n",
    "\n",
    "    def forward(self, x: Tensor) -> Tensor:\n",
    "        return x + self.fn(x)"
   ]
  },
  {
   "cell_type": "code",
   "execution_count": null,
   "id": "d39205c5-9fd1-491f-9567-045c5a0d1d60",
   "metadata": {},
   "outputs": [],
   "source": [
    "#| export\n",
    "class Identity(Module):\n",
    "    def forward(self, x):\n",
    "        return x"
   ]
  },
  {
   "cell_type": "markdown",
   "id": "b51bcf1a-a277-49ab-83e7-531e090df371",
   "metadata": {},
   "source": [
    "## Export"
   ]
  },
  {
   "cell_type": "code",
   "execution_count": null,
   "id": "644f7f70-b8aa-44a9-93e8-f319f68123c4",
   "metadata": {},
   "outputs": [],
   "source": [
    "import nbdev; nbdev.nbdev_export()"
   ]
  }
 ],
 "metadata": {
  "kernelspec": {
   "display_name": "python3",
   "language": "python",
   "name": "python3"
  }
 },
 "nbformat": 4,
 "nbformat_minor": 5
}
