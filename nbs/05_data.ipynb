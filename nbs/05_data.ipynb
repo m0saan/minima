{
 "cells": [
  {
   "cell_type": "markdown",
   "id": "9fb466cc-b83e-4b3e-8522-5547fd584d2f",
   "metadata": {},
   "source": [
    "# data\n",
    "\n",
    "> Fill in a module description here"
   ]
  },
  {
   "cell_type": "code",
   "execution_count": null,
   "id": "7cb0f61b-5380-4264-9c45-7e9ec1088c1b",
   "metadata": {},
   "outputs": [],
   "source": [
    "#| default_exp data"
   ]
  },
  {
   "cell_type": "code",
   "execution_count": null,
   "id": "2613a124-f985-4fee-9151-c0e78f59e4a6",
   "metadata": {},
   "outputs": [],
   "source": [
    "#| export\n",
    "from typing import (\n",
    "    Iterable,\n",
    "    Callable,\n",
    "    Iterator,\n",
    "    Optional,\n",
    "    List\n",
    ")\n",
    "import minima as mi\n",
    "from minima import Tensor\n",
    "from minima import init"
   ]
  },
  {
   "cell_type": "code",
   "execution_count": null,
   "id": "382d8c6b-eb2e-4ce2-b5cc-382a8bdce147",
   "metadata": {},
   "outputs": [],
   "source": [
    "#| export\n",
    "class Sampler:\n",
    "    \"\"\"\n",
    "    A custom sampler class.\n",
    "\n",
    "    Args:\n",
    "        ds (Iterable[int]): Iterable of indices.\n",
    "        shuffle (bool): Whether to shuffle the indices.\n",
    "\n",
    "    Example:\n",
    "        >>> x = range(10)\n",
    "        >>> sampler = Sampler(x, shuffle=True)\n",
    "    \"\"\"\n",
    "\n",
    "    def __init__(self, ds: Iterable[int], shuffle: bool = False):\n",
    "        self.n = len(ds)\n",
    "        self.shuffle = shuffle\n",
    "\n",
    "    def __iter__(self) -> Iterator[int]:\n",
    "        res = list(range(self.n))\n",
    "        if self.shuffle: random.shuffle(res)\n",
    "        return iter(res)"
   ]
  },
  {
   "cell_type": "code",
   "execution_count": null,
   "id": "2eccd88b-f228-4cd9-84fb-68b595cd07ca",
   "metadata": {},
   "outputs": [],
   "source": [
    "#| export\n",
    "class BatchSampler:\n",
    "    \"\"\"\n",
    "    A custom batch sampler class.\n",
    "\n",
    "    Args:\n",
    "        sampler (Sampler): The sampler to use.\n",
    "        bs (int): Batch size.\n",
    "        drop_last (bool): Whether to drop the last batch if it is smaller than the batch size.\n",
    "\n",
    "    Example:\n",
    "        >>> x = range(10)\n",
    "        >>> sampler = Sampler(x, shuffle=True)\n",
    "        >>> batch_sampler = BatchSampler(sampler, bs=3)\n",
    "    \"\"\"\n",
    "\n",
    "    def __init__(self, sampler: Sampler, bs: int, drop_last: bool = False):\n",
    "        self.sampler = sampler\n",
    "        self.bs = bs\n",
    "        self.drop_last = drop_last\n",
    "\n",
    "    def __iter__(self):\n",
    "        yield from fc.chunked(iter(self.sampler), self.bs, drop_last=self.drop_last)\n"
   ]
  },
  {
   "cell_type": "code",
   "execution_count": null,
   "id": "64a46b2d-6677-48d5-9e13-eda777088321",
   "metadata": {},
   "outputs": [],
   "source": [
    "#| export\n",
    "class Dataset():\n",
    "    r\"\"\"An abstract class representing a :class:`Dataset`.\n",
    "\n",
    "    All datasets that represent a map from keys to data samples should subclass\n",
    "    it. All subclasses should overwrite:\n",
    "    `__getitem__`, supporting fetching a data sample for a given key.\n",
    "    `__len__`, which is expected to return the size of the dataset.\n",
    "    \"\"\"\n",
    "\n",
    "    def __init__(self, transforms: Optional[List]=None):\n",
    "        self.transforms = transforms\n",
    "\n",
    "    def __getitem__(self, index) -> object:\n",
    "        \"\"\"\n",
    "        Get an item from the dataset at the given index.\n",
    "\n",
    "        Args:\n",
    "            i (int): Index of the item.\n",
    "\n",
    "        Returns:\n",
    "            Tuple[float, float]: A tuple containing the input data and target label at the given index.\n",
    "\n",
    "        Example:\n",
    "            >>> dataset[0]\n",
    "            (1, 0)\n",
    "        \"\"\"\n",
    "        \n",
    "        raise NotImplementedError\n",
    "\n",
    "    def __len__(self) -> int:\n",
    "        \"\"\"\n",
    "        Get the length of the dataset.\n",
    "\n",
    "        Returns:\n",
    "            int: Length of the dataset.\n",
    "\n",
    "        Example:\n",
    "            >>> len(dataset)\n",
    "            5\n",
    "        \"\"\"\n",
    "        \n",
    "        raise NotImplementedError\n",
    "\n",
    "    def apply_transforms(self, x):\n",
    "        if self.transforms is not None:\n",
    "            for tfms in self.transforms:\n",
    "                x = tfms(x)\n",
    "        return x"
   ]
  },
  {
   "cell_type": "code",
   "execution_count": null,
   "id": "c59c7e4c-5d75-4f32-a58d-f98bc69806aa",
   "metadata": {},
   "outputs": [],
   "source": [
    "#|export\n",
    "class DataLoader:\n",
    "    \"\"\"\n",
    "    A custom data loader class.\n",
    "\n",
    "    Args:\n",
    "        ds (Dataset): The dataset to load.\n",
    "        bs (int): Batch size.\n",
    "\n",
    "    Example:\n",
    "        >>> dataloader = DataLoader(dataset, batch_size)\n",
    "    \"\"\"\n",
    "\n",
    "    def __init__(self,\n",
    "                 dataset: Dataset,\n",
    "                 batch_size: int = 1,\n",
    "                 shuffle: bool = True,\n",
    "                 sampler: Sampler = None,\n",
    "                 batch_sampler: BatchSampler = None,\n",
    "                 num_workers: int = 0,\n",
    "                 collate_fn: callable = None,\n",
    "                 drop_last: bool = False):\n",
    "\n",
    "        self.dataset = dataset\n",
    "        self.batch_size = batch_size\n",
    "        self.shuffle = shuffle\n",
    "        self.sampler = sampler if sampler else Sampler(dataset, shuffle)\n",
    "        self.batch_sampler = batch_sampler if batch_sampler else BatchSampler(self.sampler, batch_size, drop_last)\n",
    "        self.num_workers = num_workers # --> TODO: implement a multiprocessing DataLoader :3\n",
    "        self.collate_fn = collate\n",
    "        self.drop_last = drop_last\n",
    "\n",
    "    def __iter__(self):\n",
    "        \"\"\"\n",
    "        Get an iterator over the DataLoader.\n",
    "\n",
    "        Yields:\n",
    "            Tuple[float, float]: A tuple containing a batch of input data and target labels.\n",
    "\n",
    "        Example:\n",
    "            >>> for batch in dataloader:\n",
    "            >>>     # Process the batch\n",
    "        \"\"\"\n",
    "        if self.num_workers:\n",
    "            with mp.Pool(self.num_workers) as ex:\n",
    "                yield from ex.map(self.dataset.__getitem__,  iter(self.batch_sampler))\n",
    "        else:\n",
    "            yield from (self.dataset[batch_idxs] for batch_idxs in self.batch_sampler)\n",
    "\n"
   ]
  },
  {
   "cell_type": "code",
   "execution_count": null,
   "id": "90b2821d-1404-437e-ae3d-32d0c24e478c",
   "metadata": {},
   "outputs": [
    {
     "data": {
      "text/plain": [
       "((100, 10), (100,))"
      ]
     },
     "execution_count": null,
     "metadata": {},
     "output_type": "execute_result"
    }
   ],
   "source": [
    "X = init.rand(100, 10)\n",
    "Y = init.randb(X.shape[0])\n",
    "X.shape, Y.shape"
   ]
  },
  {
   "cell_type": "code",
   "execution_count": null,
   "id": "3aec7ba6-14e7-43df-88a5-fa88751a26c8",
   "metadata": {},
   "outputs": [],
   "source": [
    "class MiDataset(Dataset):\n",
    "\n",
    "    def __init__(self, x, y):\n",
    "        self.x = x\n",
    "        self.y = y\n",
    "\n",
    "    def __len__(self) -> int:\n",
    "        return self.x.shape[0]\n",
    "\n",
    "    def __getitem__(self, i: int):\n",
    "        return self.x[i], self.y[i]"
   ]
  },
  {
   "cell_type": "code",
   "execution_count": null,
   "id": "dce39dc8-46bd-4a30-9040-dc506645fd0e",
   "metadata": {},
   "outputs": [],
   "source": [
    "ds = MiDataset(X,Y)"
   ]
  },
  {
   "cell_type": "code",
   "execution_count": null,
   "id": "85d75e67-4745-4e22-acf2-dae5fefabc5d",
   "metadata": {},
   "outputs": [
    {
     "data": {
      "text/plain": [
       "100"
      ]
     },
     "execution_count": null,
     "metadata": {},
     "output_type": "execute_result"
    }
   ],
   "source": [
    "len(ds)"
   ]
  },
  {
   "cell_type": "code",
   "execution_count": null,
   "id": "c794f15f-e2bc-44a8-a788-08b2b9c505cb",
   "metadata": {},
   "outputs": [
    {
     "data": {
      "text/plain": [
       "(minima.Tensor(\n",
       " [[0.205512 0.403219 0.692859 0.422495 0.808965 0.576947 0.827043 0.11447  0.082906 0.779861]\n",
       "  [0.984203 0.686364 0.590332 0.926567 0.376217 0.443898 0.855632 0.818763 0.118218 0.344021]\n",
       "  [0.413944 0.907886 0.245893 0.007645 0.628516 0.072028 0.258648 0.087356 0.93394  0.076115]\n",
       "  [0.914312 0.807569 0.319946 0.971284 0.876449 0.825572 0.808259 0.91054  0.071735 0.478746]\n",
       "  [0.1809   0.188892 0.158353 0.247531 0.989222 0.685215 0.409875 0.906303 0.546848 0.734692]\n",
       "  [0.363155 0.297981 0.47858  0.133156 0.017859 0.573805 0.880012 0.344674 0.614881 0.933287]\n",
       "  [0.052164 0.1493   0.30457  0.640711 0.983575 0.842516 0.65946  0.562504 0.762918 0.95061 ]\n",
       "  [0.660865 0.254197 0.342602 0.618704 0.828643 0.294252 0.425804 0.518007 0.031176 0.9347  ]\n",
       "  [0.946777 0.235436 0.353485 0.611394 0.109561 0.332844 0.851154 0.676482 0.761387 0.110494]\n",
       "  [0.265457 0.044131 0.432185 0.443281 0.548712 0.367395 0.36302  0.545991 0.666848 0.653104]]),\n",
       " minima.Tensor(\n",
       " [ True  True  True  True False False  True False False  True]))"
      ]
     },
     "execution_count": null,
     "metadata": {},
     "output_type": "execute_result"
    }
   ],
   "source": [
    "ds[:10]"
   ]
  },
  {
   "cell_type": "markdown",
   "id": "f1a729ff-626c-405e-9611-af73cb91406a",
   "metadata": {},
   "source": [
    "## Export"
   ]
  },
  {
   "cell_type": "code",
   "execution_count": null,
   "id": "b70af807-f7e3-439f-8ee0-fd58e9da3254",
   "metadata": {},
   "outputs": [],
   "source": [
    "import nbdev; nbdev.nbdev_export()"
   ]
  },
  {
   "cell_type": "code",
   "execution_count": null,
   "id": "1b53325a-7f9c-4602-b11e-3bd9e9c5d8b8",
   "metadata": {},
   "outputs": [],
   "source": []
  }
 ],
 "metadata": {
  "kernelspec": {
   "display_name": "python3",
   "language": "python",
   "name": "python3"
  }
 },
 "nbformat": 4,
 "nbformat_minor": 5
}
