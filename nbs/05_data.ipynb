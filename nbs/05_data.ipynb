{
 "cells": [
  {
   "cell_type": "markdown",
   "id": "9fb466cc-b83e-4b3e-8522-5547fd584d2f",
   "metadata": {},
   "source": [
    "# data\n",
    "\n",
    "> Fill in a module description here"
   ]
  },
  {
   "cell_type": "code",
   "execution_count": null,
   "id": "7cb0f61b-5380-4264-9c45-7e9ec1088c1b",
   "metadata": {},
   "outputs": [],
   "source": [
    "#| default_exp data"
   ]
  },
  {
   "cell_type": "code",
   "execution_count": null,
   "id": "2613a124-f985-4fee-9151-c0e78f59e4a6",
   "metadata": {},
   "outputs": [],
   "source": [
    "#| export\n",
    "from typing import (\n",
    "    Iterable,\n",
    "    Callable,\n",
    "    Iterator,\n",
    "    Optional,\n",
    "    List\n",
    ")\n",
    "import minima as mi\n",
    "from minima import Tensor\n",
    "from minima import init\n",
    "import fastcore.all as fc\n",
    "import random"
   ]
  },
  {
   "cell_type": "code",
   "execution_count": null,
   "id": "382d8c6b-eb2e-4ce2-b5cc-382a8bdce147",
   "metadata": {},
   "outputs": [],
   "source": [
    "#| export\n",
    "class Sampler:\n",
    "    \"\"\"\n",
    "    A custom sampler class.\n",
    "\n",
    "    Args:\n",
    "        ds (Iterable[int]): Iterable of indices.\n",
    "        shuffle (bool): Whether to shuffle the indices.\n",
    "\n",
    "    Example:\n",
    "        >>> x = range(10)\n",
    "        >>> sampler = Sampler(x, shuffle=True)\n",
    "    \"\"\"\n",
    "\n",
    "    def __init__(self, ds: Iterable[int], shuffle: bool = False):\n",
    "        self.n = len(ds)\n",
    "        self.shuffle = shuffle\n",
    "\n",
    "    def __iter__(self) -> Iterator[int]:\n",
    "        res = list(range(self.n))\n",
    "        if self.shuffle: random.shuffle(res)\n",
    "        return iter(res)"
   ]
  },
  {
   "cell_type": "code",
   "execution_count": null,
   "id": "2eccd88b-f228-4cd9-84fb-68b595cd07ca",
   "metadata": {},
   "outputs": [],
   "source": [
    "#| export\n",
    "class BatchSampler:\n",
    "    \"\"\"\n",
    "    A custom batch sampler class.\n",
    "\n",
    "    Args:\n",
    "        sampler (Sampler): The sampler to use.\n",
    "        bs (int): Batch size.\n",
    "        drop_last (bool): Whether to drop the last batch if it is smaller than the batch size.\n",
    "\n",
    "    Example:\n",
    "        >>> x = range(10)\n",
    "        >>> sampler = Sampler(x, shuffle=True)\n",
    "        >>> batch_sampler = BatchSampler(sampler, bs=3)\n",
    "    \"\"\"\n",
    "\n",
    "    def __init__(self, sampler: Sampler, bs: int, drop_last: bool = False):\n",
    "        self.sampler = sampler\n",
    "        self.bs = bs\n",
    "        self.drop_last = drop_last\n",
    "\n",
    "    def __iter__(self):\n",
    "        yield from fc.chunked(iter(self.sampler), self.bs, drop_last=self.drop_last)\n"
   ]
  },
  {
   "cell_type": "code",
   "execution_count": null,
   "id": "64a46b2d-6677-48d5-9e13-eda777088321",
   "metadata": {},
   "outputs": [],
   "source": [
    "#| export\n",
    "class Dataset():\n",
    "    r\"\"\"An abstract class representing a :class:`Dataset`.\n",
    "\n",
    "    All datasets that represent a map from keys to data samples should subclass\n",
    "    it. All subclasses should overwrite:\n",
    "    `__getitem__`, supporting fetching a data sample for a given key.\n",
    "    `__len__`, which is expected to return the size of the dataset.\n",
    "    \"\"\"\n",
    "\n",
    "    def __init__(self, transforms: Optional[List]=None):\n",
    "        self.transforms = transforms\n",
    "\n",
    "    def __getitem__(self, index) -> object:\n",
    "        \"\"\"\n",
    "        Get an item from the dataset at the given index.\n",
    "\n",
    "        Args:\n",
    "            i (int): Index of the item.\n",
    "\n",
    "        Returns:\n",
    "            Tuple[float, float]: A tuple containing the input data and target label at the given index.\n",
    "\n",
    "        Example:\n",
    "            >>> dataset[0]\n",
    "            (1, 0)\n",
    "        \"\"\"\n",
    "        \n",
    "        raise NotImplementedError\n",
    "\n",
    "    def __len__(self) -> int:\n",
    "        \"\"\"\n",
    "        Get the length of the dataset.\n",
    "\n",
    "        Returns:\n",
    "            int: Length of the dataset.\n",
    "\n",
    "        Example:\n",
    "            >>> len(dataset)\n",
    "            5\n",
    "        \"\"\"\n",
    "        \n",
    "        raise NotImplementedError\n",
    "\n",
    "    def apply_transforms(self, x):\n",
    "        if self.transforms is not None:\n",
    "            for tfms in self.transforms:\n",
    "                x = tfms(x)\n",
    "        return x"
   ]
  },
  {
   "cell_type": "code",
   "execution_count": null,
   "id": "c59c7e4c-5d75-4f32-a58d-f98bc69806aa",
   "metadata": {},
   "outputs": [],
   "source": [
    "#|export\n",
    "\n",
    "\n",
    "def collate(b):\n",
    "    xs,ys = zip(*b)\n",
    "    return torch.stack(xs),torch.stack(ys)\n",
    "\n",
    "class DataLoader:\n",
    "    \"\"\"\n",
    "    A custom data loader class.\n",
    "\n",
    "    Args:\n",
    "        ds (Dataset): The dataset to load.\n",
    "        bs (int): Batch size.\n",
    "\n",
    "    Example:\n",
    "        >>> dataloader = DataLoader(dataset, batch_size)\n",
    "    \"\"\"\n",
    "\n",
    "    def __init__(self,\n",
    "                 dataset: Dataset,\n",
    "                 batch_size: int = 1,\n",
    "                 shuffle: bool = True,\n",
    "                 sampler: Sampler = None,\n",
    "                 batch_sampler: BatchSampler = None,\n",
    "                 num_workers: int = 0,\n",
    "                 collate_fn: callable = None,\n",
    "                 drop_last: bool = False):\n",
    "\n",
    "        self.dataset = dataset\n",
    "        self.batch_size = batch_size\n",
    "        self.shuffle = shuffle\n",
    "        self.sampler = sampler if sampler else Sampler(dataset, shuffle)\n",
    "        self.batch_sampler = batch_sampler if batch_sampler else BatchSampler(self.sampler, batch_size, drop_last)\n",
    "        self.num_workers = num_workers # --> TODO: implement a multiprocessing DataLoader :3\n",
    "        self.collate_fn = collate\n",
    "        self.drop_last = drop_last\n",
    "\n",
    "    def __iter__(self):\n",
    "        \"\"\"\n",
    "        Get an iterator over the DataLoader.\n",
    "\n",
    "        Yields:\n",
    "            Tuple[float, float]: A tuple containing a batch of input data and target labels.\n",
    "\n",
    "        Example:\n",
    "            >>> for batch in dataloader:\n",
    "            >>>     # Process the batch\n",
    "        \"\"\"\n",
    "        if self.num_workers:\n",
    "            with mp.Pool(self.num_workers) as ex:\n",
    "                yield from ex.map(self.dataset.__getitem__,  iter(self.batch_sampler))\n",
    "        else:\n",
    "            yield from (self.dataset[batch_idxs] for batch_idxs in self.batch_sampler)\n",
    "\n"
   ]
  },
  {
   "cell_type": "code",
   "execution_count": null,
   "id": "90b2821d-1404-437e-ae3d-32d0c24e478c",
   "metadata": {},
   "outputs": [
    {
     "data": {
      "text/plain": [
       "((100, 10), (100,))"
      ]
     },
     "execution_count": null,
     "metadata": {},
     "output_type": "execute_result"
    }
   ],
   "source": [
    "X = init.rand(100, 10)\n",
    "Y = init.randb(X.shape[0])\n",
    "X.shape, Y.shape"
   ]
  },
  {
   "cell_type": "code",
   "execution_count": null,
   "id": "3aec7ba6-14e7-43df-88a5-fa88751a26c8",
   "metadata": {},
   "outputs": [],
   "source": [
    "class MiDataset(Dataset):\n",
    "\n",
    "    def __init__(self, x, y):\n",
    "        self.x = x\n",
    "        self.y = y\n",
    "\n",
    "    def __len__(self) -> int:\n",
    "        return self.x.shape[0]\n",
    "\n",
    "    def __getitem__(self, i: int):\n",
    "        return self.x[i], self.y[i]"
   ]
  },
  {
   "cell_type": "code",
   "execution_count": null,
   "id": "dce39dc8-46bd-4a30-9040-dc506645fd0e",
   "metadata": {},
   "outputs": [],
   "source": [
    "ds = MiDataset(X,Y)"
   ]
  },
  {
   "cell_type": "code",
   "execution_count": null,
   "id": "85d75e67-4745-4e22-acf2-dae5fefabc5d",
   "metadata": {},
   "outputs": [
    {
     "data": {
      "text/plain": [
       "100"
      ]
     },
     "execution_count": null,
     "metadata": {},
     "output_type": "execute_result"
    }
   ],
   "source": [
    "len(ds)"
   ]
  },
  {
   "cell_type": "code",
   "execution_count": null,
   "id": "c794f15f-e2bc-44a8-a788-08b2b9c505cb",
   "metadata": {},
   "outputs": [
    {
     "data": {
      "text/plain": [
       "(minima.Tensor(\n",
       " [[0.835655 0.355682 0.341312 0.877118 0.964982 0.161331 0.871119 0.653924 0.112947 0.995913]\n",
       "  [0.5362   0.935408 0.452379 0.046165 0.030116 0.169965 0.570334 0.426115 0.03146  0.132633]\n",
       "  [0.163104 0.91955  0.635856 0.995347 0.993711 0.460345 0.894598 0.273158 0.124523 0.119298]\n",
       "  [0.638094 0.598965 0.745832 0.370086 0.670154 0.071052 0.32124  0.806154 0.743922 0.123329]\n",
       "  [0.946646 0.726528 0.724754 0.568195 0.282958 0.240825 0.941848 0.742167 0.750217 0.275818]\n",
       "  [0.513921 0.476381 0.050706 0.543432 0.484169 0.318996 0.580121 0.343467 0.814567 0.417969]\n",
       "  [0.753226 0.521739 0.940589 0.336658 0.906802 0.777629 0.836282 0.378091 0.259586 0.798654]\n",
       "  [0.341872 0.972311 0.902511 0.193453 0.089093 0.564276 0.213413 0.927187 0.968153 0.307819]\n",
       "  [0.749471 0.773822 0.469319 0.862515 0.167192 0.390072 0.942944 0.92225  0.460263 0.55879 ]\n",
       "  [0.925903 0.233595 0.177896 0.976798 0.043768 0.61924  0.939949 0.875439 0.068964 0.574139]]),\n",
       " minima.Tensor(\n",
       " [False  True  True  True False False False  True  True  True]))"
      ]
     },
     "execution_count": null,
     "metadata": {},
     "output_type": "execute_result"
    }
   ],
   "source": [
    "ds[:10]"
   ]
  },
  {
   "cell_type": "markdown",
   "id": "f1a729ff-626c-405e-9611-af73cb91406a",
   "metadata": {},
   "source": [
    "## Export"
   ]
  },
  {
   "cell_type": "code",
   "execution_count": null,
   "id": "b70af807-f7e3-439f-8ee0-fd58e9da3254",
   "metadata": {},
   "outputs": [],
   "source": [
    "import nbdev; nbdev.nbdev_export()"
   ]
  },
  {
   "cell_type": "code",
   "execution_count": null,
   "id": "1b53325a-7f9c-4602-b11e-3bd9e9c5d8b8",
   "metadata": {},
   "outputs": [],
   "source": []
  }
 ],
 "metadata": {
  "kernelspec": {
   "display_name": "python3",
   "language": "python",
   "name": "python3"
  }
 },
 "nbformat": 4,
 "nbformat_minor": 5
}
