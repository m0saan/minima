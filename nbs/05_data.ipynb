{
 "cells": [
  {
   "cell_type": "markdown",
   "id": "9fb466cc-b83e-4b3e-8522-5547fd584d2f",
   "metadata": {},
   "source": [
    "# data\n",
    "\n",
    "> Fill in a module description here"
   ]
  },
  {
   "cell_type": "code",
   "execution_count": null,
   "id": "7cb0f61b-5380-4264-9c45-7e9ec1088c1b",
   "metadata": {},
   "outputs": [],
   "source": [
    "#| default_exp data"
   ]
  },
  {
   "cell_type": "code",
   "execution_count": null,
   "id": "2613a124-f985-4fee-9151-c0e78f59e4a6",
   "metadata": {},
   "outputs": [],
   "source": [
    "#| export\n",
    "from typing import (\n",
    "    Iterable,\n",
    "    Callable,\n",
    "    Iterator,\n",
    "    Optional,\n",
    "    List\n",
    ")\n",
    "import minima as mi\n",
    "from minima import Tensor\n",
    "from minima import init\n",
    "import fastcore.all as fc\n",
    "import random"
   ]
  },
  {
   "cell_type": "code",
   "execution_count": null,
   "id": "382d8c6b-eb2e-4ce2-b5cc-382a8bdce147",
   "metadata": {},
   "outputs": [],
   "source": [
    "#| export\n",
    "class Sampler:\n",
    "    \"\"\"\n",
    "    A custom sampler class.\n",
    "\n",
    "    Args:\n",
    "        ds (Iterable[int]): Iterable of indices.\n",
    "        shuffle (bool): Whether to shuffle the indices.\n",
    "\n",
    "    Example:\n",
    "        >>> x = range(10)\n",
    "        >>> sampler = Sampler(x, shuffle=True)\n",
    "    \"\"\"\n",
    "\n",
    "    def __init__(self, ds: Iterable[int], shuffle: bool = False):\n",
    "        self.n = len(ds)\n",
    "        self.shuffle = shuffle\n",
    "\n",
    "    def __iter__(self) -> Iterator[int]:\n",
    "        res = list(range(self.n))\n",
    "        if self.shuffle: random.shuffle(res)\n",
    "        return iter(res)"
   ]
  },
  {
   "cell_type": "code",
   "execution_count": null,
   "id": "2eccd88b-f228-4cd9-84fb-68b595cd07ca",
   "metadata": {},
   "outputs": [],
   "source": [
    "#| export\n",
    "class BatchSampler:\n",
    "    \"\"\"\n",
    "    A custom batch sampler class.\n",
    "\n",
    "    Args:\n",
    "        sampler (Sampler): The sampler to use.\n",
    "        bs (int): Batch size.\n",
    "        drop_last (bool): Whether to drop the last batch if it is smaller than the batch size.\n",
    "\n",
    "    Example:\n",
    "        >>> x = range(10)\n",
    "        >>> sampler = Sampler(x, shuffle=True)\n",
    "        >>> batch_sampler = BatchSampler(sampler, bs=3)\n",
    "    \"\"\"\n",
    "\n",
    "    def __init__(self, sampler: Sampler, bs: int, drop_last: bool = False):\n",
    "        self.sampler = sampler\n",
    "        self.bs = bs\n",
    "        self.drop_last = drop_last\n",
    "\n",
    "    def __iter__(self):\n",
    "        yield from fc.chunked(iter(self.sampler), self.bs, drop_last=self.drop_last)\n"
   ]
  },
  {
   "cell_type": "code",
   "execution_count": null,
   "id": "64a46b2d-6677-48d5-9e13-eda777088321",
   "metadata": {},
   "outputs": [],
   "source": [
    "#| export\n",
    "class Dataset():\n",
    "    r\"\"\"An abstract class representing a :class:`Dataset`.\n",
    "\n",
    "    All datasets that represent a map from keys to data samples should subclass\n",
    "    it. All subclasses should overwrite:\n",
    "    `__getitem__`, supporting fetching a data sample for a given key.\n",
    "    `__len__`, which is expected to return the size of the dataset.\n",
    "    \"\"\"\n",
    "\n",
    "    def __init__(self, transforms: Optional[List]=None):\n",
    "        self.transforms = transforms\n",
    "\n",
    "    def __getitem__(self, index) -> object:\n",
    "        \"\"\"\n",
    "        Get an item from the dataset at the given index.\n",
    "\n",
    "        Args:\n",
    "            i (int): Index of the item.\n",
    "\n",
    "        Returns:\n",
    "            Tuple[float, float]: A tuple containing the input data and target label at the given index.\n",
    "\n",
    "        Example:\n",
    "            >>> dataset[0]\n",
    "            (1, 0)\n",
    "        \"\"\"\n",
    "        \n",
    "        raise NotImplementedError\n",
    "\n",
    "    def __len__(self) -> int:\n",
    "        \"\"\"\n",
    "        Get the length of the dataset.\n",
    "\n",
    "        Returns:\n",
    "            int: Length of the dataset.\n",
    "\n",
    "        Example:\n",
    "            >>> len(dataset)\n",
    "            5\n",
    "        \"\"\"\n",
    "        \n",
    "        raise NotImplementedError\n",
    "\n",
    "    def apply_transforms(self, x):\n",
    "        if self.transforms is not None:\n",
    "            for tfms in self.transforms:\n",
    "                x = tfms(x)\n",
    "        return x"
   ]
  },
  {
   "cell_type": "code",
   "execution_count": null,
   "id": "c59c7e4c-5d75-4f32-a58d-f98bc69806aa",
   "metadata": {},
   "outputs": [],
   "source": [
    "#|export\n",
    "\n",
    "class DataLoader:\n",
    "    \"\"\"\n",
    "    A custom data loader class.\n",
    "\n",
    "    Args:\n",
    "        ds (Dataset): The dataset to load.\n",
    "        bs (int): Batch size.\n",
    "\n",
    "    Example:\n",
    "        >>> dataloader = DataLoader(dataset, batch_size)\n",
    "    \"\"\"\n",
    "\n",
    "    def __init__(self,\n",
    "                 dataset: Dataset,\n",
    "                 batch_size: int = 1,\n",
    "                 shuffle: bool = True,\n",
    "                 sampler: Sampler = None,\n",
    "                 batch_sampler: BatchSampler = None,\n",
    "                 num_workers: int = 0,\n",
    "                 collate_fn: callable = None,\n",
    "                 drop_last: bool = False):\n",
    "\n",
    "        self.dataset = dataset\n",
    "        self.batch_size = batch_size\n",
    "        self.shuffle = shuffle\n",
    "        self.sampler = sampler if sampler else Sampler(dataset, shuffle)\n",
    "        self.batch_sampler = batch_sampler if batch_sampler else BatchSampler(self.sampler, batch_size, drop_last)\n",
    "        self.num_workers = num_workers # --> TODO: implement a multiprocessing DataLoader :3\n",
    "        self.collate_fn = collate_fn\n",
    "        self.drop_last = drop_last\n",
    "\n",
    "    def __iter__(self):\n",
    "        \"\"\"\n",
    "        Get an iterator over the DataLoader.\n",
    "\n",
    "        Yields:\n",
    "            Tuple[float, float]: A tuple containing a batch of input data and target labels.\n",
    "\n",
    "        Example:\n",
    "            >>> for batch in dataloader:\n",
    "            >>>     # Process the batch\n",
    "        \"\"\"\n",
    "        if self.collate_fn is not None:\n",
    "            yield from (self.collate_fn(self.dataset[batch_idxs]) for batch_idxs in self.batch_sampler)\n",
    "        else:\n",
    "            yield from (self.dataset[batch_idxs] for batch_idxs in self.batch_sampler)"
   ]
  },
  {
   "cell_type": "code",
   "execution_count": null,
   "id": "90b2821d-1404-437e-ae3d-32d0c24e478c",
   "metadata": {},
   "outputs": [
    {
     "data": {
      "text/plain": [
       "((100, 10), (100,))"
      ]
     },
     "execution_count": null,
     "metadata": {},
     "output_type": "execute_result"
    }
   ],
   "source": [
    "X = init.rand(100, 10)\n",
    "Y = init.randb(X.shape[0])\n",
    "X.shape, Y.shape"
   ]
  },
  {
   "cell_type": "code",
   "execution_count": null,
   "id": "3aec7ba6-14e7-43df-88a5-fa88751a26c8",
   "metadata": {},
   "outputs": [],
   "source": [
    "class MiDataset(Dataset):\n",
    "\n",
    "    def __init__(self, x, y):\n",
    "        self.x = x\n",
    "        self.y = y\n",
    "\n",
    "    def __len__(self) -> int:\n",
    "        return self.x.shape[0]\n",
    "\n",
    "    def __getitem__(self, i: int):\n",
    "        return self.x[i], self.y[i]"
   ]
  },
  {
   "cell_type": "code",
   "execution_count": null,
   "id": "dce39dc8-46bd-4a30-9040-dc506645fd0e",
   "metadata": {},
   "outputs": [],
   "source": [
    "ds = MiDataset(X,Y)"
   ]
  },
  {
   "cell_type": "code",
   "execution_count": null,
   "id": "85d75e67-4745-4e22-acf2-dae5fefabc5d",
   "metadata": {},
   "outputs": [
    {
     "data": {
      "text/plain": [
       "100"
      ]
     },
     "execution_count": null,
     "metadata": {},
     "output_type": "execute_result"
    }
   ],
   "source": [
    "len(ds)"
   ]
  },
  {
   "cell_type": "code",
   "execution_count": null,
   "id": "c794f15f-e2bc-44a8-a788-08b2b9c505cb",
   "metadata": {},
   "outputs": [
    {
     "data": {
      "text/plain": [
       "(minima.Tensor(\n",
       " [[0.44827  0.972257 0.162093 0.651357 0.674643 0.058556 0.77044  0.114458 0.036035 0.724403]\n",
       "  [0.279256 0.762198 0.098522 0.023235 0.061441 0.500864 0.882805 0.665565 0.655441 0.955076]\n",
       "  [0.053199 0.073746 0.613605 0.955496 0.487865 0.366099 0.220528 0.171526 0.740024 0.818154]\n",
       "  [0.759455 0.615499 0.838791 0.175651 0.496732 0.947632 0.906288 0.388928 0.570359 0.364755]\n",
       "  [0.50476  0.035453 0.802756 0.834585 0.86217  0.033867 0.002718 0.381732 0.323061 0.690836]\n",
       "  [0.714487 0.905631 0.675356 0.940675 0.476971 0.945839 0.143995 0.195337 0.354678 0.979314]\n",
       "  [0.90923  0.103803 0.428037 0.422163 0.358182 0.225472 0.398135 0.49203  0.21131  0.908285]\n",
       "  [0.905441 0.111027 0.678214 0.414372 0.153489 0.818518 0.380152 0.780927 0.337182 0.018802]\n",
       "  [0.245062 0.033404 0.424691 0.865934 0.583683 0.369279 0.939267 0.837757 0.353129 0.2387  ]\n",
       "  [0.392505 0.558509 0.37986  0.237742 0.799824 0.041586 0.015288 0.975757 0.467785 0.111904]]),\n",
       " minima.Tensor(\n",
       " [ True  True False  True  True False  True False False  True]))"
      ]
     },
     "execution_count": null,
     "metadata": {},
     "output_type": "execute_result"
    }
   ],
   "source": [
    "ds[:10]"
   ]
  },
  {
   "cell_type": "markdown",
   "id": "f1a729ff-626c-405e-9611-af73cb91406a",
   "metadata": {},
   "source": [
    "## Export"
   ]
  },
  {
   "cell_type": "code",
   "execution_count": null,
   "id": "b70af807-f7e3-439f-8ee0-fd58e9da3254",
   "metadata": {},
   "outputs": [],
   "source": [
    "import nbdev; nbdev.nbdev_export()"
   ]
  },
  {
   "cell_type": "code",
   "execution_count": null,
   "id": "1b53325a-7f9c-4602-b11e-3bd9e9c5d8b8",
   "metadata": {},
   "outputs": [],
   "source": []
  }
 ],
 "metadata": {
  "kernelspec": {
   "display_name": "python3",
   "language": "python",
   "name": "python3"
  }
 },
 "nbformat": 4,
 "nbformat_minor": 5
}
