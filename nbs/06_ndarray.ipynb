{
 "cells": [
  {
   "attachments": {},
   "cell_type": "markdown",
   "id": "6ae06a69-4476-4501-9f1b-5bfec8abdaae",
   "metadata": {},
   "source": [
    "# ndarray\n",
    "\n",
    "> The NDArray class in minima is a kind of container that can hold all sorts of elements, especially numbers (but for now just f32 numbers).  \n",
    "> It can work with data that has any number of dimensions. For example, it can handle simple 1-dimensional rows or columns, more complex 2-dimensional  \n",
    ">  matrices, or even arrays with more dimensions. The cool thing about this NDArray class is that it can work with different backends.  \n",
    "> So, you could use it with Numpy, or a CPU backend, or even a GPU backend. It's a versatile tool for handling multi-dimensional data.  "
   ]
  },
  {
   "cell_type": "code",
   "execution_count": null,
   "id": "4752b256-9fde-45a7-b10d-782c201e91d7",
   "metadata": {},
   "outputs": [],
   "source": [
    "#| default_exp ndarray"
   ]
  },
  {
   "cell_type": "code",
   "execution_count": null,
   "id": "b3567a0c-c363-4727-8732-29be65312358",
   "metadata": {},
   "outputs": [],
   "source": [
    "#| export\n",
    "import math\n",
    "import numpy as np\n",
    "from minima import ndarray_backend_numpy\n",
    "# from . import ndarray_backend_cpu"
   ]
  },
  {
   "cell_type": "code",
   "execution_count": null,
   "id": "ca5a2384-b1d9-4271-a0a1-624b133dd0a9",
   "metadata": {},
   "outputs": [],
   "source": [
    "import nbdev; nbdev.nbdev_export()"
   ]
  },
  {
   "cell_type": "code",
   "execution_count": null,
   "id": "6ef724a8-7513-487b-a173-f50b43f1cd40",
   "metadata": {},
   "outputs": [],
   "source": []
  }
 ],
 "metadata": {
  "kernelspec": {
   "display_name": "python3",
   "language": "python",
   "name": "python3"
  }
 },
 "nbformat": 4,
 "nbformat_minor": 5
}
