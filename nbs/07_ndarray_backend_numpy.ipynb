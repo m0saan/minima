{
 "cells": [
  {
   "attachments": {},
   "cell_type": "markdown",
   "id": "13accd69-6638-4971-a503-f3a836fffd5f",
   "metadata": {},
   "source": [
    "# ndarray_backend_numpy\n",
    "\n",
    "> NDArray numpy backend"
   ]
  },
  {
   "cell_type": "code",
   "execution_count": null,
   "id": "e05b2970-8e3a-465c-bc22-27a1e9a320dd",
   "metadata": {},
   "outputs": [],
   "source": [
    "#| default_exp ndarray_backend_numpy"
   ]
  },
  {
   "cell_type": "code",
   "execution_count": null,
   "id": "5b1b6e5b-68f1-46f6-820b-c52b74a502e1",
   "metadata": {},
   "outputs": [],
   "source": [
    "#| export\n",
    "import numpy as np"
   ]
  },
  {
   "cell_type": "code",
   "execution_count": null,
   "id": "d2e045dd-3f38-42aa-a77b-ff5de7d2265c",
   "metadata": {},
   "outputs": [],
   "source": [
    "#| export\n",
    "__device_name__ = \"numpy\"\n",
    "_datatype = np.float32\n",
    "_datetype_size = np.dtype(_datatype).itemsize"
   ]
  },
  {
   "cell_type": "code",
   "execution_count": null,
   "id": "2d8d0bcc-f80d-4119-acd5-e0e4ebf7758a",
   "metadata": {},
   "outputs": [],
   "source": [
    "#| export\n",
    "\n",
    "class Device:\n",
    "    \"\"\"Baseclass of all device\"\"\"\n",
    "\n",
    "\n",
    "class CPUDevice(Device):\n",
    "    \"\"\"Represents data that sits in CPU\"\"\"\n",
    "\n",
    "    def __repr__(self):\n",
    "        return \"needle.cpu()\"\n",
    "\n",
    "    def __hash__(self):\n",
    "        return self.__repr__().__hash__()\n",
    "\n",
    "    def __eq__(self, other):\n",
    "        return isinstance(other, CPUDevice)\n",
    "\n",
    "    def enabled(self):\n",
    "        return True\n",
    "\n",
    "    def randn(self, *shape, dtype=\"float32\"):\n",
    "        return np.random.randn(*shape).astype(dtype)\n",
    "\n",
    "    def rand(self, *shape, dtype=\"float32\"):\n",
    "        return np.random.rand(*shape).astype(dtype)\n",
    "\n",
    "    def one_hot(self, n, i, dtype=\"float32\"):\n",
    "        return np.eye(n, dtype=dtype)\n",
    "\n",
    "    def empty(self, shape, dtype=\"float32\"):\n",
    "        return np.empty(shape, dtype=dtype)\n",
    "\n",
    "    def full(self, shape, fill_value, dtype=\"float32\"):\n",
    "        return np.full(shape, fill_value, dtype=dtype)\n",
    "\n",
    "\n",
    "def cpu():\n",
    "    \"\"\"Return cpu device\"\"\"\n",
    "    return CPUDevice()\n",
    "\n",
    "\n",
    "def default_device():\n",
    "    return cpu()\n",
    "\n",
    "\n",
    "def all_devices():\n",
    "    \"\"\"return a list of all available devices\"\"\"\n",
    "    return [cpu()]"
   ]
  },
  {
   "cell_type": "code",
   "execution_count": null,
   "id": "1e03fc9c-4e88-430d-a9b1-820526d6811d",
   "metadata": {},
   "outputs": [],
   "source": [
    "#| export\n",
    "class Array:\n",
    "    def __init__(self, size):\n",
    "        self.array = np.empty(size, dtype=np.float32)\n",
    "\n",
    "    def  __repr__(self):\n",
    "        return self.array.__repr__()\n",
    "\n",
    "    @property\n",
    "    def size(self):\n",
    "        return self.array.size"
   ]
  },
  {
   "cell_type": "markdown",
   "id": "cf40cb77-f9ae-4c8a-99b3-7ca1cf81259a",
   "metadata": {},
   "source": [
    "### to_numpy"
   ]
  },
  {
   "cell_type": "code",
   "execution_count": null,
   "id": "302a4b9e-3d07-48aa-8a34-b9f2e0815b55",
   "metadata": {},
   "outputs": [],
   "source": [
    "#| export\n",
    "def to_numpy(a, shape, strides, offset):\n",
    "    \"\"\"\n",
    "    Converts a contiguous 1D array into an N-dimensional array using numpy stride tricks.\n",
    "\n",
    "    This function creates a 'view' of a given 1D array as an N-dimensional array \n",
    "    with the specified shape and strides, starting from the offset index.\n",
    "    \n",
    "    Parameters\n",
    "    ----------\n",
    "    a : numpy.ndarray\n",
    "        Input 1D array which should be converted.\n",
    "    shape : tuple of ints\n",
    "        The desired shape of the output array.\n",
    "    strides : tuple of ints\n",
    "        The number of bytes to step in each dimension when traversing the array.\n",
    "    offset : int\n",
    "        The index from which the new 'view' of the array should start.\n",
    "\n",
    "    Returns\n",
    "    -------\n",
    "    numpy.ndarray\n",
    "        N-dimensional array 'view' of the input 1D array.\n",
    "\n",
    "    Examples\n",
    "    --------\n",
    "    >>> import numpy as np\n",
    "    >>> _datetype_size = np.array([1]).dtype.itemsize\n",
    "    >>> array_1D = np.array([1, 2, 3, 4, 5, 6])\n",
    "    >>> to_numpy(array_1D, (2, 3), (3, 1), 0)\n",
    "    array([[1, 2, 3],\n",
    "           [4, 5, 6]])\n",
    "    \"\"\"\n",
    "    return np.lib.stride_tricks.as_strided(\n",
    "        a.array[offset:], shape, tuple([s * _datetype_size for s in strides])\n",
    "    )\n"
   ]
  },
  {
   "cell_type": "code",
   "execution_count": null,
   "id": "9dc2e032-59c0-4d98-9122-a6ef0fcdfc54",
   "metadata": {},
   "outputs": [
    {
     "data": {
      "text/plain": [
       "array([1.2611686e-44, 2.1250000e+00,           nan, 1.9999999e+00,\n",
       "       1.8216880e-44, 1.8750000e+00], dtype=float32)"
      ]
     },
     "execution_count": null,
     "metadata": {},
     "output_type": "execute_result"
    }
   ],
   "source": [
    "array_1D = Array(6)\n",
    "array_1D"
   ]
  },
  {
   "cell_type": "code",
   "execution_count": null,
   "id": "91dd075c-64af-4b71-9179-872b657bfef0",
   "metadata": {},
   "outputs": [
    {
     "data": {
      "text/plain": [
       "array([[1.2611686e-44, 2.1250000e+00,           nan],\n",
       "       [1.9999999e+00, 1.8216880e-44, 1.8750000e+00]], dtype=float32)"
      ]
     },
     "execution_count": null,
     "metadata": {},
     "output_type": "execute_result"
    }
   ],
   "source": [
    "np_arr = to_numpy(array_1D, (2, 3), (3, 1), 0)\n",
    "np_arr"
   ]
  },
  {
   "cell_type": "markdown",
   "id": "238ab3ad-b7cf-410a-8481-01c11b8e6100",
   "metadata": {},
   "source": [
    "### from_numpy"
   ]
  },
  {
   "cell_type": "code",
   "execution_count": null,
   "id": "12dc3212-1c67-4220-b9e3-bf0252b62508",
   "metadata": {},
   "outputs": [],
   "source": [
    "#| export\n",
    "def from_numpy(a: np.ndarray, out) -> None:\n",
    "    \"\"\"\n",
    "    Assigns a flattened version of the input N-dimensional array to another array.\n",
    "\n",
    "    This function takes an input N-dimensional numpy array, flattens it, \n",
    "    and assigns the result to the specified output array.\n",
    "\n",
    "    Parameters\n",
    "    ----------\n",
    "    a : numpy.ndarray\n",
    "        The input array to be flattened.\n",
    "    out : object\n",
    "        The output object. Its 'array' attribute should be an array-like \n",
    "        object that will receive the flattened input array.\n",
    "\n",
    "    Returns\n",
    "    -------\n",
    "    None\n",
    "\n",
    "    Examples\n",
    "    --------\n",
    "    >>> import numpy as np\n",
    "    >>> class Container:\n",
    "    ...     def __init__(self, array):\n",
    "    ...         self.array = array\n",
    "    >>> array_nd = np.array([[1, 2, 3], [4, 5, 6]])\n",
    "    >>> out = Container(np.array([0, 0, 0, 0, 0, 0]))\n",
    "    >>> from_numpy(array_nd, out)\n",
    "    >>> print(out.array)\n",
    "    [1 2 3 4 5 6]\n",
    "    \"\"\"\n",
    "    \n",
    "    out.array[:] = a.flatten()\n"
   ]
  },
  {
   "cell_type": "code",
   "execution_count": null,
   "id": "3856fbf3-4a7a-4c5c-b137-aa34ff7af5ea",
   "metadata": {},
   "outputs": [
    {
     "data": {
      "text/plain": [
       "array([[1, 2, 3],\n",
       "       [4, 5, 6]])"
      ]
     },
     "execution_count": null,
     "metadata": {},
     "output_type": "execute_result"
    }
   ],
   "source": [
    "array_nd = np.array([[1, 2, 3], [4, 5, 6]])\n",
    "array_nd"
   ]
  },
  {
   "cell_type": "code",
   "execution_count": null,
   "id": "8b6cfa5f-e4c5-497f-a713-4e1dd992eb7a",
   "metadata": {},
   "outputs": [
    {
     "data": {
      "text/plain": [
       "array([1, 2, 3, 4, 5, 6])"
      ]
     },
     "execution_count": null,
     "metadata": {},
     "output_type": "execute_result"
    }
   ],
   "source": [
    "array_nd.flatten()"
   ]
  },
  {
   "cell_type": "code",
   "execution_count": null,
   "id": "29996708-c3e6-4503-b037-6174100894ad",
   "metadata": {},
   "outputs": [
    {
     "data": {
      "text/plain": [
       "array([1., 2., 3., 4., 5., 6.], dtype=float32)"
      ]
     },
     "execution_count": null,
     "metadata": {},
     "output_type": "execute_result"
    }
   ],
   "source": [
    "out = Array(6)\n",
    "out.array[:] = array_nd.flatten()\n",
    "out"
   ]
  },
  {
   "cell_type": "code",
   "execution_count": null,
   "id": "c467b2a2-af3d-4728-9054-6a9409aca43b",
   "metadata": {},
   "outputs": [
    {
     "data": {
      "text/plain": [
       "array([1., 2., 3., 4., 5., 6.], dtype=float32)"
      ]
     },
     "execution_count": null,
     "metadata": {},
     "output_type": "execute_result"
    }
   ],
   "source": [
    "from_numpy(array_nd, out)\n",
    "out.array"
   ]
  },
  {
   "cell_type": "markdown",
   "id": "ff133a2e-99bd-4041-84bb-5d711dea5570",
   "metadata": {},
   "source": [
    "### fill"
   ]
  },
  {
   "cell_type": "code",
   "execution_count": null,
   "id": "1a9e342c-7f25-49fe-ae9d-cae9ccd81b8c",
   "metadata": {},
   "outputs": [],
   "source": [
    "#| export\n",
    "def fill(out: Array, val) -> None:\n",
    "    \"\"\"\n",
    "    Fills an Array object with a specific value.\n",
    "\n",
    "    This function replaces all the elements of the underlying numpy array of the `out` Array \n",
    "    object with the specified value.\n",
    "\n",
    "    Parameters\n",
    "    ----------\n",
    "    out : Array\n",
    "        The Array object whose underlying numpy array is to be filled with the specified value.\n",
    "    val : scalar\n",
    "        The value to fill the Array with.\n",
    "\n",
    "    Returns\n",
    "    -------\n",
    "    None\n",
    "\n",
    "    Examples\n",
    "    --------\n",
    "    >>> out = Array(6)\n",
    "    >>> fill(out, 0)\n",
    "    >>> print(out)\n",
    "    array([0., 0., 0., 0., 0., 0.], dtype=float32)\n",
    "    \"\"\"\n",
    "    out.array.fill(val)\n"
   ]
  },
  {
   "cell_type": "markdown",
   "id": "f6582db0-527e-4219-85b9-06b8d78d6972",
   "metadata": {},
   "source": [
    "### compact"
   ]
  },
  {
   "cell_type": "code",
   "execution_count": null,
   "id": "d2d95859-3c3f-47ad-8923-0b1b4f8b47ae",
   "metadata": {},
   "outputs": [],
   "source": [
    "#| export\n",
    "def compact(a, out: Array, shape, strides, offset):\n",
    "    \"\"\"\n",
    "    Transforms a 1D array into an N-dimensional array, flattens it, and assigns it to an Array object.\n",
    "\n",
    "    This function uses the `to_numpy` function to create an N-dimensional view of \n",
    "    the input array `a` with the specified shape and strides, starting from the offset index.\n",
    "    The result is then flattened and assigned to the underlying numpy array of the `out` Array object.\n",
    "\n",
    "    Parameters\n",
    "    ----------\n",
    "    a : numpy.ndarray\n",
    "        The input 1D array to be transformed.\n",
    "    out : Array\n",
    "        The Array object whose underlying numpy array is to be assigned the flattened N-dimensional array.\n",
    "    shape : tuple of ints\n",
    "        The desired shape of the N-dimensional array.\n",
    "    strides : tuple of ints\n",
    "        The number of bytes to step in each dimension when traversing the array.\n",
    "    offset : int\n",
    "        The index from which the N-dimensional view of the array should start.\n",
    "\n",
    "    Returns\n",
    "    -------\n",
    "    None\n",
    "\n",
    "    Examples\n",
    "    --------\n",
    "    >>> import numpy as np\n",
    "    >>> _datetype_size = np.array([1]).dtype.itemsize\n",
    "    >>> array_1D = np.array([1, 2, 3, 4, 5, 6])\n",
    "    >>> out = Array(6)\n",
    "    >>> compact(array_1D, out, (2, 3), (3, 1), 0)\n",
    "    >>> print(out)\n",
    "    array([1., 2., 3., 4., 5., 6.], dtype=float32)\n",
    "    \"\"\"\n",
    "    \n",
    "    out.array[:] = to_numpy(a, shape, strides, offset).flatten()"
   ]
  },
  {
   "cell_type": "markdown",
   "id": "b8d3759a-8ecc-412f-9af3-e04a867b5018",
   "metadata": {},
   "source": [
    "### ewise_setitem"
   ]
  },
  {
   "cell_type": "code",
   "execution_count": null,
   "id": "1d306f60-aff0-4268-8b5e-8c89cf0b578f",
   "metadata": {},
   "outputs": [],
   "source": [
    "#| export\n",
    "def ewise_setitem(a: Array, out: Array, shape, strides, offset):\n",
    "    \"\"\"\n",
    "    Modifies a section of an Array object to be equivalent to another reshaped array, on an element-wise basis.\n",
    "\n",
    "    This function uses the `to_numpy` function to create a view of a section of the underlying numpy \n",
    "    array of the `out` Array object, determined by `shape`, `strides`, and `offset`. \n",
    "    It then assigns the reshaped `a.array` to this section, performing the operation element-wise.\n",
    "\n",
    "    Parameters\n",
    "    ----------\n",
    "    a : Array\n",
    "        The Array object whose reshaped underlying numpy array is to be assigned.\n",
    "    out : Array\n",
    "        The Array object whose underlying numpy array is to be modified.\n",
    "    shape : tuple of ints\n",
    "        The shape to reshape `a.array` to, and the shape of the section in `out.array`.\n",
    "    strides : tuple of ints\n",
    "        The number of bytes to step in each dimension when traversing the `out` array.\n",
    "    offset : int\n",
    "        The index from which the view of the `out` array should start.\n",
    "\n",
    "    Returns\n",
    "    -------\n",
    "    None\n",
    "\n",
    "    Examples\n",
    "    --------\n",
    "    >>> import numpy as np\n",
    "    >>> _datetype_size = np.array([1]).dtype.itemsize\n",
    "    >>> a = Array(6)\n",
    "    >>> a.array[:] = np.array([1, 2, 3, 4, 5, 6])\n",
    "    >>> out = Array(9)\n",
    "    >>> out.array[:] = np.array([0, 0, 0, 0, 0, 0, 0, 0, 0])\n",
    "    >>> ewise_setitem(a, out, (2, 3), (3, 1), 0)\n",
    "    >>> print(out)\n",
    "    array([1., 2., 3., 4., 5., 6., 0., 0., 0.], dtype=float32)\n",
    "    \"\"\"\n",
    "    \n",
    "    to_numpy(out, shape, strides, offset)[:] = a.array.reshape(shape)"
   ]
  },
  {
   "cell_type": "code",
   "execution_count": null,
   "id": "da630128-d63f-4cfd-bee0-38be47120b4b",
   "metadata": {},
   "outputs": [
    {
     "data": {
      "text/plain": [
       "array([1., 2., 3., 4., 5., 6.], dtype=float32)"
      ]
     },
     "execution_count": null,
     "metadata": {},
     "output_type": "execute_result"
    }
   ],
   "source": [
    "shape = (2, 3)\n",
    "a = Array(6)\n",
    "a.array[:] = np.array([1, 2, 3, 4, 5, 6])\n",
    "a"
   ]
  },
  {
   "cell_type": "code",
   "execution_count": null,
   "id": "4fc4e3e9-3d58-4280-a36b-36de2d6b8e80",
   "metadata": {},
   "outputs": [
    {
     "data": {
      "text/plain": [
       "array([0., 0., 0., 0., 0., 0., 0., 0., 0.], dtype=float32)"
      ]
     },
     "execution_count": null,
     "metadata": {},
     "output_type": "execute_result"
    }
   ],
   "source": [
    "out = Array(9)\n",
    "out.array[:] = np.array([0, 0, 0, 0, 0, 0, 0, 0, 0])\n",
    "out"
   ]
  },
  {
   "cell_type": "code",
   "execution_count": null,
   "id": "ca1c4d2e-8a97-4a46-ab29-56913a7d3c14",
   "metadata": {},
   "outputs": [
    {
     "data": {
      "text/plain": [
       "array([[1., 2., 3.],\n",
       "       [4., 5., 6.]], dtype=float32)"
      ]
     },
     "execution_count": null,
     "metadata": {},
     "output_type": "execute_result"
    }
   ],
   "source": [
    "a.array.reshape(shape)"
   ]
  },
  {
   "cell_type": "code",
   "execution_count": null,
   "id": "fd62e08c-6aa4-43e0-bf8d-08a734294630",
   "metadata": {},
   "outputs": [
    {
     "data": {
      "text/plain": [
       "array([[0., 0., 0.],\n",
       "       [0., 0., 0.]], dtype=float32)"
      ]
     },
     "execution_count": null,
     "metadata": {},
     "output_type": "execute_result"
    }
   ],
   "source": [
    "to_numpy(out, shape, strides=(3, 1), offset=0)"
   ]
  },
  {
   "cell_type": "code",
   "execution_count": null,
   "id": "4ec0d3bb-8e16-4669-ac64-f8fc548d764f",
   "metadata": {},
   "outputs": [
    {
     "data": {
      "text/plain": [
       "array([[1., 2., 3.],\n",
       "       [4., 5., 6.]], dtype=float32)"
      ]
     },
     "execution_count": null,
     "metadata": {},
     "output_type": "execute_result"
    }
   ],
   "source": [
    "res = to_numpy(out, shape, strides=(3, 1), offset=0)[:] = a.array.reshape(shape)\n",
    "res"
   ]
  },
  {
   "cell_type": "code",
   "execution_count": null,
   "id": "c4d43201-0e05-4870-bf82-8f2a72cd0cd6",
   "metadata": {},
   "outputs": [
    {
     "data": {
      "text/plain": [
       "array([1., 2., 3., 4., 5., 6., 0., 0., 0.], dtype=float32)"
      ]
     },
     "execution_count": null,
     "metadata": {},
     "output_type": "execute_result"
    }
   ],
   "source": [
    "ewise_setitem(a, out, (2, 3), (3, 1), 0)\n",
    "out"
   ]
  },
  {
   "cell_type": "markdown",
   "id": "129567c4-41e1-4151-b7ae-b36b273f04a7",
   "metadata": {},
   "source": [
    "### scalar_setitem"
   ]
  },
  {
   "cell_type": "code",
   "execution_count": null,
   "id": "1626a108-ffe6-45b0-bfe6-9cee9e32ebd4",
   "metadata": {},
   "outputs": [],
   "source": [
    "#| export\n",
    "def scalar_setitem(val, out: Array, shape, strides, offset):\n",
    "    \"\"\"\n",
    "    Fills a section of an Array object with a specific scalar value.\n",
    "\n",
    "    This function uses the `to_numpy` function to create a view of a section of the underlying numpy \n",
    "    array of the `out` Array object, determined by `shape`, `strides`, and `offset`. \n",
    "    It then assigns the scalar value `val` to this section.\n",
    "\n",
    "    Parameters\n",
    "    ----------\n",
    "    val : scalar\n",
    "        The scalar value to be assigned to the section of `out.array`.\n",
    "    out : Array\n",
    "        The Array object whose underlying numpy array is to be modified.\n",
    "    shape : tuple of ints\n",
    "        The shape of the section in `out.array`.\n",
    "    strides : tuple of ints\n",
    "        The number of bytes to step in each dimension when traversing the `out` array.\n",
    "    offset : int\n",
    "        The index from which the view of the `out` array should start.\n",
    "\n",
    "    Returns\n",
    "    -------\n",
    "    None\n",
    "\n",
    "    Examples\n",
    "    --------\n",
    "    >>> import numpy as np\n",
    "    >>> _datetype_size = np.array([1]).dtype.itemsize\n",
    "    >>> out = Array(9)\n",
    "    >>> out.array[:] = np.array([1, 2, 3, 4, 5, 6, 7, 8, 9])\n",
    "    >>> scalar_setitem(0, out, (2, 3), (3, 1), 0)\n",
    "    >>> print(out)\n",
    "    array([0., 0., 0., 0., 0., 0., 7., 8., 9.], dtype=float32)\n",
    "    \"\"\"\n",
    "    \n",
    "    to_numpy(out, shape, strides, offset)[:] = val\n"
   ]
  },
  {
   "cell_type": "markdown",
   "id": "cf1e1925-1337-4d16-8728-4ce6c78d5b61",
   "metadata": {},
   "source": [
    "### ewise_add"
   ]
  },
  {
   "cell_type": "code",
   "execution_count": null,
   "id": "6b8f5028-5c9f-4907-ad28-7abe8b04954f",
   "metadata": {},
   "outputs": [],
   "source": [
    "#| export\n",
    "def ewise_add(a: Array, b: Array, out: Array):\n",
    "    \"\"\"\n",
    "    Performs an element-wise addition of two Array objects and assigns the result to a third Array object.\n",
    "\n",
    "    This function adds the underlying numpy arrays of `a` and `b` on an element-wise basis, \n",
    "    and assigns the result to the underlying numpy array of `out`.\n",
    "\n",
    "    Parameters\n",
    "    ----------\n",
    "    a, b : Array\n",
    "        The Array objects to be added.\n",
    "    out : Array\n",
    "        The Array object whose underlying numpy array is to be assigned the result.\n",
    "\n",
    "    Returns\n",
    "    -------\n",
    "    None\n",
    "\n",
    "    Examples\n",
    "    --------\n",
    "    >>> a = Array(3)\n",
    "    >>> a.array[:] = np.array([1, 2, 3])\n",
    "    >>> b = Array(3)\n",
    "    >>> b.array[:] = np.array([4, 5, 6])\n",
    "    >>> out = Array(3)\n",
    "    >>> ewise_add(a, b, out)\n",
    "    >>> print(out)\n",
    "    array([5., 7., 9.], dtype=float32)\n",
    "    \"\"\"\n",
    "    out.array[:] = a.array + b.array\n"
   ]
  },
  {
   "cell_type": "markdown",
   "id": "7f499dcf-5f12-439b-83e4-1d1377babec6",
   "metadata": {},
   "source": [
    "### scalar_add"
   ]
  },
  {
   "cell_type": "code",
   "execution_count": null,
   "id": "0469b03b-1f85-4371-8dc1-560f1b55c708",
   "metadata": {},
   "outputs": [],
   "source": [
    "#| export\n",
    "def scalar_add(a: Array, val, out: Array):\n",
    "    \"\"\"\n",
    "    Adds a scalar value to an Array object and assigns the result to another Array object.\n",
    "\n",
    "    This function adds a scalar value `val` to the underlying numpy array of `a`, \n",
    "    and assigns the result to the underlying numpy array of `out`.\n",
    "\n",
    "    Parameters\n",
    "    ----------\n",
    "    a : Array\n",
    "        The Array object to be added to the scalar value.\n",
    "    val : scalar\n",
    "        The scalar value to be added to `a.array`.\n",
    "    out : Array\n",
    "        The Array object whose underlying numpy array is to be assigned the result.\n",
    "\n",
    "    Returns\n",
    "    -------\n",
    "    None\n",
    "\n",
    "    Examples\n",
    "    --------\n",
    "    >>> a = Array(3)\n",
    "    >>> a.array[:] = np.array([1, 2, 3])\n",
    "    >>> out = Array(3)\n",
    "    >>> scalar_add(a, 5, out)\n",
    "    >>> print(out)\n",
    "    array([6., 7., 8.], dtype=float32)\n",
    "    \"\"\"\n",
    "    out.array[:] = a.array + val\n"
   ]
  },
  {
   "cell_type": "markdown",
   "id": "7f6b1968-9bc9-44fa-9c8d-e37e487d6235",
   "metadata": {},
   "source": [
    "### ewise_mul"
   ]
  },
  {
   "cell_type": "code",
   "execution_count": null,
   "id": "e27e2580-352e-4682-aaf3-50375ec4f4f0",
   "metadata": {},
   "outputs": [],
   "source": [
    "#| export\n",
    "def ewise_mul(a: Array, b: Array, out: Array):\n",
    "    \"\"\"\n",
    "    Performs an element-wise multiplication of two Array objects and assigns the result to a third Array object.\n",
    "\n",
    "    This function multiplies the underlying numpy arrays of `a` and `b` on an element-wise basis, \n",
    "    and assigns the result to the underlying numpy array of `out`.\n",
    "\n",
    "    Parameters\n",
    "    ----------\n",
    "    a, b : Array\n",
    "        The Array objects to be multiplied.\n",
    "    out : Array\n",
    "        The Array object whose underlying numpy array is to be assigned the result.\n",
    "\n",
    "    Returns\n",
    "    -------\n",
    "    None\n",
    "\n",
    "    Examples\n",
    "    --------\n",
    "    >>> a = Array(3)\n",
    "    >>> a.array[:] = np.array([1, 2, 3])\n",
    "    >>> b = Array(3)\n",
    "    >>> b.array[:] = np.array([4, 5, 6])\n",
    "    >>> out = Array(3)\n",
    "    >>> ewise_mul(a, b, out)\n",
    "    >>> print(out)\n",
    "    array([4., 10., 18.], dtype=float32)\n",
    "    \"\"\"\n",
    "    out.array[:] = a.array * b.array\n"
   ]
  },
  {
   "cell_type": "markdown",
   "id": "4d314ca5-4500-4231-84b3-52c12ef6a4cc",
   "metadata": {},
   "source": [
    "### scalar_mul"
   ]
  },
  {
   "cell_type": "code",
   "execution_count": null,
   "id": "97602f57-c30d-43f8-a0c7-016fa78b43e0",
   "metadata": {},
   "outputs": [],
   "source": [
    "#| export\n",
    "def scalar_mul(a: Array, val, out: Array):\n",
    "    \"\"\"\n",
    "    Multiplies an Array object by a scalar value and assigns the result to another Array object.\n",
    "\n",
    "    This function multiplies a scalar value `val` with the underlying numpy array of `a`, \n",
    "    and assigns the result to the underlying numpy array of `out`.\n",
    "\n",
    "    Parameters\n",
    "    ----------\n",
    "    a : Array\n",
    "        The Array object to be multiplied by the scalar value.\n",
    "    val : scalar\n",
    "        The scalar value to be multiplied by `a.array`.\n",
    "    out : Array\n",
    "        The Array object whose underlying numpy array is to be assigned the result.\n",
    "\n",
    "    Returns\n",
    "    -------\n",
    "    None\n",
    "\n",
    "    Examples\n",
    "    --------\n",
    "    >>> a = Array(3)\n",
    "    >>> a.array[:] = np.array([1, 2, 3])\n",
    "    >>> out = Array(3)\n",
    "    >>> scalar_mul(a, 5, out)\n",
    "    >>> print(out)\n",
    "    array([5., 10., 15.], dtype=float32)\n",
    "    \"\"\"\n",
    "    out.array[:] = a.array * val\n"
   ]
  },
  {
   "cell_type": "markdown",
   "id": "d03b2207-ebbd-4a9b-a25c-a0489994f60c",
   "metadata": {},
   "source": [
    "### ewise_div"
   ]
  },
  {
   "cell_type": "code",
   "execution_count": null,
   "id": "96a3ed2e-faf8-4038-93e4-a4c361040ec5",
   "metadata": {},
   "outputs": [],
   "source": [
    "#| export\n",
    "def ewise_div(a: Array, b: Array, out: Array):\n",
    "    \"\"\"\n",
    "    Performs an element-wise division of two Array objects and assigns the result to a third Array object.\n",
    "\n",
    "    This function divides the underlying numpy array of `a` by that of `b` on an element-wise basis, \n",
    "    and assigns the result to the underlying numpy array of `out`.\n",
    "\n",
    "    Parameters\n",
    "    ----------\n",
    "    a, b : Array\n",
    "        The Array objects to be divided.\n",
    "    out : Array\n",
    "        The Array object whose underlying numpy array is to be assigned the result.\n",
    "\n",
    "    Returns\n",
    "    -------\n",
    "    None\n",
    "\n",
    "    Examples\n",
    "    --------\n",
    "    >>> a = Array(3)\n",
    "    >>> a.array[:] = np.array([1, 2, 3])\n",
    "    >>> b = Array(3)\n",
    "    >>> b.array[:] = np.array([4, 5, 6])\n",
    "    >>> out = Array(3)\n",
    "    >>> ewise_div(a, b, out)\n",
    "    >>> print(out)\n",
    "    array([0.25, 0.4 , 0.5 ], dtype=float32)\n",
    "    \"\"\"\n",
    "    out.array[:] = a.array / b.array\n"
   ]
  },
  {
   "cell_type": "markdown",
   "id": "5018f496-0987-4059-a7ea-b7bfd9fdbca8",
   "metadata": {},
   "source": [
    "### scalar_div"
   ]
  },
  {
   "cell_type": "code",
   "execution_count": null,
   "id": "39034a42-1531-4cce-b592-93c1803504bf",
   "metadata": {},
   "outputs": [],
   "source": [
    "#| export\n",
    "def scalar_div(a: Array, val, out: Array):\n",
    "    \"\"\"\n",
    "    Divides an Array object by a scalar value and assigns the result to another Array object.\n",
    "\n",
    "    This function divides the underlying numpy array of `a` by a scalar value `val`, \n",
    "    and assigns the result to the underlying numpy array of `out`.\n",
    "\n",
    "    Parameters\n",
    "    ----------\n",
    "    a : Array\n",
    "        The Array object to be divided by the scalar value.\n",
    "    val : scalar\n",
    "        The scalar value by which `a.array` is to be divided.\n",
    "    out : Array\n",
    "        The Array object whose underlying numpy array is to be assigned the result.\n",
    "\n",
    "    Returns\n",
    "    -------\n",
    "    None\n",
    "\n",
    "    Examples\n",
    "    --------\n",
    "    >>> a = Array(3)\n",
    "    >>> a.array[:] = np.array([1, 2, 3])\n",
    "    >>> out = Array(3)\n",
    "    >>> scalar_div(a, 2, out)\n",
    "    >>> print(out)\n",
    "    array([0.5, 1., 1.5], dtype=float32)\n",
    "    \"\"\"\n",
    "    out.array[:] = a.array / val\n"
   ]
  },
  {
   "cell_type": "markdown",
   "id": "b87ecbff-c6f3-47f7-a9bb-ef6bba4e84b7",
   "metadata": {},
   "source": [
    "### scalar_power"
   ]
  },
  {
   "cell_type": "code",
   "execution_count": null,
   "id": "649d3135-2f4d-4655-8e82-5dcd20ae24a3",
   "metadata": {},
   "outputs": [],
   "source": [
    "#| export\n",
    "def scalar_power(a: Array, val, out: Array):\n",
    "    \"\"\"\n",
    "    Raises an Array object to the power of a scalar value and assigns the result to another Array object.\n",
    "\n",
    "    This function raises each element in the underlying numpy array of `a` to the power of a scalar value `val`, \n",
    "    and assigns the result to the underlying numpy array of `out`.\n",
    "\n",
    "    Parameters\n",
    "    ----------\n",
    "    a : Array\n",
    "        The Array object to be raised to the power of the scalar value.\n",
    "    val : scalar\n",
    "        The scalar value which is the exponent for `a.array`.\n",
    "    out : Array\n",
    "        The Array object whose underlying numpy array is to be assigned the result.\n",
    "\n",
    "    Returns\n",
    "    -------\n",
    "    None\n",
    "\n",
    "    Examples\n",
    "    --------\n",
    "    >>> a = Array(3)\n",
    "    >>> a.array[:] = np.array([1, 2, 3])\n",
    "    >>> out = Array(3)\n",
    "    >>> scalar_power(a, 2, out)\n",
    "    >>> print(out)\n",
    "    array([1., 4., 9.], dtype=float32)\n",
    "    \"\"\"\n",
    "    out.array[:] = a.array ** val\n"
   ]
  },
  {
   "cell_type": "markdown",
   "id": "b737fec2-84d2-497a-a31b-a6ba6efee08f",
   "metadata": {},
   "source": [
    "### ewise_maximum"
   ]
  },
  {
   "cell_type": "code",
   "execution_count": null,
   "id": "be06c602-c939-4840-ab49-8d5bb971bbf8",
   "metadata": {},
   "outputs": [],
   "source": [
    "#| export\n",
    "def ewise_maximum(a: Array, b: Array, out: Array):\n",
    "    \"\"\"\n",
    "    Computes the element-wise maximum of two Array objects and assigns the result to a third Array object.\n",
    "\n",
    "    This function compares the underlying numpy arrays of `a` and `b` on an element-wise basis, \n",
    "    and assigns the maximum value at each position to the underlying numpy array of `out`.\n",
    "\n",
    "    Parameters\n",
    "    ----------\n",
    "    a, b : Array\n",
    "        The Array objects whose maximum is to be computed.\n",
    "    out : Array\n",
    "        The Array object whose underlying numpy array is to be assigned the result.\n",
    "\n",
    "    Returns\n",
    "    -------\n",
    "    None\n",
    "\n",
    "    Examples\n",
    "    --------\n",
    "    >>> a = Array(3)\n",
    "    >>> a.array[:] = np.array([1, 4, 3])\n",
    "    >>> b = Array(3)\n",
    "    >>> b.array[:] = np.array([4, 2, 6])\n",
    "    >>> out = Array(3)\n",
    "    >>> ewise_maximum(a, b, out)\n",
    "    >>> print(out)\n",
    "    array([4., 4., 6.], dtype=float32)\n",
    "    \"\"\"\n",
    "    out.array[:] = np.maximum(a.array, b.array)\n"
   ]
  },
  {
   "cell_type": "markdown",
   "id": "65e6a06a-e2f8-4cde-8d2a-048906344e41",
   "metadata": {},
   "source": [
    "### scalar_maximum"
   ]
  },
  {
   "cell_type": "code",
   "execution_count": null,
   "id": "c4e26319-1b73-4447-ae32-5d6f36b0488e",
   "metadata": {},
   "outputs": [],
   "source": [
    "#| export\n",
    "def scalar_maximum(a: Array, val, out: Array):\n",
    "    \"\"\"\n",
    "    Computes the maximum of an Array object and a scalar value, and assigns the result to another Array object.\n",
    "\n",
    "    This function compares a scalar value `val` with the underlying numpy array of `a`, \n",
    "    and assigns the maximum value at each position to the underlying numpy array of `out`.\n",
    "\n",
    "    Parameters\n",
    "    ----------\n",
    "    a : Array\n",
    "        The Array object whose maximum with `val` is to be computed.\n",
    "    val : scalar\n",
    "        The scalar value to be compared with `a.array`.\n",
    "    out : Array\n",
    "        The Array object whose underlying numpy array is to be assigned the result.\n",
    "\n",
    "    Returns\n",
    "    -------\n",
    "    None\n",
    "\n",
    "    Examples\n",
    "    --------\n",
    "    >>> a = Array(3)\n",
    "    >>> a.array[:] = np.array([1, 2, 3])\n",
    "    >>> out = Array(3)\n",
    "    >>> scalar_maximum(a, 2, out)\n",
    "    >>> print(out)\n",
    "    array([2., 2., 3.], dtype=float32)\n",
    "    \"\"\"\n",
    "    out.array[:] = np.maximum(a.array, val)"
   ]
  },
  {
   "cell_type": "markdown",
   "id": "bca27aff-f361-417e-8349-87d8b31f87bc",
   "metadata": {},
   "source": [
    "### ewise_eq"
   ]
  },
  {
   "cell_type": "code",
   "execution_count": null,
   "id": "92a0cd2e-ad24-471b-86d7-094520907d26",
   "metadata": {},
   "outputs": [],
   "source": [
    "#| export\n",
    "def ewise_eq(a: Array, b: Array, out: Array):\n",
    "    \"\"\"\n",
    "    Performs an element-wise comparison for equality between two Array objects and assigns the result to a third Array object.\n",
    "\n",
    "    This function compares the underlying numpy arrays of `a` and `b` on an element-wise basis for equality, \n",
    "    and assigns the boolean result (converted to float32) to the underlying numpy array of `out`.\n",
    "\n",
    "    Parameters\n",
    "    ----------\n",
    "    a, b : Array\n",
    "        The Array objects to be compared.\n",
    "    out : Array\n",
    "        The Array object whose underlying numpy array is to be assigned the result.\n",
    "\n",
    "    Returns\n",
    "    -------\n",
    "    None\n",
    "\n",
    "    Examples\n",
    "    --------\n",
    "    >>> a = Array(3)\n",
    "    >>> a.array[:] = np.array([1, 2, 3])\n",
    "    >>> b = Array(3)\n",
    "    >>> b.array[:] = np.array([1, 2, 4])\n",
    "    >>> out = Array(3)\n",
    "    >>> ewise_eq(a, b, out)\n",
    "    >>> print(out)\n",
    "    array([1., 1., 0.], dtype=float32)\n",
    "    \"\"\"\n",
    "    out.array[:] = (a.array == b.array).astype(np.float32)\n"
   ]
  },
  {
   "cell_type": "markdown",
   "id": "8a3ac82c-0d2b-4d36-b397-ff7c76edcc02",
   "metadata": {},
   "source": [
    "### scalar_eq"
   ]
  },
  {
   "cell_type": "code",
   "execution_count": null,
   "id": "6a5194d8-0631-4f07-bdab-fba6b173e78b",
   "metadata": {},
   "outputs": [],
   "source": [
    "#| export\n",
    "def scalar_eq(a: Array, val, out: Array):\n",
    "    \"\"\"\n",
    "    Compares an Array object with a scalar value for equality and assigns the result to another Array object.\n",
    "\n",
    "    This function compares a scalar value `val` with the underlying numpy array of `a` for equality, \n",
    "    and assigns the boolean result (converted to float32) to the underlying numpy array of `out`.\n",
    "\n",
    "    Parameters\n",
    "    ----------\n",
    "    a : Array\n",
    "        The Array object to be compared with the scalar value.\n",
    "    val : scalar\n",
    "        The scalar value to be compared with `a.array`.\n",
    "    out : Array\n",
    "        The Array object whose underlying numpy array is to be assigned the result.\n",
    "\n",
    "    Returns\n",
    "    -------\n",
    "    None\n",
    "\n",
    "    Examples\n",
    "    --------\n",
    "    >>> a = Array(3)\n",
    "    >>> a.array[:] = np.array([1, 2, 3])\n",
    "    >>> out = Array(3)\n",
    "    >>> scalar_eq(a, 2, out)\n",
    "    >>> print(out)\n",
    "    array([0., 1., 0.], dtype=float32)\n",
    "    \"\"\"\n",
    "    out.array[:] = (a.array == val).astype(np.float32)\n"
   ]
  },
  {
   "cell_type": "markdown",
   "id": "a853c76f-6479-4e25-80b6-445d60d9839d",
   "metadata": {},
   "source": [
    "### ewise_ge"
   ]
  },
  {
   "cell_type": "code",
   "execution_count": null,
   "id": "10e2568c-7bf5-416e-91bc-8a07e1d80594",
   "metadata": {},
   "outputs": [],
   "source": [
    "#| export\n",
    "def ewise_ge(a: Array, b: Array, out: Array):\n",
    "    \"\"\"\n",
    "    Performs an element-wise comparison to check if elements of one Array object are greater than or equal to those of another Array object. The result is assigned to a third Array object.\n",
    "\n",
    "    This function compares the underlying numpy arrays of `a` and `b` on an element-wise basis to check if elements in `a` are greater than or equal to those in `b`. \n",
    "    The boolean result (converted to float32) is assigned to the underlying numpy array of `out`.\n",
    "\n",
    "    Parameters\n",
    "    ----------\n",
    "    a, b : Array\n",
    "        The Array objects to be compared.\n",
    "    out : Array\n",
    "        The Array object whose underlying numpy array is to be assigned the result.\n",
    "\n",
    "    Returns\n",
    "    -------\n",
    "    None\n",
    "\n",
    "    Examples\n",
    "    --------\n",
    "    >>> a = Array(3)\n",
    "    >>> a.array[:] = np.array([1, 2, 3])\n",
    "    >>> b = Array(3)\n",
    "    >>> b.array[:] = np.array([1, 2, 2])\n",
    "    >>> out = Array(3)\n",
    "    >>> ewise_ge(a, b, out)\n",
    "    >>> print(out)\n",
    "    array([1., 1., 1.], dtype=float32)\n",
    "    \"\"\"\n",
    "    out.array[:] = (a.array >= b.array).astype(np.float32)\n"
   ]
  },
  {
   "cell_type": "markdown",
   "id": "a6f28090-d0a9-4060-962e-67577ce8f373",
   "metadata": {},
   "source": [
    "### scalar_ge"
   ]
  },
  {
   "cell_type": "code",
   "execution_count": null,
   "id": "e2660225-d22f-4be7-b7fd-ece20669377e",
   "metadata": {},
   "outputs": [],
   "source": [
    "#| export\n",
    "def scalar_ge(a: Array, val, out: Array):\n",
    "    \"\"\"\n",
    "    Compares an Array object with a scalar value to check if elements in the Array object are greater than or equal to the scalar. The result is assigned to another Array object.\n",
    "\n",
    "    This function compares a scalar value `val` with the underlying numpy array of `a` to check if elements in `a` are greater than or equal to `val`. \n",
    "    The boolean result (converted to float32) is assigned to the underlying numpy array of `out`.\n",
    "\n",
    "    Parameters\n",
    "    ----------\n",
    "    a : Array\n",
    "        The Array object to be compared with the scalar value.\n",
    "    val : scalar\n",
    "        The scalar value to be compared with `a.array`.\n",
    "    out : Array\n",
    "        The Array object whose underlying numpy array is to be assigned the result.\n",
    "\n",
    "    Returns\n",
    "    -------\n",
    "    None\n",
    "\n",
    "    Examples\n",
    "    --------\n",
    "    >>> a = Array(3)\n",
    "    >>> a.array[:] = np.array([1, 2, 3])\n",
    "    >>> out = Array(3)\n",
    "    >>> scalar_ge(a, 2, out)\n",
    "    >>> print(out)\n",
    "    array([0., 1., 1.], dtype=float32)\n",
    "    \"\"\"\n",
    "    out.array[:] = (a.array >= val).astype(np.float32)\n"
   ]
  },
  {
   "cell_type": "markdown",
   "id": "6046ffad-52f0-4fbf-95b4-e8fb276466f8",
   "metadata": {},
   "source": [
    "### ewise_log"
   ]
  },
  {
   "cell_type": "code",
   "execution_count": null,
   "id": "ae621b38-bd3f-49a5-bf79-fc38558b940b",
   "metadata": {},
   "outputs": [],
   "source": [
    "#| export\n",
    "def ewise_log(a: Array, out: Array):\n",
    "    \"\"\"\n",
    "    Computes the natural logarithm of each element in an Array object and assigns the result to another Array object.\n",
    "\n",
    "    This function applies the natural logarithm (base e) to each element in the underlying numpy array of `a`, \n",
    "    and assigns the result to the underlying numpy array of `out`.\n",
    "\n",
    "    Parameters\n",
    "    ----------\n",
    "    a : Array\n",
    "        The Array object whose natural logarithm is to be computed.\n",
    "    out : Array\n",
    "        The Array object whose underlying numpy array is to be assigned the result.\n",
    "\n",
    "    Returns\n",
    "    -------\n",
    "    None\n",
    "\n",
    "    Examples\n",
    "    --------\n",
    "    >>> a = Array(3)\n",
    "    >>> a.array[:] = np.array([1, np.exp(1), np.exp(2)])\n",
    "    >>> out = Array(3)\n",
    "    >>> ewise_log(a, out)\n",
    "    >>> print(out)\n",
    "    array([0., 1., 2.], dtype=float32)\n",
    "    \"\"\"\n",
    "    out.array[:] = np.log(a.array)\n"
   ]
  },
  {
   "cell_type": "markdown",
   "id": "8102b27f-1c56-4cad-b39c-ff86e6c5eb10",
   "metadata": {},
   "source": [
    "### ewise_exp"
   ]
  },
  {
   "cell_type": "code",
   "execution_count": null,
   "id": "1d85c274-09a7-4cd9-a674-b00635537888",
   "metadata": {},
   "outputs": [],
   "source": [
    "#| export\n",
    "def ewise_exp(a: Array, out: Array):\n",
    "    \"\"\"\n",
    "    Computes the exponential of each element in an Array object and assigns the result to another Array object.\n",
    "\n",
    "    This function applies the exponential (base e) to each element in the underlying numpy array of `a`, \n",
    "    and assigns the result to the underlying numpy array of `out`.\n",
    "\n",
    "    Parameters\n",
    "    ----------\n",
    "    a : Array\n",
    "        The Array object whose exponential is to be computed.\n",
    "    out : Array\n",
    "        The Array object whose underlying numpy array is to be assigned the result.\n",
    "\n",
    "    Returns\n",
    "    -------\n",
    "    None\n",
    "\n",
    "    Examples\n",
    "    --------\n",
    "    >>> a = Array(3)\n",
    "    >>> a.array[:] = np.array([0, 1, 2])\n",
    "    >>> out = Array(3)\n",
    "    >>> ewise_exp(a, out)\n",
    "    >>> print(out)\n",
    "    array([1., 2.7182817, 7.389056], dtype=float32)\n",
    "    \"\"\"\n",
    "    out.array[:] = np.exp(a.array)\n"
   ]
  },
  {
   "cell_type": "code",
   "execution_count": null,
   "id": "c0360322-8e82-43d1-a861-4f695c62790e",
   "metadata": {},
   "outputs": [
    {
     "data": {
      "text/plain": [
       "array([[[ 0,  1,  2,  3],\n",
       "        [ 4,  5,  6,  7],\n",
       "        [ 8,  9, 10, 11]],\n",
       "\n",
       "       [[12, 13, 14, 15],\n",
       "        [16, 17, 18, 19],\n",
       "        [20, 21, 22, 23]]])"
      ]
     },
     "execution_count": null,
     "metadata": {},
     "output_type": "execute_result"
    }
   ],
   "source": [
    "x = np.arange(24).reshape(2,3,4)\n",
    "x"
   ]
  },
  {
   "cell_type": "code",
   "execution_count": null,
   "id": "4e6ca067-45b1-41fb-9c27-3c489881b861",
   "metadata": {},
   "outputs": [
    {
     "data": {
      "text/plain": [
       "array([[[0., 0., 0., 0.],\n",
       "        [0., 0., 0., 0.],\n",
       "        [0., 0., 0., 0.]],\n",
       "\n",
       "       [[0., 0., 0., 0.],\n",
       "        [0., 0., 0., 0.],\n",
       "        [0., 0., 0., 0.]]])"
      ]
     },
     "execution_count": null,
     "metadata": {},
     "output_type": "execute_result"
    }
   ],
   "source": [
    "y = np.empty((2,3,4))\n",
    "y"
   ]
  },
  {
   "cell_type": "code",
   "execution_count": null,
   "id": "5232fb8f-97d8-4dd6-b41b-6fda4fe69c01",
   "metadata": {},
   "outputs": [
    {
     "data": {
      "text/plain": [
       "array([[[1.00000000e+00, 2.71828183e+00, 7.38905610e+00, 2.00855369e+01],\n",
       "        [5.45981500e+01, 1.48413159e+02, 4.03428793e+02, 1.09663316e+03],\n",
       "        [2.98095799e+03, 8.10308393e+03, 2.20264658e+04, 5.98741417e+04]],\n",
       "\n",
       "       [[1.62754791e+05, 4.42413392e+05, 1.20260428e+06, 3.26901737e+06],\n",
       "        [8.88611052e+06, 2.41549528e+07, 6.56599691e+07, 1.78482301e+08],\n",
       "        [4.85165195e+08, 1.31881573e+09, 3.58491285e+09, 9.74480345e+09]]])"
      ]
     },
     "execution_count": null,
     "metadata": {},
     "output_type": "execute_result"
    }
   ],
   "source": [
    "y[:] = np.exp(x)\n",
    "y"
   ]
  },
  {
   "cell_type": "code",
   "execution_count": null,
   "id": "f0b84ef6-7d55-4517-900a-6dd6d6346d45",
   "metadata": {},
   "outputs": [
    {
     "data": {
      "text/plain": [
       "array([1.       , 2.7182817, 7.389056 ], dtype=float32)"
      ]
     },
     "execution_count": null,
     "metadata": {},
     "output_type": "execute_result"
    }
   ],
   "source": [
    "a = Array(3)\n",
    "a.array[:] = np.array([0, 1, 2])\n",
    "out = Array(3)\n",
    "ewise_exp(a, out)\n",
    "out"
   ]
  },
  {
   "cell_type": "markdown",
   "id": "e90a8280-a779-43a9-9113-b6a6fcb09d4d",
   "metadata": {},
   "source": [
    "### ewise_tanh"
   ]
  },
  {
   "cell_type": "code",
   "execution_count": null,
   "id": "75439b6a-6bdf-49e5-8406-1111b8e3a52b",
   "metadata": {},
   "outputs": [],
   "source": [
    "#| export\n",
    "def ewise_tanh(a: Array, out: Array):\n",
    "    \"\"\"\n",
    "    Computes the hyperbolic tangent of each element in an Array object and assigns the result to another Array object.\n",
    "\n",
    "    This function applies the hyperbolic tangent function to each element in the underlying numpy array of `a`, \n",
    "    and assigns the result to the underlying numpy array of `out`.\n",
    "\n",
    "    Parameters\n",
    "    ----------\n",
    "    a : Array\n",
    "        The Array object whose hyperbolic tangent is to be computed.\n",
    "    out : Array\n",
    "        The Array object whose underlying numpy array is to be assigned the result.\n",
    "\n",
    "    Returns\n",
    "    -------\n",
    "    None\n",
    "\n",
    "    Examples\n",
    "    --------\n",
    "    >>> a = Array(3)\n",
    "    >>> a.array[:] = np.array([0, 0.5, 1])\n",
    "    >>> out = Array(3)\n",
    "    >>> ewise_tanh(a, out)\n",
    "    >>> print(out)\n",
    "    array([0.        , 0.46211717, 0.7615942 ], dtype=float32)\n",
    "    \"\"\"\n",
    "    out.array[:] = np.tanh(a.array)\n"
   ]
  },
  {
   "cell_type": "markdown",
   "id": "f8c372b4-48c6-412e-a6c8-d8921ea86282",
   "metadata": {},
   "source": [
    "### reduce_max"
   ]
  },
  {
   "cell_type": "code",
   "execution_count": null,
   "id": "449a7531-b400-4fc1-b7c2-104884ba0341",
   "metadata": {},
   "outputs": [
    {
     "data": {
      "text/plain": [
       "array([1, 2, 3, 4, 5, 6])"
      ]
     },
     "execution_count": null,
     "metadata": {},
     "output_type": "execute_result"
    }
   ],
   "source": [
    "x = np.array([1, 2, 3, 4, 5, 6])\n",
    "x"
   ]
  },
  {
   "cell_type": "code",
   "execution_count": null,
   "id": "a8b850dc-e777-4b8e-8fe5-777f5154e3ec",
   "metadata": {},
   "outputs": [
    {
     "data": {
      "text/plain": [
       "array([[1, 2, 3],\n",
       "       [4, 5, 6]])"
      ]
     },
     "execution_count": null,
     "metadata": {},
     "output_type": "execute_result"
    }
   ],
   "source": [
    "x[:].reshape(-1, 3)"
   ]
  },
  {
   "cell_type": "code",
   "execution_count": null,
   "id": "9378a255-ab4c-42a9-a34d-b8c1affe078f",
   "metadata": {},
   "outputs": [
    {
     "data": {
      "text/plain": [
       "array([3, 6])"
      ]
     },
     "execution_count": null,
     "metadata": {},
     "output_type": "execute_result"
    }
   ],
   "source": [
    "x[:].reshape(-1, 3).max(1)"
   ]
  },
  {
   "cell_type": "code",
   "execution_count": null,
   "id": "e4e50ce9-374e-4591-b905-d168b8cfcec3",
   "metadata": {},
   "outputs": [],
   "source": [
    "#| export\n",
    "def reduce_max(a: Array, out: Array, reduce_size: int):\n",
    "    \"\"\"\n",
    "    Computes the maximum of every `reduce_size` elements in an Array object and assigns the result to another Array object.\n",
    "\n",
    "    This function reshapes the underlying numpy array of `a` into a 2D array with `reduce_size` columns, \n",
    "    computes the maximum of every `reduce_size` elements (along the second axis), \n",
    "    and assigns the results to the underlying numpy array of `out`.\n",
    "\n",
    "    Parameters\n",
    "    ----------\n",
    "    a : Array\n",
    "        The Array object whose maximum of every `reduce_size` elements is to be computed.\n",
    "    out : Array\n",
    "        The Array object whose underlying numpy array is to be assigned the result.\n",
    "    reduce_size : int\n",
    "        The size of elements over which the maximum is to be computed.\n",
    "\n",
    "    Returns\n",
    "    -------\n",
    "    None\n",
    "\n",
    "    Examples\n",
    "    --------\n",
    "    >>> a = Array(6)\n",
    "    >>> a.array[:] = np.array([1, 2, 3, 4, 5, 6])\n",
    "    >>> out = Array(2)\n",
    "    >>> reduce_max(a, out, 3)\n",
    "    >>> print(out)\n",
    "    array([3., 6.], dtype=float32)\n",
    "    \"\"\"\n",
    "    out.array[:] = a.array[:].reshape(-1, reduce_size).max(axis=1)"
   ]
  },
  {
   "cell_type": "markdown",
   "id": "13c2bdb1-50e9-490c-b615-543f4f52d330",
   "metadata": {},
   "source": [
    "### reduce_sum"
   ]
  },
  {
   "cell_type": "code",
   "execution_count": null,
   "id": "055b221c-fa3a-4444-8132-953b5c706b57",
   "metadata": {},
   "outputs": [
    {
     "data": {
      "text/plain": [
       "array([ 6, 15])"
      ]
     },
     "execution_count": null,
     "metadata": {},
     "output_type": "execute_result"
    }
   ],
   "source": [
    "x.reshape(-1, 3).sum(1)"
   ]
  },
  {
   "cell_type": "code",
   "execution_count": null,
   "id": "42e4c885-1c16-4222-8c2c-e986ac0cdf41",
   "metadata": {},
   "outputs": [
    {
     "data": {
      "text/plain": [
       "array([5, 7, 9])"
      ]
     },
     "execution_count": null,
     "metadata": {},
     "output_type": "execute_result"
    }
   ],
   "source": [
    "x.reshape(-1, 3).sum(0)"
   ]
  },
  {
   "cell_type": "code",
   "execution_count": null,
   "id": "a86749f6-577a-4ab9-a1bd-70745717cf3c",
   "metadata": {},
   "outputs": [],
   "source": [
    "#| export\n",
    "def reduce_sum(a: Array, out: Array, reduce_size: int):\n",
    "    \"\"\"\n",
    "    Computes the sum of every `reduce_size` elements in an Array object and assigns the result to another Array object.\n",
    "\n",
    "    This function reshapes the underlying numpy array of `a` into a 2D array with `reduce_size` columns, \n",
    "    computes the sum of every `reduce_size` elements (along the second axis), \n",
    "    and assigns the results to the underlying numpy array of `out`.\n",
    "\n",
    "    Parameters\n",
    "    ----------\n",
    "    a : Array\n",
    "        The Array object whose sum of every `reduce_size` elements is to be computed.\n",
    "    out : Array\n",
    "        The Array object whose underlying numpy array is to be assigned the result.\n",
    "    reduce_size : int\n",
    "        The size of elements over which the sum is to be computed.\n",
    "\n",
    "    Returns\n",
    "    -------\n",
    "    None\n",
    "\n",
    "    Examples\n",
    "    --------\n",
    "    >>> a = Array(6)\n",
    "    >>> a.array[:] = np.array([1, 2, 3, 4, 5, 6])\n",
    "    >>> out = Array(2)\n",
    "    >>> reduce_sum(a, out, 3)\n",
    "    >>> print(out)\n",
    "    array([ 6., 15.], dtype=float32)\n",
    "    \"\"\"\n",
    "    out.array[:] = a.array[:].reshape(-1, reduce_size).sum(axis=1)"
   ]
  },
  {
   "cell_type": "markdown",
   "id": "06a14de5-7a54-4ffa-a7df-76588354e14c",
   "metadata": {},
   "source": [
    "### matmul"
   ]
  },
  {
   "cell_type": "code",
   "execution_count": null,
   "id": "e193bdc9-aa2e-4344-85a7-384eba8df170",
   "metadata": {},
   "outputs": [],
   "source": [
    "m,n,p = 2, 3, 2\n",
    "a = np.array([1, 2, 3, 4, 5, 6])\n",
    "b = np.array([7, 8, 9, 10, 11, 12])\n",
    "out = Array(4)"
   ]
  },
  {
   "cell_type": "code",
   "execution_count": null,
   "id": "2b14b804-bfe2-4ec3-bc4c-60e61352fdb5",
   "metadata": {},
   "outputs": [
    {
     "data": {
      "text/plain": [
       "array([[ 58,  64],\n",
       "       [139, 154]])"
      ]
     },
     "execution_count": null,
     "metadata": {},
     "output_type": "execute_result"
    }
   ],
   "source": [
    "res = a.reshape(m, n) @ b.reshape(n, p)\n",
    "res"
   ]
  },
  {
   "cell_type": "code",
   "execution_count": null,
   "id": "1368b977-9c0b-434e-9f56-a85e33e767ea",
   "metadata": {},
   "outputs": [
    {
     "data": {
      "text/plain": [
       "array([ 58,  64, 139, 154])"
      ]
     },
     "execution_count": null,
     "metadata": {},
     "output_type": "execute_result"
    }
   ],
   "source": [
    "res.reshape(-1)"
   ]
  },
  {
   "cell_type": "code",
   "execution_count": null,
   "id": "4deae7b4-4307-4950-a1b5-e2faaf8ee437",
   "metadata": {},
   "outputs": [],
   "source": [
    "#| export\n",
    "def matmul(a: Array, b: Array, out: Array, m: int, n: int, p: int):\n",
    "    \"\"\"\n",
    "    Performs matrix multiplication between two Array objects and assigns the result to another Array object.\n",
    "\n",
    "    This function reshapes the underlying numpy arrays of `a` and `b` to matrices of dimensions `(m, n)` and `(n, p)` respectively. \n",
    "    It then performs matrix multiplication (`a @ b`), reshapes the result back into a 1D array, \n",
    "    and assigns it to the underlying numpy array of `out`.\n",
    "\n",
    "    Parameters\n",
    "    ----------\n",
    "    a, b : Array\n",
    "        The Array objects to be multiplied. The sizes of `a.array` and `b.array` should be `m*n` and `n*p` respectively.\n",
    "    out : Array\n",
    "        The Array object whose underlying numpy array is to be assigned the result.\n",
    "    m, n, p : int\n",
    "        The dimensions for reshaping `a.array`, `b.array` and the multiplication result.\n",
    "\n",
    "    Returns\n",
    "    -------\n",
    "    None\n",
    "\n",
    "    Examples\n",
    "    --------\n",
    "    >>> a = Array(6)\n",
    "    >>> a.array[:] = np.array([1, 2, 3, 4, 5, 6])\n",
    "    >>> b = Array(6)\n",
    "    >>> b.array[:] = np.array([7, 8, 9, 10, 11, 12])\n",
    "    >>> out = Array(4)\n",
    "    >>> matmul(a, b, out, 2, 3, 2)\n",
    "    >>> print(out)\n",
    "    array([ 58.,  64., 139., 154.], dtype=float32)\n",
    "    \"\"\"\n",
    "    out.array[:] = (a.array.reshape(m, n) @ b.array.reshape(n, p)).reshape(-1)"
   ]
  },
  {
   "cell_type": "code",
   "execution_count": null,
   "id": "c9941e15-f760-47a1-81c6-92956f0bb355",
   "metadata": {},
   "outputs": [
    {
     "name": "stdout",
     "output_type": "stream",
     "text": [
      "array([ 58.,  64., 139., 154.], dtype=float32)\n"
     ]
    }
   ],
   "source": [
    "a = Array(6)\n",
    "a.array[:] = np.array([1, 2, 3, 4, 5, 6])\n",
    "b = Array(6)\n",
    "b.array[:] = np.array([7, 8, 9, 10, 11, 12])\n",
    "out = Array(4)\n",
    "matmul(a, b, out, 2, 3, 2)\n",
    "print(out)"
   ]
  },
  {
   "cell_type": "markdown",
   "id": "7fd11159-3f14-4c77-962e-03cceaa6f392",
   "metadata": {},
   "source": [
    "## Export"
   ]
  },
  {
   "cell_type": "code",
   "execution_count": null,
   "id": "5869c45d-35f8-4c82-92d6-7fae0419d585",
   "metadata": {},
   "outputs": [
    {
     "ename": "AssertionError",
     "evalue": "",
     "output_type": "error",
     "traceback": [
      "\u001b[0;31m---------------------------------------------------------------------------\u001b[0m",
      "\u001b[0;31mAssertionError\u001b[0m                            Traceback (most recent call last)",
      "Cell \u001b[0;32mIn[56], line 1\u001b[0m\n\u001b[0;32m----> 1\u001b[0m \u001b[38;5;28;01mimport\u001b[39;00m \u001b[38;5;21;01mnbdev\u001b[39;00m; \u001b[43mnbdev\u001b[49m\u001b[38;5;241;43m.\u001b[39;49m\u001b[43mnbdev_export\u001b[49m\u001b[43m(\u001b[49m\u001b[43m)\u001b[49m\n",
      "File \u001b[0;32m~/mambaforge/lib/python3.10/site-packages/fastcore/script.py:110\u001b[0m, in \u001b[0;36mcall_parse.<locals>._f\u001b[0;34m(*args, **kwargs)\u001b[0m\n\u001b[1;32m    107\u001b[0m \u001b[38;5;129m@wraps\u001b[39m(func)\n\u001b[1;32m    108\u001b[0m \u001b[38;5;28;01mdef\u001b[39;00m \u001b[38;5;21m_f\u001b[39m(\u001b[38;5;241m*\u001b[39margs, \u001b[38;5;241m*\u001b[39m\u001b[38;5;241m*\u001b[39mkwargs):\n\u001b[1;32m    109\u001b[0m     mod \u001b[38;5;241m=\u001b[39m inspect\u001b[38;5;241m.\u001b[39mgetmodule(inspect\u001b[38;5;241m.\u001b[39mcurrentframe()\u001b[38;5;241m.\u001b[39mf_back)\n\u001b[0;32m--> 110\u001b[0m     \u001b[38;5;28;01mif\u001b[39;00m \u001b[38;5;129;01mnot\u001b[39;00m mod: \u001b[38;5;28;01mreturn\u001b[39;00m \u001b[43mfunc\u001b[49m\u001b[43m(\u001b[49m\u001b[38;5;241;43m*\u001b[39;49m\u001b[43margs\u001b[49m\u001b[43m,\u001b[49m\u001b[43m \u001b[49m\u001b[38;5;241;43m*\u001b[39;49m\u001b[38;5;241;43m*\u001b[39;49m\u001b[43mkwargs\u001b[49m\u001b[43m)\u001b[49m\n\u001b[1;32m    111\u001b[0m     \u001b[38;5;28;01mif\u001b[39;00m \u001b[38;5;129;01mnot\u001b[39;00m SCRIPT_INFO\u001b[38;5;241m.\u001b[39mfunc \u001b[38;5;129;01mand\u001b[39;00m mod\u001b[38;5;241m.\u001b[39m\u001b[38;5;18m__name__\u001b[39m\u001b[38;5;241m==\u001b[39m\u001b[38;5;124m\"\u001b[39m\u001b[38;5;124m__main__\u001b[39m\u001b[38;5;124m\"\u001b[39m: SCRIPT_INFO\u001b[38;5;241m.\u001b[39mfunc \u001b[38;5;241m=\u001b[39m func\u001b[38;5;241m.\u001b[39m\u001b[38;5;18m__name__\u001b[39m\n\u001b[1;32m    112\u001b[0m     \u001b[38;5;28;01mif\u001b[39;00m \u001b[38;5;28mlen\u001b[39m(sys\u001b[38;5;241m.\u001b[39margv)\u001b[38;5;241m>\u001b[39m\u001b[38;5;241m1\u001b[39m \u001b[38;5;129;01mand\u001b[39;00m sys\u001b[38;5;241m.\u001b[39margv[\u001b[38;5;241m1\u001b[39m]\u001b[38;5;241m==\u001b[39m\u001b[38;5;124m'\u001b[39m\u001b[38;5;124m'\u001b[39m: sys\u001b[38;5;241m.\u001b[39margv\u001b[38;5;241m.\u001b[39mpop(\u001b[38;5;241m1\u001b[39m)\n",
      "File \u001b[0;32m~/mambaforge/lib/python3.10/site-packages/nbdev/doclinks.py:138\u001b[0m, in \u001b[0;36mnbdev_export\u001b[0;34m(path, **kwargs)\u001b[0m\n\u001b[1;32m    136\u001b[0m \u001b[38;5;28;01mif\u001b[39;00m os\u001b[38;5;241m.\u001b[39menviron\u001b[38;5;241m.\u001b[39mget(\u001b[38;5;124m'\u001b[39m\u001b[38;5;124mIN_TEST\u001b[39m\u001b[38;5;124m'\u001b[39m,\u001b[38;5;241m0\u001b[39m): \u001b[38;5;28;01mreturn\u001b[39;00m\n\u001b[1;32m    137\u001b[0m files \u001b[38;5;241m=\u001b[39m nbglob(path\u001b[38;5;241m=\u001b[39mpath, as_path\u001b[38;5;241m=\u001b[39m\u001b[38;5;28;01mTrue\u001b[39;00m, \u001b[38;5;241m*\u001b[39m\u001b[38;5;241m*\u001b[39mkwargs)\u001b[38;5;241m.\u001b[39msorted(\u001b[38;5;124m'\u001b[39m\u001b[38;5;124mname\u001b[39m\u001b[38;5;124m'\u001b[39m)\n\u001b[0;32m--> 138\u001b[0m \u001b[38;5;28;01mfor\u001b[39;00m f \u001b[38;5;129;01min\u001b[39;00m files: \u001b[43mnb_export\u001b[49m\u001b[43m(\u001b[49m\u001b[43mf\u001b[49m\u001b[43m)\u001b[49m\n\u001b[1;32m    139\u001b[0m add_init(get_config()\u001b[38;5;241m.\u001b[39mlib_path)\n\u001b[1;32m    140\u001b[0m _build_modidx()\n",
      "File \u001b[0;32m~/mambaforge/lib/python3.10/site-packages/nbdev/export.py:59\u001b[0m, in \u001b[0;36mnb_export\u001b[0;34m(nbname, lib_path, procs, debug, mod_maker, name)\u001b[0m\n\u001b[1;32m     57\u001b[0m     \u001b[38;5;28;01mreturn\u001b[39;00m\n\u001b[1;32m     58\u001b[0m mm \u001b[38;5;241m=\u001b[39m mod_maker(dest\u001b[38;5;241m=\u001b[39mlib_path, name\u001b[38;5;241m=\u001b[39mnm, nb_path\u001b[38;5;241m=\u001b[39mnbname, is_new\u001b[38;5;241m=\u001b[39m\u001b[38;5;28mbool\u001b[39m(name) \u001b[38;5;129;01mor\u001b[39;00m mod\u001b[38;5;241m==\u001b[39m\u001b[38;5;124m'\u001b[39m\u001b[38;5;124m#\u001b[39m\u001b[38;5;124m'\u001b[39m)\n\u001b[0;32m---> 59\u001b[0m \u001b[43mmm\u001b[49m\u001b[38;5;241;43m.\u001b[39;49m\u001b[43mmake\u001b[49m\u001b[43m(\u001b[49m\u001b[43mcells\u001b[49m\u001b[43m,\u001b[49m\u001b[43m \u001b[49m\u001b[43mall_cells\u001b[49m\u001b[43m,\u001b[49m\u001b[43m \u001b[49m\u001b[43mlib_path\u001b[49m\u001b[38;5;241;43m=\u001b[39;49m\u001b[43mlib_path\u001b[49m\u001b[43m)\u001b[49m\n",
      "File \u001b[0;32m~/mambaforge/lib/python3.10/site-packages/nbdev/maker.py:195\u001b[0m, in \u001b[0;36mmake\u001b[0;34m(self, cells, all_cells, lib_path)\u001b[0m\n\u001b[1;32m    193\u001b[0m     \u001b[38;5;28;01mif\u001b[39;00m \u001b[38;5;129;01mnot\u001b[39;00m lib_path: lib_path \u001b[38;5;241m=\u001b[39m get_config()\u001b[38;5;241m.\u001b[39mlib_path\n\u001b[1;32m    194\u001b[0m     mod_dir \u001b[38;5;241m=\u001b[39m os\u001b[38;5;241m.\u001b[39mpath\u001b[38;5;241m.\u001b[39mrelpath(\u001b[38;5;28mself\u001b[39m\u001b[38;5;241m.\u001b[39mfname\u001b[38;5;241m.\u001b[39mparent, Path(lib_path)\u001b[38;5;241m.\u001b[39mparent)\n\u001b[0;32m--> 195\u001b[0m     \u001b[43m_import2relative\u001b[49m\u001b[43m(\u001b[49m\u001b[43mall_cells\u001b[49m\u001b[43m,\u001b[49m\u001b[43m \u001b[49m\u001b[43mmod_dir\u001b[49m\u001b[43m)\u001b[49m\n\u001b[1;32m    196\u001b[0m \u001b[38;5;28;01mif\u001b[39;00m \u001b[38;5;129;01mnot\u001b[39;00m \u001b[38;5;28mself\u001b[39m\u001b[38;5;241m.\u001b[39mis_new: \u001b[38;5;28;01mreturn\u001b[39;00m \u001b[38;5;28mself\u001b[39m\u001b[38;5;241m.\u001b[39m_make_exists(cells, all_cells)\n\u001b[1;32m    198\u001b[0m \u001b[38;5;28mself\u001b[39m\u001b[38;5;241m.\u001b[39mfname\u001b[38;5;241m.\u001b[39mparent\u001b[38;5;241m.\u001b[39mmkdir(exist_ok\u001b[38;5;241m=\u001b[39m\u001b[38;5;28;01mTrue\u001b[39;00m, parents\u001b[38;5;241m=\u001b[39m\u001b[38;5;28;01mTrue\u001b[39;00m)\n",
      "File \u001b[0;32m~/mambaforge/lib/python3.10/site-packages/nbdev/maker.py:174\u001b[0m, in \u001b[0;36m_import2relative\u001b[0;34m(cells, lib_name)\u001b[0m\n\u001b[1;32m    172\u001b[0m \u001b[38;5;124m\"\u001b[39m\u001b[38;5;124mConverts `cells` to use `import2relative` based on `lib_name`\u001b[39m\u001b[38;5;124m\"\u001b[39m\n\u001b[1;32m    173\u001b[0m \u001b[38;5;28;01mif\u001b[39;00m lib_name \u001b[38;5;129;01mis\u001b[39;00m \u001b[38;5;28;01mNone\u001b[39;00m: lib_name \u001b[38;5;241m=\u001b[39m get_config()\u001b[38;5;241m.\u001b[39mlib_name\n\u001b[0;32m--> 174\u001b[0m \u001b[38;5;28;01mfor\u001b[39;00m cell \u001b[38;5;129;01min\u001b[39;00m cells: \u001b[43mcell\u001b[49m\u001b[38;5;241;43m.\u001b[39;49m\u001b[43mimport2relative\u001b[49m\u001b[43m(\u001b[49m\u001b[43mlib_name\u001b[49m\u001b[43m)\u001b[49m\n",
      "File \u001b[0;32m~/mambaforge/lib/python3.10/site-packages/nbdev/maker.py:158\u001b[0m, in \u001b[0;36mimport2relative\u001b[0;34m(cell, libname)\u001b[0m\n\u001b[1;32m    156\u001b[0m \u001b[38;5;129m@patch\u001b[39m\n\u001b[1;32m    157\u001b[0m \u001b[38;5;28;01mdef\u001b[39;00m \u001b[38;5;21mimport2relative\u001b[39m(cell:NbCell, libname):\n\u001b[0;32m--> 158\u001b[0m     src \u001b[38;5;241m=\u001b[39m \u001b[43mupdate_import\u001b[49m\u001b[43m(\u001b[49m\u001b[43mcell\u001b[49m\u001b[38;5;241;43m.\u001b[39;49m\u001b[43msource\u001b[49m\u001b[43m,\u001b[49m\u001b[43m \u001b[49m\u001b[43mcell\u001b[49m\u001b[38;5;241;43m.\u001b[39;49m\u001b[43mparsed_\u001b[49m\u001b[43m(\u001b[49m\u001b[43m)\u001b[49m\u001b[43m,\u001b[49m\u001b[43m \u001b[49m\u001b[43mlibname\u001b[49m\u001b[43m)\u001b[49m\n\u001b[1;32m    159\u001b[0m     \u001b[38;5;28;01mif\u001b[39;00m src: cell\u001b[38;5;241m.\u001b[39mset_source(src)\n",
      "File \u001b[0;32m~/mambaforge/lib/python3.10/site-packages/nbdev/maker.py:149\u001b[0m, in \u001b[0;36mupdate_import\u001b[0;34m(source, tree, libname, f)\u001b[0m\n\u001b[1;32m    147\u001b[0m src \u001b[38;5;241m=\u001b[39m source\u001b[38;5;241m.\u001b[39msplitlines(\u001b[38;5;28;01mTrue\u001b[39;00m)\n\u001b[1;32m    148\u001b[0m \u001b[38;5;28;01mfor\u001b[39;00m imp \u001b[38;5;129;01min\u001b[39;00m imps:\n\u001b[0;32m--> 149\u001b[0m     nmod \u001b[38;5;241m=\u001b[39m \u001b[43mf\u001b[49m\u001b[43m(\u001b[49m\u001b[43mimp\u001b[49m\u001b[38;5;241;43m.\u001b[39;49m\u001b[43mmodule\u001b[49m\u001b[43m,\u001b[49m\u001b[43m \u001b[49m\u001b[43mlibname\u001b[49m\u001b[43m,\u001b[49m\u001b[43m \u001b[49m\u001b[43mimp\u001b[49m\u001b[38;5;241;43m.\u001b[39;49m\u001b[43mlevel\u001b[49m\u001b[43m)\u001b[49m\n\u001b[1;32m    150\u001b[0m     lin \u001b[38;5;241m=\u001b[39m imp\u001b[38;5;241m.\u001b[39mlineno\u001b[38;5;241m-\u001b[39m\u001b[38;5;241m1\u001b[39m\n\u001b[1;32m    151\u001b[0m     sec \u001b[38;5;241m=\u001b[39m src[lin][imp\u001b[38;5;241m.\u001b[39mcol_offset:imp\u001b[38;5;241m.\u001b[39mend_col_offset]\n",
      "File \u001b[0;32m~/mambaforge/lib/python3.10/site-packages/nbdev/maker.py:114\u001b[0m, in \u001b[0;36mrelative_import\u001b[0;34m(name, fname, level)\u001b[0m\n\u001b[1;32m    112\u001b[0m \u001b[38;5;28;01mdef\u001b[39;00m \u001b[38;5;21mrelative_import\u001b[39m(name, fname, level\u001b[38;5;241m=\u001b[39m\u001b[38;5;241m0\u001b[39m):\n\u001b[1;32m    113\u001b[0m     \u001b[38;5;124m\"\u001b[39m\u001b[38;5;124mConvert a module `name` to a name relative to `fname`\u001b[39m\u001b[38;5;124m\"\u001b[39m\n\u001b[0;32m--> 114\u001b[0m     \u001b[38;5;28;01massert\u001b[39;00m \u001b[38;5;129;01mnot\u001b[39;00m level\n\u001b[1;32m    115\u001b[0m     sname \u001b[38;5;241m=\u001b[39m name\u001b[38;5;241m.\u001b[39mreplace(\u001b[38;5;124m'\u001b[39m\u001b[38;5;124m.\u001b[39m\u001b[38;5;124m'\u001b[39m,\u001b[38;5;124m'\u001b[39m\u001b[38;5;124m/\u001b[39m\u001b[38;5;124m'\u001b[39m)\n\u001b[1;32m    116\u001b[0m     \u001b[38;5;28;01mif\u001b[39;00m \u001b[38;5;129;01mnot\u001b[39;00m(os\u001b[38;5;241m.\u001b[39mpath\u001b[38;5;241m.\u001b[39mcommonpath([sname,fname])): \u001b[38;5;28;01mreturn\u001b[39;00m name\n",
      "\u001b[0;31mAssertionError\u001b[0m: "
     ]
    }
   ],
   "source": [
    "import nbdev; nbdev.nbdev_export()"
   ]
  },
  {
   "cell_type": "code",
   "execution_count": null,
   "id": "6cd5a678-35f9-417f-9584-8cd61555422b",
   "metadata": {},
   "outputs": [],
   "source": []
  },
  {
   "cell_type": "code",
   "execution_count": null,
   "id": "fa2098d9-a505-466d-9bef-f9f06c0c3363",
   "metadata": {},
   "outputs": [],
   "source": []
  }
 ],
 "metadata": {
  "kernelspec": {
   "display_name": "python3",
   "language": "python",
   "name": "python3"
  }
 },
 "nbformat": 4,
 "nbformat_minor": 5
}
