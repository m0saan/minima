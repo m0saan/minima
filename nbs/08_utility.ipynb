{
 "cells": [
  {
   "attachments": {},
   "cell_type": "markdown",
   "id": "1689583a-8c9b-454b-a867-cbc4aaad2e4e",
   "metadata": {},
   "source": [
    "# utility\n",
    "\n",
    "> utils for minima"
   ]
  },
  {
   "cell_type": "code",
   "execution_count": null,
   "id": "7d623cbb-80d8-455a-8a95-aed3e008c2c3",
   "metadata": {},
   "outputs": [],
   "source": [
    "#| default_exp utility"
   ]
  },
  {
   "cell_type": "code",
   "execution_count": null,
   "id": "87480aa2-54d6-4b3a-80a0-05bc4ff8eed2",
   "metadata": {},
   "outputs": [],
   "source": [
    "#| export\n",
    "import operator\n",
    "import math\n",
    "from functools import reduce"
   ]
  },
  {
   "cell_type": "code",
   "execution_count": null,
   "id": "0bab9906-5dfa-4c35-a3dd-a4b68d5d5cff",
   "metadata": {},
   "outputs": [],
   "source": [
    "#| export\n",
    "def prod(x):\n",
    "    return reduce(operator.mul, x, 1)"
   ]
  },
  {
   "cell_type": "markdown",
   "id": "7b6bf919-2480-4b8e-b860-eff1f1ae0afb",
   "metadata": {},
   "source": [
    "## Export"
   ]
  },
  {
   "cell_type": "code",
   "execution_count": null,
   "id": "1b71387a-bf4f-45e7-8b48-349712f0ec05",
   "metadata": {},
   "outputs": [],
   "source": [
    "import nbdev; nbdev.nbdev_export()"
   ]
  },
  {
   "cell_type": "code",
   "execution_count": null,
   "id": "b4b67e7d-39ce-4492-9003-ff3d276feadf",
   "metadata": {},
   "outputs": [],
   "source": []
  }
 ],
 "metadata": {
  "kernelspec": {
   "display_name": "python3",
   "language": "python",
   "name": "python3"
  }
 },
 "nbformat": 4,
 "nbformat_minor": 5
}
